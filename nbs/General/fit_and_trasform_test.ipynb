{
 "cells": [
  {
   "cell_type": "markdown",
   "metadata": {},
   "source": [
    "# Difference between fit, transform, predict"
   ]
  },
  {
   "cell_type": "code",
   "execution_count": 39,
   "metadata": {},
   "outputs": [],
   "source": [
    "import pandas\n",
    "from sklearn.model_selection import train_test_split\n",
    "from sklearn.preprocessing import StandardScaler\n",
    "from sklearn.linear_model import LogisticRegression\n",
    "from sklearn.metrics import confusion_matrix, classification_report"
   ]
  },
  {
   "cell_type": "markdown",
   "metadata": {},
   "source": [
    "## Data file open"
   ]
  },
  {
   "cell_type": "code",
   "execution_count": 4,
   "metadata": {},
   "outputs": [],
   "source": [
    "file_path = r'..\\..\\data\\titanic_train.csv'"
   ]
  },
  {
   "cell_type": "code",
   "execution_count": 5,
   "metadata": {},
   "outputs": [
    {
     "data": {
      "application/javascript": "\n        if (window._pyforest_update_imports_cell) { window._pyforest_update_imports_cell('import pandas as pd'); }\n    ",
      "text/plain": [
       "<IPython.core.display.Javascript object>"
      ]
     },
     "metadata": {},
     "output_type": "display_data"
    },
    {
     "data": {
      "text/html": [
       "<div>\n",
       "<style scoped>\n",
       "    .dataframe tbody tr th:only-of-type {\n",
       "        vertical-align: middle;\n",
       "    }\n",
       "\n",
       "    .dataframe tbody tr th {\n",
       "        vertical-align: top;\n",
       "    }\n",
       "\n",
       "    .dataframe thead th {\n",
       "        text-align: right;\n",
       "    }\n",
       "</style>\n",
       "<table border=\"1\" class=\"dataframe\">\n",
       "  <thead>\n",
       "    <tr style=\"text-align: right;\">\n",
       "      <th></th>\n",
       "      <th>Survived</th>\n",
       "      <th>Pclass</th>\n",
       "      <th>Age</th>\n",
       "      <th>Fare</th>\n",
       "    </tr>\n",
       "  </thead>\n",
       "  <tbody>\n",
       "    <tr>\n",
       "      <th>0</th>\n",
       "      <td>0</td>\n",
       "      <td>3</td>\n",
       "      <td>22.0</td>\n",
       "      <td>7.2500</td>\n",
       "    </tr>\n",
       "    <tr>\n",
       "      <th>1</th>\n",
       "      <td>1</td>\n",
       "      <td>1</td>\n",
       "      <td>38.0</td>\n",
       "      <td>71.2833</td>\n",
       "    </tr>\n",
       "  </tbody>\n",
       "</table>\n",
       "</div>"
      ],
      "text/plain": [
       "   Survived  Pclass   Age     Fare\n",
       "0         0       3  22.0   7.2500\n",
       "1         1       1  38.0  71.2833"
      ]
     },
     "execution_count": 5,
     "metadata": {},
     "output_type": "execute_result"
    }
   ],
   "source": [
    "df = pd.read_csv(file_path, usecols=['Pclass', 'Age', 'Fare', 'Survived'])\n",
    "df.head(2)"
   ]
  },
  {
   "cell_type": "markdown",
   "metadata": {},
   "source": [
    "## EDA"
   ]
  },
  {
   "cell_type": "code",
   "execution_count": 6,
   "metadata": {},
   "outputs": [
    {
     "name": "stdout",
     "output_type": "stream",
     "text": [
      "<class 'pandas.core.frame.DataFrame'>\n",
      "RangeIndex: 891 entries, 0 to 890\n",
      "Data columns (total 4 columns):\n",
      " #   Column    Non-Null Count  Dtype  \n",
      "---  ------    --------------  -----  \n",
      " 0   Survived  891 non-null    int64  \n",
      " 1   Pclass    891 non-null    int64  \n",
      " 2   Age       714 non-null    float64\n",
      " 3   Fare      891 non-null    float64\n",
      "dtypes: float64(2), int64(2)\n",
      "memory usage: 28.0 KB\n"
     ]
    }
   ],
   "source": [
    "df.info()"
   ]
  },
  {
   "cell_type": "code",
   "execution_count": 7,
   "metadata": {},
   "outputs": [
    {
     "data": {
      "text/plain": [
       "array([0, 1], dtype=int64)"
      ]
     },
     "execution_count": 7,
     "metadata": {},
     "output_type": "execute_result"
    }
   ],
   "source": [
    "df.Survived.unique()"
   ]
  },
  {
   "cell_type": "code",
   "execution_count": 8,
   "metadata": {},
   "outputs": [
    {
     "data": {
      "text/plain": [
       "array([3, 1, 2], dtype=int64)"
      ]
     },
     "execution_count": 8,
     "metadata": {},
     "output_type": "execute_result"
    }
   ],
   "source": [
    "df.Pclass.unique()"
   ]
  },
  {
   "cell_type": "code",
   "execution_count": 9,
   "metadata": {},
   "outputs": [
    {
     "data": {
      "text/plain": [
       "Survived      0\n",
       "Pclass        0\n",
       "Age         177\n",
       "Fare          0\n",
       "dtype: int64"
      ]
     },
     "execution_count": 9,
     "metadata": {},
     "output_type": "execute_result"
    }
   ],
   "source": [
    "df.isnull().sum()"
   ]
  },
  {
   "cell_type": "code",
   "execution_count": 10,
   "metadata": {},
   "outputs": [],
   "source": [
    "df['Age'].fillna(df.Age.median(), inplace=True)"
   ]
  },
  {
   "cell_type": "code",
   "execution_count": 11,
   "metadata": {},
   "outputs": [
    {
     "data": {
      "text/plain": [
       "Survived    0\n",
       "Pclass      0\n",
       "Age         0\n",
       "Fare        0\n",
       "dtype: int64"
      ]
     },
     "execution_count": 11,
     "metadata": {},
     "output_type": "execute_result"
    }
   ],
   "source": [
    "df.isnull().sum()"
   ]
  },
  {
   "cell_type": "markdown",
   "metadata": {},
   "source": [
    "## train test split"
   ]
  },
  {
   "cell_type": "code",
   "execution_count": 19,
   "metadata": {},
   "outputs": [],
   "source": [
    "X = df.iloc[:, 1:]\n",
    "y = df.iloc[:,0]"
   ]
  },
  {
   "cell_type": "code",
   "execution_count": 20,
   "metadata": {},
   "outputs": [
    {
     "data": {
      "text/html": [
       "<div>\n",
       "<style scoped>\n",
       "    .dataframe tbody tr th:only-of-type {\n",
       "        vertical-align: middle;\n",
       "    }\n",
       "\n",
       "    .dataframe tbody tr th {\n",
       "        vertical-align: top;\n",
       "    }\n",
       "\n",
       "    .dataframe thead th {\n",
       "        text-align: right;\n",
       "    }\n",
       "</style>\n",
       "<table border=\"1\" class=\"dataframe\">\n",
       "  <thead>\n",
       "    <tr style=\"text-align: right;\">\n",
       "      <th></th>\n",
       "      <th>Pclass</th>\n",
       "      <th>Age</th>\n",
       "      <th>Fare</th>\n",
       "    </tr>\n",
       "  </thead>\n",
       "  <tbody>\n",
       "    <tr>\n",
       "      <th>0</th>\n",
       "      <td>3</td>\n",
       "      <td>22.0</td>\n",
       "      <td>7.2500</td>\n",
       "    </tr>\n",
       "    <tr>\n",
       "      <th>1</th>\n",
       "      <td>1</td>\n",
       "      <td>38.0</td>\n",
       "      <td>71.2833</td>\n",
       "    </tr>\n",
       "  </tbody>\n",
       "</table>\n",
       "</div>"
      ],
      "text/plain": [
       "   Pclass   Age     Fare\n",
       "0       3  22.0   7.2500\n",
       "1       1  38.0  71.2833"
      ]
     },
     "execution_count": 20,
     "metadata": {},
     "output_type": "execute_result"
    }
   ],
   "source": [
    "X.head(2)"
   ]
  },
  {
   "cell_type": "code",
   "execution_count": null,
   "metadata": {},
   "outputs": [],
   "source": [
    "y"
   ]
  },
  {
   "cell_type": "code",
   "execution_count": 23,
   "metadata": {},
   "outputs": [
    {
     "data": {
      "application/javascript": "\n        if (window._pyforest_update_imports_cell) { window._pyforest_update_imports_cell('import pandas as pd\\nimport seaborn as sns\\nimport matplotlib.pyplot as plt\\nimport sklearn'); }\n    ",
      "text/plain": [
       "<IPython.core.display.Javascript object>"
      ]
     },
     "metadata": {},
     "output_type": "display_data"
    },
    {
     "name": "stderr",
     "output_type": "stream",
     "text": [
      "C:\\Users\\595244\\Anaconda3\\envs\\krish_env_new\\lib\\site-packages\\seaborn\\distributions.py:2619: FutureWarning: `distplot` is a deprecated function and will be removed in a future version. Please adapt your code to use either `displot` (a figure-level function with similar flexibility) or `histplot` (an axes-level function for histograms).\n",
      "  warnings.warn(msg, FutureWarning)\n"
     ]
    },
    {
     "data": {
      "text/plain": [
       "<AxesSubplot:xlabel='Survived', ylabel='Density'>"
      ]
     },
     "execution_count": 23,
     "metadata": {},
     "output_type": "execute_result"
    },
    {
     "data": {
      "image/png": "[encoded data removed]",
      "text/plain": [
       "<Figure size 432x288 with 1 Axes>"
      ]
     },
     "metadata": {
      "needs_background": "light"
     },
     "output_type": "display_data"
    }
   ],
   "source": [
    "sns.distplot(y)"
   ]
  },
  {
   "cell_type": "code",
   "execution_count": 22,
   "metadata": {},
   "outputs": [
    {
     "data": {
      "text/plain": [
       "(pandas.core.frame.DataFrame, pandas.core.series.Series)"
      ]
     },
     "execution_count": 22,
     "metadata": {},
     "output_type": "execute_result"
    }
   ],
   "source": [
    "type(X), type(y)"
   ]
  },
  {
   "cell_type": "code",
   "execution_count": 17,
   "metadata": {},
   "outputs": [],
   "source": [
    "X_train, X_test, y_train, y_test = train_test_split(X, y, test_size=0.2, random_state=42)"
   ]
  },
  {
   "cell_type": "code",
   "execution_count": 18,
   "metadata": {},
   "outputs": [
    {
     "data": {
      "text/plain": [
       "(712, 712, 179, 179)"
      ]
     },
     "execution_count": 18,
     "metadata": {},
     "output_type": "execute_result"
    }
   ],
   "source": [
    "len(X_train), len(y_train), len(X_test), len(y_test)"
   ]
  },
  {
   "cell_type": "markdown",
   "metadata": {},
   "source": [
    "## Transform the feature (StandardScaler)"
   ]
  },
  {
   "cell_type": "code",
   "execution_count": 27,
   "metadata": {},
   "outputs": [],
   "source": [
    "scaler = StandardScaler()"
   ]
  },
  {
   "cell_type": "code",
   "execution_count": 28,
   "metadata": {},
   "outputs": [],
   "source": [
    "X_train_scaled = scaler.fit_transform(X_train)"
   ]
  },
  {
   "cell_type": "code",
   "execution_count": 29,
   "metadata": {},
   "outputs": [
    {
     "data": {
      "text/plain": [
       "array([[-1.61413602,  1.25364106, -0.07868358],\n",
       "       [-0.40055118, -0.47728355, -0.37714494],\n",
       "       [ 0.81303367,  0.21508629, -0.47486697],\n",
       "       ...,\n",
       "       [ 0.81303367,  0.90745614, -0.35580399],\n",
       "       [-1.61413602, -1.1696534 ,  1.68320121],\n",
       "       [-1.61413602, -0.63114352,  0.86074761]])"
      ]
     },
     "execution_count": 29,
     "metadata": {},
     "output_type": "execute_result"
    }
   ],
   "source": [
    "X_train_scaled"
   ]
  },
  {
   "cell_type": "code",
   "execution_count": 30,
   "metadata": {},
   "outputs": [
    {
     "data": {
      "text/plain": [
       "array([ 2.33005618, 29.20412921, 32.58627612])"
      ]
     },
     "execution_count": 30,
     "metadata": {},
     "output_type": "execute_result"
    }
   ],
   "source": [
    "scaler.mean_"
   ]
  },
  {
   "cell_type": "code",
   "execution_count": 31,
   "metadata": {},
   "outputs": [],
   "source": [
    "X_test_scaled = scaler.transform(X_test)"
   ]
  },
  {
   "cell_type": "code",
   "execution_count": 32,
   "metadata": {},
   "outputs": [
    {
     "data": {
      "text/plain": [
       "array([[ 8.13033667e-01, -9.26336398e-02, -3.33900778e-01],\n",
       "       [-4.00551178e-01,  1.38156309e-01, -4.25283869e-01],\n",
       "       [ 8.13033667e-01, -7.08073503e-01, -4.74866965e-01],\n",
       "       [-4.00551178e-01, -1.78509326e+00,  7.96648968e-03],\n",
       "       [ 8.13033667e-01, -1.16965340e+00, -4.11002011e-01],\n",
       "       [-1.61413602e+00, -2.46493606e-01,  8.90834443e-01],\n",
       "       [ 8.13033667e-01, -9.26336398e-02, -4.78236690e-01],\n",
       "       [ 8.13033667e-01, -1.01579343e+00, -2.80867083e-01],\n",
       "       [ 8.13033667e-01, -1.01579343e+00, -4.78236690e-01],\n",
       "       [-1.61413602e+00, -7.85003486e-01, -1.21367407e-01],\n",
       "       [-1.61413602e+00,  5.99736206e-01,  3.95003477e-01],\n",
       "       [ 8.13033667e-01,  1.13824609e+00, -4.72460019e-01],\n",
       "       [ 8.13033667e-01, -9.26336398e-02, -1.37091507e-01],\n",
       "       [ 8.13033667e-01,  6.12263260e-02, -4.88345865e-01],\n",
       "       [-4.00551178e-01,  5.22806223e-01, -3.77144940e-01],\n",
       "       [-1.61413602e+00, -1.01579343e+00,  1.31202147e-01],\n",
       "       [-1.61413602e+00,  9.84386120e-01,  3.84493786e-01],\n",
       "       [ 8.13033667e-01, -9.26336398e-02, -4.76711649e-01],\n",
       "       [-4.00551178e-01, -1.69563623e-01, -3.77144940e-01],\n",
       "       [-1.61413602e+00,  1.36903603e+00,  3.73822348e-01],\n",
       "       [ 8.13033667e-01, -4.00353571e-01, -4.75429228e-01],\n",
       "       [-1.61413602e+00,  3.68946257e-01, -1.16231946e-01],\n",
       "       [ 8.13033667e-01, -7.85003486e-01, -4.76230260e-01],\n",
       "       [ 8.13033667e-01, -7.08073503e-01, -4.49834723e-01],\n",
       "       [ 8.13033667e-01, -9.26336398e-02, -3.48261583e-01],\n",
       "       [ 8.13033667e-01, -1.47737333e+00, -9.02369249e-02],\n",
       "       [-1.61413602e+00,  8.30526155e-01, -9.36875233e-02],\n",
       "       [-4.00551178e-01,  1.38156309e-01, -3.77144940e-01],\n",
       "       [ 8.13033667e-01, -1.93895323e+00, -9.02369249e-02],\n",
       "       [ 8.13033667e-01,  1.38156309e-01, -4.76230260e-01],\n",
       "       [ 8.13033667e-01, -7.85003486e-01, -4.75429228e-01],\n",
       "       [ 8.13033667e-01, -5.54213537e-01, -4.78236690e-01],\n",
       "       [-1.61413602e+00, -9.26336398e-02, -3.64021981e-02],\n",
       "       [ 8.13033667e-01, -9.26336398e-02, -4.82087805e-01],\n",
       "       [ 8.13033667e-01, -8.61933468e-01, -4.72460019e-01],\n",
       "       [ 8.13033667e-01, -1.69563623e-01, -3.49143488e-01],\n",
       "       [-1.61413602e+00, -9.26336398e-02,  5.61054184e-02],\n",
       "       [ 8.13033667e-01, -9.26336398e-02, -4.78236690e-01],\n",
       "       [-1.61413602e+00,  6.12263260e-02, -3.05446533e-02],\n",
       "       [ 8.13033667e-01, -9.26336398e-02, -4.75429228e-01],\n",
       "       [-4.00551178e-01, -6.31143520e-01,  7.87817135e-01],\n",
       "       [ 8.13033667e-01, -1.57036569e-02, -4.91796464e-01],\n",
       "       [ 8.13033667e-01, -9.26336398e-02, -4.72460019e-01],\n",
       "       [ 8.13033667e-01, -9.26336398e-02, -4.78236690e-01],\n",
       "       [ 8.13033667e-01,  1.21517607e+00, -3.49143488e-01],\n",
       "       [ 8.13033667e-01, -1.01579343e+00,  3.44429005e-02],\n",
       "       [ 8.13033667e-01, -7.85003486e-01, -4.70374641e-01],\n",
       "       [ 8.13033667e-01, -4.77283554e-01, -4.49834723e-01],\n",
       "       [ 8.13033667e-01, -4.00353571e-01, -4.91715591e-01],\n",
       "       [-1.61413602e+00,  2.21526585e+00,  1.55370749e+00],\n",
       "       [ 8.13033667e-01, -1.86202325e+00, -2.56637797e-01],\n",
       "       [-1.61413602e+00,  1.75368595e+00,  1.17292856e+00],\n",
       "       [ 8.13033667e-01,  8.30526155e-01, -9.02369249e-02],\n",
       "       [-1.61413602e+00, -1.40044335e+00,  1.68320121e+00],\n",
       "       [ 8.13033667e-01,  2.75377573e+00, -4.78236690e-01],\n",
       "       [-1.61413602e+00, -8.61933468e-01,  9.06238900e-01],\n",
       "       [-4.00551178e-01,  2.15086292e-01, -4.25283869e-01],\n",
       "       [-1.61413602e+00,  1.59982598e+00,  4.13868709e+00],\n",
       "       [-4.00551178e-01,  4.45876240e-01, -2.23100368e-01],\n",
       "       [ 8.13033667e-01, -7.85003486e-01, -4.75748871e-01],\n",
       "       [ 8.13033667e-01, -6.31143520e-01, -4.77755301e-01],\n",
       "       [-4.00551178e-01, -1.24658338e+00, -2.51983725e-01],\n",
       "       [-4.00551178e-01, -9.26336398e-02, -1.26822511e-01],\n",
       "       [-1.61413602e+00, -9.26336398e-02, -1.28266679e-01],\n",
       "       [ 8.13033667e-01, -9.26336398e-02, -4.78236690e-01],\n",
       "       [-4.00551178e-01,  2.13833586e+00, -4.25283869e-01],\n",
       "       [-4.00551178e-01, -6.31143520e-01,  7.87817135e-01],\n",
       "       [ 8.13033667e-01, -1.57036569e-02, -4.75829744e-01],\n",
       "       [ 8.13033667e-01, -9.38863451e-01, -4.88264992e-01],\n",
       "       [-1.61413602e+00,  1.75368595e+00,  8.79602668e-01],\n",
       "       [-4.00551178e-01, -2.46493606e-01, -1.26822511e-01],\n",
       "       [-1.61413602e+00, -8.61933468e-01,  4.42471320e+00],\n",
       "       [-1.61413602e+00, -2.46493606e-01, -4.98002248e-02],\n",
       "       [-1.61413602e+00,  7.53596172e-01,  9.73793221e-01],\n",
       "       [ 8.13033667e-01, -4.77283554e-01, -4.76230260e-01],\n",
       "       [ 8.13033667e-01,  5.22806223e-01, -3.28043233e-01],\n",
       "       [ 8.13033667e-01,  9.96913174e-02, -4.78236690e-01],\n",
       "       [-1.61413602e+00, -5.54213537e-01,  3.25683419e-01],\n",
       "       [-4.00551178e-01,  6.76666189e-01, -3.77144940e-01],\n",
       "       [ 8.13033667e-01,  9.07456138e-01, -2.38264131e-01],\n",
       "       [ 8.13033667e-01, -1.01579343e+00,  1.36738124e-01],\n",
       "       [-4.00551178e-01, -1.57036569e-02, -4.25283869e-01],\n",
       "       [-1.61413602e+00,  8.30526155e-01,  1.96240700e+00],\n",
       "       [ 8.13033667e-01, -9.26336398e-02, -4.78477385e-01],\n",
       "       [-1.61413602e+00,  2.06140588e+00, -3.64021981e-02],\n",
       "       [-1.61413602e+00,  3.21535562e+00,  3.25764293e-01],\n",
       "       [-1.61413602e+00,  1.38156309e-01,  1.55370749e+00],\n",
       "       [-1.61413602e+00,  6.12263260e-02,  4.68736911e-01],\n",
       "       [-1.61413602e+00,  6.76666189e-01, -6.27467370e-01],\n",
       "       [ 8.13033667e-01, -9.26336398e-02, -4.87864476e-01],\n",
       "       [ 8.13033667e-01, -1.55430331e+00, -2.32246765e-01],\n",
       "       [ 8.13033667e-01, -1.55430331e+00, -2.52493711e-02],\n",
       "       [-1.61413602e+00,  2.44605579e+00, -5.11189448e-03],\n",
       "       [ 8.13033667e-01, -9.26336398e-02, -4.78637206e-01],\n",
       "       [ 8.13033667e-01, -9.26336398e-02, -4.75429228e-01],\n",
       "       [ 8.13033667e-01, -9.26336398e-02, -4.76230260e-01],\n",
       "       [-1.61413602e+00,  1.44596602e+00,  3.73822348e-01],\n",
       "       [ 8.13033667e-01,  1.21517607e+00, -4.72460019e-01],\n",
       "       [-4.00551178e-01,  5.22806223e-01, -3.77144940e-01],\n",
       "       [ 8.13033667e-01, -1.69563623e-01, -4.75429228e-01],\n",
       "       [-1.61413602e+00,  2.67684574e+00, -1.26822511e-01],\n",
       "       [ 8.13033667e-01,  4.45876240e-01, -4.90271423e-01],\n",
       "       [-1.61413602e+00, -7.85003486e-01,  1.12631468e+00],\n",
       "       [ 8.13033667e-01,  6.76666189e-01, -4.91715591e-01],\n",
       "       [ 8.13033667e-01,  9.96913174e-02, -4.72460019e-01],\n",
       "       [ 8.13033667e-01, -3.23423588e-01, -4.77755301e-01],\n",
       "       [-4.00551178e-01,  8.30526155e-01,  1.23499919e-01],\n",
       "       [-1.61413602e+00,  1.36903603e+00,  1.13872133e-01],\n",
       "       [ 8.13033667e-01,  6.12263260e-02, -4.44539440e-01],\n",
       "       [-1.61413602e+00,  8.30526155e-01, -3.05446533e-02],\n",
       "       [-1.61413602e+00, -9.26336398e-02,  3.73822348e-01],\n",
       "       [ 8.13033667e-01, -6.69608511e-01, -4.87864476e-01],\n",
       "       [-1.61413602e+00, -9.26336398e-02,  1.08828492e+00],\n",
       "       [-1.61413602e+00,  5.22806223e-01, -1.21286534e-01],\n",
       "       [-1.61413602e+00, -9.26336398e-02,  3.64301787e+00],\n",
       "       [ 8.13033667e-01, -7.08073503e-01, -4.37880864e-01],\n",
       "       [-1.61413602e+00,  3.21535562e+00,  3.98190560e-02],\n",
       "       [-4.00551178e-01,  5.22806223e-01, -3.79551887e-01],\n",
       "       [-4.00551178e-01, -5.54213537e-01, -6.90557963e-02],\n",
       "       [ 8.13033667e-01,  1.44596602e+00,  3.44429005e-02],\n",
       "       [-4.00551178e-01, -4.77283554e-01, -4.06028297e-01],\n",
       "       [-1.61413602e+00,  2.15086292e-01,  8.41572914e-01],\n",
       "       [-1.61413602e+00,  2.59991576e+00,  8.73664249e-01],\n",
       "       [-4.00551178e-01, -2.18282127e+00, -6.90557963e-02],\n",
       "       [ 8.13033667e-01, -3.23423588e-01, -4.87864476e-01],\n",
       "       [-1.61413602e+00,  4.45876240e-01, -1.16231946e-01],\n",
       "       [-1.61413602e+00,  1.52289600e+00, -1.28185805e-01],\n",
       "       [-1.61413602e+00, -4.00353571e-01,  8.97573893e-01],\n",
       "       [ 8.13033667e-01, -9.26336398e-02, -3.49064540e-01],\n",
       "       [ 8.13033667e-01, -6.31143520e-01, -4.72460019e-01],\n",
       "       [ 8.13033667e-01, -9.26336398e-02, -4.75748871e-01],\n",
       "       [ 8.13033667e-01, -9.26336398e-02, -3.33900778e-01],\n",
       "       [-4.00551178e-01, -9.26336398e-02, -6.27467370e-01],\n",
       "       [ 8.13033667e-01, -1.86202325e+00, -3.87254115e-01],\n",
       "       [-1.61413602e+00,  1.52289600e+00,  4.68736911e-01],\n",
       "       [ 8.13033667e-01, -1.09272342e+00, -3.49143488e-01],\n",
       "       [-1.61413602e+00, -9.26336398e-02,  1.50765394e+00],\n",
       "       [ 8.13033667e-01, -1.57036569e-02, -4.77755301e-01],\n",
       "       [ 8.13033667e-01,  9.84386120e-01, -4.82087805e-01],\n",
       "       [ 8.13033667e-01, -8.61933468e-01, -2.84718197e-01],\n",
       "       [ 8.13033667e-01, -6.31143520e-01, -4.65079358e-01],\n",
       "       [-4.00551178e-01,  1.13824609e+00, -1.26822511e-01],\n",
       "       [-4.00551178e-01, -9.26336398e-02, -3.77144940e-01],\n",
       "       [-4.00551178e-01,  5.99736206e-01, -1.26822511e-01],\n",
       "       [ 8.13033667e-01,  7.53596172e-01, -6.66488498e-02],\n",
       "       [-4.00551178e-01,  3.68946257e-01, -1.66129607e-03],\n",
       "       [-4.00551178e-01,  6.12263260e-02, -3.77144940e-01],\n",
       "       [-4.00551178e-01,  2.83070571e+00, -4.25283869e-01],\n",
       "       [-1.61413602e+00, -9.26336398e-02,  2.19387437e+00],\n",
       "       [ 8.13033667e-01,  1.06131610e+00, -4.72460019e-01],\n",
       "       [ 8.13033667e-01, -9.26336398e-02, -4.59703203e-01],\n",
       "       [ 8.13033667e-01, -4.00353571e-01, -4.83131457e-01],\n",
       "       [ 8.13033667e-01, -8.61933468e-01, -4.77354785e-01],\n",
       "       [ 8.13033667e-01, -9.26336398e-02, -1.62445318e-01],\n",
       "       [ 8.13033667e-01, -9.26336398e-02, -4.72460019e-01],\n",
       "       [ 8.13033667e-01, -9.26336398e-02, -4.91715591e-01],\n",
       "       [ 8.13033667e-01, -9.26336398e-02,  4.60391546e-01],\n",
       "       [ 8.13033667e-01, -9.26336398e-02, -4.77514607e-01],\n",
       "       [-4.00551178e-01,  5.22806223e-01, -1.26822511e-01],\n",
       "       [ 8.13033667e-01,  2.15086292e-01, -3.29006011e-01],\n",
       "       [ 8.13033667e-01, -4.38818563e-01, -4.88264992e-01],\n",
       "       [-1.61413602e+00, -9.26336398e-02, -1.16231946e-01],\n",
       "       [-4.00551178e-01,  7.53596172e-01, -3.77144940e-01],\n",
       "       [-1.61413602e+00, -9.26336398e-02,  9.54778344e-01],\n",
       "       [ 8.13033667e-01, -9.26336398e-02, -4.64597969e-01],\n",
       "       [-1.61413602e+00,  2.75377573e+00,  5.65977547e-01],\n",
       "       [-4.00551178e-01, -4.77283554e-01, -4.25283869e-01],\n",
       "       [-1.61413602e+00, -9.26336398e-02,  3.71174707e-01],\n",
       "       [ 8.13033667e-01, -5.54213537e-01, -4.75429228e-01],\n",
       "       [ 8.13033667e-01,  4.45876240e-01, -4.91715591e-01],\n",
       "       [-1.61413602e+00, -4.77283554e-01,  5.92532906e-01],\n",
       "       [-4.00551178e-01, -8.61933468e-01, -3.77144940e-01],\n",
       "       [-1.61413602e+00,  5.22806223e-01, -1.19360977e-01],\n",
       "       [ 8.13033667e-01, -1.55430331e+00, -3.33900778e-01],\n",
       "       [ 8.13033667e-01, -9.38863451e-01, -4.90271423e-01],\n",
       "       [ 8.13033667e-01, -9.26336398e-02, -4.88345865e-01],\n",
       "       [ 8.13033667e-01,  6.76666189e-01, -2.30831193e-02],\n",
       "       [-4.00551178e-01, -9.38863451e-01, -4.25283869e-01],\n",
       "       [ 8.13033667e-01, -1.93895323e+00, -3.05899326e-01]])"
      ]
     },
     "execution_count": 32,
     "metadata": {},
     "output_type": "execute_result"
    }
   ],
   "source": [
    "X_test_scaled"
   ]
  },
  {
   "cell_type": "markdown",
   "metadata": {},
   "source": [
    "## Model Building"
   ]
  },
  {
   "cell_type": "code",
   "execution_count": 34,
   "metadata": {},
   "outputs": [],
   "source": [
    "model = LogisticRegression()"
   ]
  },
  {
   "cell_type": "code",
   "execution_count": 35,
   "metadata": {},
   "outputs": [
    {
     "data": {
      "text/plain": [
       "LogisticRegression()"
      ]
     },
     "execution_count": 35,
     "metadata": {},
     "output_type": "execute_result"
    }
   ],
   "source": [
    "model.fit(X_train, y_train)"
   ]
  },
  {
   "cell_type": "code",
   "execution_count": 36,
   "metadata": {},
   "outputs": [],
   "source": [
    "y_hat = model.predict(X_test)"
   ]
  },
  {
   "cell_type": "code",
   "execution_count": 38,
   "metadata": {},
   "outputs": [
    {
     "name": "stdout",
     "output_type": "stream",
     "text": [
      "[[53  0  0]\n",
      " [ 0 33  0]\n",
      " [ 0  0 93]]\n"
     ]
    }
   ],
   "source": [
    "print(confusion_matrix(y_test, y_hat))"
   ]
  },
  {
   "cell_type": "code",
   "execution_count": 40,
   "metadata": {},
   "outputs": [
    {
     "name": "stdout",
     "output_type": "stream",
     "text": [
      "              precision    recall  f1-score   support\n",
      "\n",
      "           1       1.00      1.00      1.00        53\n",
      "           2       1.00      1.00      1.00        33\n",
      "           3       1.00      1.00      1.00        93\n",
      "\n",
      "    accuracy                           1.00       179\n",
      "   macro avg       1.00      1.00      1.00       179\n",
      "weighted avg       1.00      1.00      1.00       179\n",
      "\n"
     ]
    }
   ],
   "source": [
    "print(classification_report(y_test, y_hat))"
   ]
  },
  {
   "cell_type": "code",
   "execution_count": null,
   "metadata": {},
   "outputs": [],
   "source": []
  }
 ],
 "metadata": {
  "interpreter": {
   "hash": "61ea9aa73e02b58d53cb2ec6c42f910c12dcb2b185565d429cb0cdc896334cf8"
  },
  "kernelspec": {
   "display_name": "Python 3.7.11 64-bit ('krish_env_new': conda)",
   "name": "python3"
  },
  "language_info": {
   "codemirror_mode": {
    "name": "ipython",
    "version": 3
   },
   "file_extension": ".py",
   "mimetype": "text/x-python",
   "name": "python",
   "nbconvert_exporter": "python",
   "pygments_lexer": "ipython3",
   "version": "3.7.11"
  },
  "orig_nbformat": 4
 },
 "nbformat": 4,
 "nbformat_minor": 2
}
