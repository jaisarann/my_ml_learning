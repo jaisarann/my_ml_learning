{
 "cells": [
  {
   "cell_type": "code",
   "execution_count": null,
   "source": [
    "import pandas as pd\r\n",
    "import seaborn as sns\r\n",
    "import matplotlib.pyplot as plt \r\n",
    "%matplotlib.inline\r\n",
    "import seaborn as sns\r\n",
    "from sklearn.model_selection import train_test_split"
   ],
   "outputs": [],
   "metadata": {}
  },
  {
   "cell_type": "code",
   "execution_count": null,
   "source": [
    "train_data_path = r'data\\house_price_pred\\train.csv'\r\n",
    "test_data_path = r'data\\house_price_pred\\test.csv'"
   ],
   "outputs": [],
   "metadata": {}
  },
  {
   "cell_type": "code",
   "execution_count": null,
   "source": [
    "df = pd.read_csv(train_data_path)\r\n",
    "df.shape"
   ],
   "outputs": [],
   "metadata": {}
  },
  {
   "cell_type": "markdown",
   "source": [
    "# Exploratory Data Analysis"
   ],
   "metadata": {}
  },
  {
   "cell_type": "markdown",
   "source": [
    "## Missing Values"
   ],
   "metadata": {}
  },
  {
   "cell_type": "code",
   "execution_count": null,
   "source": [
    "pd.pandas.set_option('display.max_rows', None)"
   ],
   "outputs": [],
   "metadata": {}
  },
  {
   "cell_type": "code",
   "execution_count": null,
   "source": [
    "df.isnull().mean()"
   ],
   "outputs": [],
   "metadata": {}
  },
  {
   "cell_type": "code",
   "execution_count": null,
   "source": [
    "features_with_na = [feature for feature in df.columns if df[feature].isnull().sum() > 1]\r\n",
    "len(features_with_na), features_with_na"
   ],
   "outputs": [],
   "metadata": {}
  },
  {
   "cell_type": "code",
   "execution_count": null,
   "source": [
    "for feature in features_with_na:\r\n",
    "    print(feature, np.round(df[feature].isnull().mean(), 3), \"% missing\")"
   ],
   "outputs": [],
   "metadata": {}
  },
  {
   "cell_type": "markdown",
   "source": [
    "Find the relationship b/w missing values and target (sales price)"
   ],
   "metadata": {}
  },
  {
   "cell_type": "code",
   "execution_count": null,
   "source": [
    "df.columns"
   ],
   "outputs": [],
   "metadata": {}
  },
  {
   "cell_type": "code",
   "execution_count": null,
   "source": [
    "for feature in features_with_na:\r\n",
    "    df_cp = df.copy()\r\n",
    "    df_cp[feature] = np.where(df_cp[feature].isnull(), 1, 0)\r\n",
    "    \r\n",
    "    df_cp.groupby(feature)['SalePrice'].median().plot.bar()\r\n",
    "    plt.title(feature)\r\n",
    "    plt.show()"
   ],
   "outputs": [],
   "metadata": {}
  },
  {
   "cell_type": "markdown",
   "source": [
    "## Find Numerical variables"
   ],
   "metadata": {}
  },
  {
   "cell_type": "code",
   "execution_count": null,
   "source": [
    "numerical_features = [feature for feature in df.columns if df[feature].dtypes != 'O']\r\n",
    "print(len(numerical_features))\r\n",
    "df[numerical_features].head(2)"
   ],
   "outputs": [],
   "metadata": {}
  },
  {
   "cell_type": "markdown",
   "source": [
    "## Handle Temporal features (Data Time features)"
   ],
   "metadata": {}
  },
  {
   "cell_type": "code",
   "execution_count": null,
   "source": [
    "year_features = [feature for feature in numerical_features if 'Yr' in feature or 'Year' in feature]\r\n",
    "year_features"
   ],
   "outputs": [],
   "metadata": {}
  },
  {
   "cell_type": "code",
   "execution_count": null,
   "source": [
    "df[year_features].head(2)"
   ],
   "outputs": [],
   "metadata": {}
  },
  {
   "cell_type": "code",
   "execution_count": null,
   "source": [
    "for feature in year_features:\r\n",
    "    print(feature, df[feature].unique())"
   ],
   "outputs": [],
   "metadata": {}
  },
  {
   "cell_type": "code",
   "execution_count": null,
   "source": [
    "df.groupby('YrSold')['SalePrice'].median().plot()\r\n",
    "plt.xlabel('Year Sold')\r\n",
    "plt.ylabel('Sales Price')\r\n",
    "plt.show()"
   ],
   "outputs": [],
   "metadata": {}
  },
  {
   "cell_type": "markdown",
   "source": [
    "## Analyze Year Sold vs other year features"
   ],
   "metadata": {}
  },
  {
   "cell_type": "code",
   "execution_count": null,
   "source": [
    "for feature in year_features:\r\n",
    "    data_cp = df.copy()\r\n",
    "    if feature != 'YrSold':\r\n",
    "        data_cp[feature] = data_cp.YrSold - data_cp[feature]\r\n",
    "        plt.scatter(data_cp[feature], data_cp.SalePrice)\r\n",
    "        plt.show()"
   ],
   "outputs": [],
   "metadata": {}
  },
  {
   "cell_type": "markdown",
   "source": [
    "## Numerical features can be 1) Contineous 2) Discrete"
   ],
   "metadata": {}
  },
  {
   "cell_type": "markdown",
   "source": [
    "## Analyze Discrete numerical features"
   ],
   "metadata": {}
  },
  {
   "cell_type": "code",
   "execution_count": null,
   "source": [
    "df.columns"
   ],
   "outputs": [],
   "metadata": {}
  },
  {
   "cell_type": "code",
   "execution_count": null,
   "source": [
    "type(year_features)"
   ],
   "outputs": [],
   "metadata": {}
  },
  {
   "cell_type": "code",
   "execution_count": null,
   "source": [
    "discrete_features = [feature for feature in numerical_features if len(df[feature].unique()) < 25 and feature not in year_features + ['Id']] \r\n",
    "discrete_features"
   ],
   "outputs": [],
   "metadata": {}
  },
  {
   "cell_type": "code",
   "execution_count": null,
   "source": [
    "for feature in discrete_features:\r\n",
    "    df.groupby(feature)['SalePrice'].median().plot.bar()\r\n",
    "    plt.xlabel(feature)\r\n",
    "    plt.ylabel('Sale Price')\r\n",
    "    plt.show()"
   ],
   "outputs": [],
   "metadata": {}
  },
  {
   "cell_type": "markdown",
   "source": [
    "## Analyze Contineous numerical features"
   ],
   "metadata": {}
  },
  {
   "cell_type": "code",
   "execution_count": null,
   "source": [
    "cont_features = [feature for feature in numerical_features if feature not in discrete_features + year_features + ['Id']]\r\n",
    "cont_features"
   ],
   "outputs": [],
   "metadata": {}
  },
  {
   "cell_type": "markdown",
   "source": [
    "It is contineous features so plot histogram"
   ],
   "metadata": {}
  },
  {
   "cell_type": "code",
   "execution_count": null,
   "source": [
    "for feature in cont_features:\r\n",
    "    data_cp = df.copy()\r\n",
    "    \r\n",
    "    data_cp[feature].hist(bins=25)\r\n",
    "    plt.xlabel(feature)\r\n",
    "    plt.ylabel('Count')\r\n",
    "    plt.show()"
   ],
   "outputs": [],
   "metadata": {}
  },
  {
   "cell_type": "markdown",
   "source": [
    "## Except 'SalePrice' (Gaussian dist.) all other contineous features are skewed. So, need to do logarthmic transformation"
   ],
   "metadata": {}
  },
  {
   "cell_type": "code",
   "execution_count": null,
   "source": [
    "for feature in cont_features:\r\n",
    "    data = df.copy()\r\n",
    "    # print(data[feature].unique())\r\n",
    "    if 0 in data[feature].unique():\r\n",
    "        # print('True')\r\n",
    "        pass\r\n",
    "    else:\r\n",
    "        data[feature] = np.log(data[feature])\r\n",
    "        data.SalePrice = np.log(data.SalePrice)\r\n",
    "        plt.scatter(data[feature], data['SalePrice'])\r\n",
    "        plt.xlabel(feature)\r\n",
    "        plt.ylabel('Sale Price')\r\n",
    "        plt.show()\r\n",
    "        "
   ],
   "outputs": [],
   "metadata": {}
  },
  {
   "cell_type": "markdown",
   "source": [
    "## Handle Outliers"
   ],
   "metadata": {}
  },
  {
   "cell_type": "markdown",
   "source": [
    "Note : Outlier exists only in 'Contineous' values not in Categorical values. For ex, Categorical Variable Sex has values like 9 Male and 1 Female. We cann't say here, Female is Outlier."
   ],
   "metadata": {}
  },
  {
   "cell_type": "code",
   "execution_count": null,
   "source": [
    "for feature in cont_features:\r\n",
    "    data = df.copy()\r\n",
    "    \r\n",
    "    if 0 in data[feature].unique():\r\n",
    "        pass\r\n",
    "    else:\r\n",
    "        data[feature] = np.log(data[feature])\r\n",
    "        data.boxplot(feature)\r\n",
    "        plt.ylabel(feature)\r\n",
    "        plt.show()\r\n",
    "        "
   ],
   "outputs": [],
   "metadata": {}
  },
  {
   "cell_type": "markdown",
   "source": [
    "## Handle Categorical Variables"
   ],
   "metadata": {}
  },
  {
   "cell_type": "code",
   "execution_count": null,
   "source": [
    "cat_features = [feature for feature in df.columns if df[feature].dtypes == 'O']\r\n",
    "cat_features"
   ],
   "outputs": [],
   "metadata": {}
  },
  {
   "cell_type": "code",
   "execution_count": null,
   "source": [
    "for feature in cat_features:\r\n",
    "    print(f'The {feature} has {len(df[feature].unique())} unique values')"
   ],
   "outputs": [],
   "metadata": {}
  },
  {
   "cell_type": "markdown",
   "source": [
    "## Check Categorical variables relationship with Target (SalePrice)"
   ],
   "metadata": {}
  },
  {
   "cell_type": "code",
   "execution_count": null,
   "source": [
    "for feature in cat_features:\r\n",
    "    data = df.copy()\r\n",
    "    data.groupby(feature)['SalePrice'].median().plot.bar()\r\n",
    "    plt.xlabel(feature)\r\n",
    "    plt.ylabel('Sale price')\r\n",
    "    plt.show()"
   ],
   "outputs": [],
   "metadata": {}
  },
  {
   "cell_type": "markdown",
   "source": [
    "# Feature Engineering"
   ],
   "metadata": {}
  },
  {
   "cell_type": "markdown",
   "source": [
    "## Handle missing values in Categorical features"
   ],
   "metadata": {}
  },
  {
   "cell_type": "code",
   "execution_count": null,
   "source": [
    "cat_features_has_miss_values = [feature for feature in df.columns if df[feature].dtypes == 'O' and df[feature].isnull().sum() > 0]\r\n",
    "cat_features_has_miss_values"
   ],
   "outputs": [],
   "metadata": {}
  },
  {
   "cell_type": "code",
   "execution_count": null,
   "source": [
    "for feature in cat_features_has_miss_values:\r\n",
    "    print(f'Feature {feature} has {np.round(df[feature].isnull().mean(), 4)} % missing values')"
   ],
   "outputs": [],
   "metadata": {}
  },
  {
   "cell_type": "code",
   "execution_count": null,
   "source": [
    "def replace_cat_features(ds, nan_features):\r\n",
    "    data = ds.copy()\r\n",
    "    data[nan_features] = data[nan_features].fillna('Missing')\r\n",
    "    return data"
   ],
   "outputs": [],
   "metadata": {}
  },
  {
   "cell_type": "code",
   "execution_count": null,
   "source": [
    "df_bkup = df.copy()"
   ],
   "outputs": [],
   "metadata": {}
  },
  {
   "cell_type": "code",
   "execution_count": null,
   "source": [
    "df = replace_cat_features(df, cat_features_has_miss_values)\r\n",
    "df[cat_features_has_miss_values].isnull().sum()"
   ],
   "outputs": [],
   "metadata": {}
  },
  {
   "cell_type": "code",
   "execution_count": null,
   "source": [
    "df.head()"
   ],
   "outputs": [],
   "metadata": {}
  },
  {
   "cell_type": "markdown",
   "source": [
    "## Handling missing value in Numerical features"
   ],
   "metadata": {}
  },
  {
   "cell_type": "code",
   "execution_count": null,
   "source": [
    "num_feature_with_miss_values = [feature for feature in df.columns if df[feature].dtypes != 'O' and df[feature].isnull().sum() > 0]\r\n",
    "num_feature_with_miss_values\r\n"
   ],
   "outputs": [],
   "metadata": {}
  },
  {
   "cell_type": "code",
   "execution_count": null,
   "source": [
    "for feature in num_feature_with_miss_values:\r\n",
    "    print(f'{feature} has {np.round(df[feature].isnull().mean(), 4)} % of missing values')"
   ],
   "outputs": [],
   "metadata": {}
  },
  {
   "cell_type": "markdown",
   "source": [
    "### replace numerical feature nulls."
   ],
   "metadata": {}
  },
  {
   "cell_type": "code",
   "execution_count": null,
   "source": [
    "for feature in num_feature_with_miss_values:\r\n",
    "    #Find mean and update nan.\r\n",
    "    median_value = df[feature].median() #Since, lot of outlier found in num. values in EDA\r\n",
    "    df[feature].fillna(median_value, inplace=True)\r\n",
    "    \r\n",
    "    #create new feature for missing value features\r\n",
    "    df[feature + '_nan'] = np.where(df[feature].isnull(), 1, 0)\r\n",
    "    "
   ],
   "outputs": [],
   "metadata": {}
  },
  {
   "cell_type": "code",
   "execution_count": null,
   "source": [
    "df[num_feature_with_miss_values].isnull().sum()"
   ],
   "outputs": [],
   "metadata": {}
  },
  {
   "cell_type": "code",
   "execution_count": null,
   "source": [
    "df.columns"
   ],
   "outputs": [],
   "metadata": {}
  },
  {
   "cell_type": "markdown",
   "source": [
    "## Apply Log Normal Distribution on data skewed numerical features"
   ],
   "metadata": {}
  },
  {
   "cell_type": "code",
   "execution_count": null,
   "source": [
    "num_features_has_skewed_data = ['LotFrontage', 'LotArea', '1stFlrSF', 'GrLivArea', 'SalePrice' ]"
   ],
   "outputs": [],
   "metadata": {}
  },
  {
   "cell_type": "code",
   "execution_count": null,
   "source": [
    "df.head()"
   ],
   "outputs": [],
   "metadata": {}
  },
  {
   "cell_type": "code",
   "execution_count": null,
   "source": [
    "for feature in num_features_has_skewed_data:\r\n",
    "    df[feature] = np.log(df[feature])\r\n",
    "\r\n",
    "df.head()"
   ],
   "outputs": [],
   "metadata": {}
  },
  {
   "cell_type": "code",
   "execution_count": null,
   "source": [
    "for feature in num_features_has_skewed_data:\r\n",
    "    df[feature].hist(bins=25)\r\n",
    "    plt.show()"
   ],
   "outputs": [],
   "metadata": {}
  },
  {
   "cell_type": "markdown",
   "source": [
    "## Handling Rare Categorical Features\r\n"
   ],
   "metadata": {}
  },
  {
   "cell_type": "markdown",
   "source": [
    "Categorical features : Categories < 1% of Total observations can be updated as 'Rare_Val'"
   ],
   "metadata": {}
  },
  {
   "cell_type": "code",
   "execution_count": null,
   "source": [
    "cat_features1  = [feature for feature in df.columns if df[feature].dtypes == 'O']\r\n",
    "cat_features1"
   ],
   "outputs": [],
   "metadata": {}
  },
  {
   "cell_type": "code",
   "execution_count": null,
   "source": [
    "for feature in cat_features1:\r\n",
    "    temp = df.groupby(feature)['SalePrice'].count()/len(df)\r\n",
    "    temp_df = temp[temp > 0.01].index\r\n",
    "    df[feature] = np.where(df[feature].isin(temp_df), df[feature], 'Rare_val')\r\n",
    "    # print(f'{feature}, {temp}, {temp_df}')\r\n",
    "    # print('----')"
   ],
   "outputs": [],
   "metadata": {}
  },
  {
   "cell_type": "markdown",
   "source": [
    "# Feature Scaling"
   ],
   "metadata": {}
  },
  {
   "cell_type": "code",
   "execution_count": null,
   "source": [
    "len(df.columns)"
   ],
   "outputs": [],
   "metadata": {}
  },
  {
   "cell_type": "code",
   "execution_count": null,
   "source": [
    "feature_scale = [feature for feature in df.columns if feature not in ['Id', 'SalePrice']]\r\n",
    "len(feature_scale)"
   ],
   "outputs": [],
   "metadata": {}
  },
  {
   "cell_type": "code",
   "execution_count": null,
   "source": [
    "df.head()"
   ],
   "outputs": [],
   "metadata": {}
  },
  {
   "cell_type": "markdown",
   "source": [
    "## Label encoding"
   ],
   "metadata": {}
  },
  {
   "cell_type": "code",
   "execution_count": null,
   "source": [
    "len(cat_features), len(cat_features1)"
   ],
   "outputs": [],
   "metadata": {}
  },
  {
   "cell_type": "code",
   "execution_count": null,
   "source": [
    "df.groupby('MSZoning')['SalePrice'].mean()"
   ],
   "outputs": [],
   "metadata": {}
  },
  {
   "cell_type": "code",
   "execution_count": null,
   "source": [
    "# labels_ordered = df.groupby('MSZoning')['SalePrice'].mean().sort_values().index\r\n",
    "# labels_ordered = [{k:i} for i,k in enumerate(labels_ordered, 0)]\r\n",
    "# labels_ordered"
   ],
   "outputs": [],
   "metadata": {}
  },
  {
   "cell_type": "code",
   "execution_count": null,
   "source": [
    "for feature in cat_features:\r\n",
    "    labels_ordered = df.groupby(feature)['SalePrice'].mean().sort_values().index\r\n",
    "    labels_ordered = {k:i for i, k in enumerate(labels_ordered, 0)}\r\n",
    "    print(labels_ordered)\r\n",
    "    df[feature] = df[feature].map(labels_ordered)\r\n",
    "    \r\n"
   ],
   "outputs": [],
   "metadata": {}
  },
  {
   "cell_type": "code",
   "execution_count": null,
   "source": [
    "df[cat_features].head()"
   ],
   "outputs": [],
   "metadata": {}
  },
  {
   "cell_type": "markdown",
   "source": [
    "# Feature Scaling"
   ],
   "metadata": {}
  },
  {
   "cell_type": "code",
   "execution_count": null,
   "source": [
    "feature_scale = [feature for feature in df.columns if feature not in ['Id', 'SalePrice']]\r\n",
    "len(feature_scale)"
   ],
   "outputs": [],
   "metadata": {}
  },
  {
   "cell_type": "code",
   "execution_count": null,
   "source": [
    "from sklearn.preprocessing import MinMaxScaler\r\n",
    "scaler = MinMaxScaler()\r\n",
    "scaler.fit(df[feature_scale])"
   ],
   "outputs": [],
   "metadata": {}
  },
  {
   "cell_type": "code",
   "execution_count": null,
   "source": [
    "df_scaled = pd.concat([df[['Id', 'SalePrice']].reset_index(drop=True),\r\n",
    "                      pd.DataFrame(scaler.transform(df[feature_scale]), columns=feature_scale)],\r\n",
    "                      axis=1)\r\n",
    "\r\n",
    "df_scaled.head()"
   ],
   "outputs": [],
   "metadata": {}
  },
  {
   "cell_type": "code",
   "execution_count": null,
   "source": [
    "df_scaled.to_csv(r'data\\house_price_pred\\train_scaled.csv')"
   ],
   "outputs": [],
   "metadata": {}
  },
  {
   "cell_type": "markdown",
   "source": [
    "## Pickle the trained objects"
   ],
   "metadata": {}
  },
  {
   "cell_type": "code",
   "execution_count": null,
   "source": [
    "import pickle"
   ],
   "outputs": [],
   "metadata": {}
  },
  {
   "cell_type": "code",
   "execution_count": null,
   "source": [
    "file_name = r'data\\house_price_pred\\scaler.pkl'\r\n",
    "\r\n",
    "file_to_pickle = open(file_name, 'wb')\r\n",
    "pickle.dump(scaler, file_to_pickle)\r\n",
    "file_to_pickle.close()"
   ],
   "outputs": [],
   "metadata": {}
  },
  {
   "cell_type": "code",
   "execution_count": null,
   "source": [],
   "outputs": [],
   "metadata": {}
  }
 ],
 "metadata": {
  "orig_nbformat": 4,
  "language_info": {
   "name": "python",
   "version": "3.6.13",
   "mimetype": "text/x-python",
   "codemirror_mode": {
    "name": "ipython",
    "version": 3
   },
   "pygments_lexer": "ipython3",
   "nbconvert_exporter": "python",
   "file_extension": ".py"
  },
  "kernelspec": {
   "name": "python3",
   "display_name": "Python 3.6.13 64-bit ('krish_env': conda)"
  },
  "interpreter": {
   "hash": "07d4a02be52250fb5d80ac16376ae958b8cd5644e343d2bca7d27b711e010f4c"
  }
 },
 "nbformat": 4,
 "nbformat_minor": 2
}