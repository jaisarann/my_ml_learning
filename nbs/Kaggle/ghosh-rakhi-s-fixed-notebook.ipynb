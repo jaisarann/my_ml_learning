{
 "cells": [
  {
   "cell_type": "markdown",
   "id": "2f89b8ae",
   "metadata": {
    "papermill": {
     "duration": 0.044861,
     "end_time": "2022-01-11T12:52:28.660406",
     "exception": false,
     "start_time": "2022-01-11T12:52:28.615545",
     "status": "completed"
    },
    "tags": []
   },
   "source": [
    "**This notebook is an exercise in the [Intermediate Machine Learning](https://www.kaggle.com/learn/intermediate-machine-learning) course.  You can reference the tutorial at [this link](https://www.kaggle.com/alexisbcook/categorical-variables).**\n",
    "\n",
    "---\n"
   ]
  },
  {
   "cell_type": "markdown",
   "id": "0e9db6a8",
   "metadata": {
    "papermill": {
     "duration": 0.042551,
     "end_time": "2022-01-11T12:52:28.747749",
     "exception": false,
     "start_time": "2022-01-11T12:52:28.705198",
     "status": "completed"
    },
    "tags": []
   },
   "source": [
    "By encoding **categorical variables**, you'll obtain your best results thus far!\n",
    "\n",
    "# Setup\n",
    "\n",
    "The questions below will give you feedback on your work. Run the following cell to set up the feedback system."
   ]
  },
  {
   "cell_type": "code",
   "execution_count": 1,
   "id": "24721a7f",
   "metadata": {
    "execution": {
     "iopub.execute_input": "2022-01-11T12:52:28.844203Z",
     "iopub.status.busy": "2022-01-11T12:52:28.843556Z",
     "iopub.status.idle": "2022-01-11T12:52:28.889375Z",
     "shell.execute_reply": "2022-01-11T12:52:28.889816Z",
     "shell.execute_reply.started": "2022-01-11T12:43:14.326111Z"
    },
    "papermill": {
     "duration": 0.097702,
     "end_time": "2022-01-11T12:52:28.890134",
     "exception": false,
     "start_time": "2022-01-11T12:52:28.792432",
     "status": "completed"
    },
    "tags": []
   },
   "outputs": [
    {
     "name": "stdout",
     "output_type": "stream",
     "text": [
      "Setup Complete\n"
     ]
    }
   ],
   "source": [
    "# Set up code checking\n",
    "import os\n",
    "if not os.path.exists(\"../input/train.csv\"):\n",
    "    os.symlink(\"../input/home-data-for-ml-course/train.csv\", \"../input/train.csv\")  \n",
    "    os.symlink(\"../input/home-data-for-ml-course/test.csv\", \"../input/test.csv\") \n",
    "from learntools.core import binder\n",
    "binder.bind(globals())\n",
    "from learntools.ml_intermediate.ex3 import *\n",
    "print(\"Setup Complete\")"
   ]
  },
  {
   "cell_type": "markdown",
   "id": "74d035db",
   "metadata": {
    "papermill": {
     "duration": 0.043262,
     "end_time": "2022-01-11T12:52:28.977513",
     "exception": false,
     "start_time": "2022-01-11T12:52:28.934251",
     "status": "completed"
    },
    "tags": []
   },
   "source": [
    "In this exercise, you will work with data from the [Housing Prices Competition for Kaggle Learn Users](https://www.kaggle.com/c/home-data-for-ml-course). \n",
    "\n",
    "![Ames Housing dataset image](https://i.imgur.com/lTJVG4e.png)\n",
    "\n",
    "Run the next code cell without changes to load the training and validation sets in `X_train`, `X_valid`, `y_train`, and `y_valid`.  The test set is loaded in `X_test`."
   ]
  },
  {
   "cell_type": "code",
   "execution_count": 2,
   "id": "ad1986e8",
   "metadata": {
    "execution": {
     "iopub.execute_input": "2022-01-11T12:52:29.074232Z",
     "iopub.status.busy": "2022-01-11T12:52:29.068055Z",
     "iopub.status.idle": "2022-01-11T12:52:30.216458Z",
     "shell.execute_reply": "2022-01-11T12:52:30.215741Z",
     "shell.execute_reply.started": "2022-01-11T12:43:14.340616Z"
    },
    "papermill": {
     "duration": 1.195132,
     "end_time": "2022-01-11T12:52:30.216602",
     "exception": false,
     "start_time": "2022-01-11T12:52:29.021470",
     "status": "completed"
    },
    "tags": []
   },
   "outputs": [],
   "source": [
    "import pandas as pd\n",
    "from sklearn.model_selection import train_test_split\n",
    "\n",
    "# Read the data\n",
    "X = pd.read_csv('../input/train.csv', index_col='Id') \n",
    "X_test = pd.read_csv('../input/test.csv', index_col='Id')\n",
    "\n",
    "# Remove rows with missing target, separate target from predictors\n",
    "X.dropna(axis=0, subset=['SalePrice'], inplace=True)\n",
    "y = X.SalePrice\n",
    "X.drop(['SalePrice'], axis=1, inplace=True)\n",
    "\n",
    "# To keep things simple, we'll drop columns with missing values\n",
    "cols_with_missing = [col for col in X.columns if X[col].isnull().any()] \n",
    "X.drop(cols_with_missing, axis=1, inplace=True)\n",
    "X_test.drop(cols_with_missing, axis=1, inplace=True)\n",
    "\n",
    "# Break off validation set from training data\n",
    "X_train, X_valid, y_train, y_valid = train_test_split(X, y,\n",
    "                                                      train_size=0.8, test_size=0.2,\n",
    "                                                      random_state=0)"
   ]
  },
  {
   "cell_type": "code",
   "execution_count": 3,
   "id": "bdb83a3a",
   "metadata": {
    "execution": {
     "iopub.execute_input": "2022-01-11T12:52:30.307166Z",
     "iopub.status.busy": "2022-01-11T12:52:30.306125Z",
     "iopub.status.idle": "2022-01-11T12:52:30.311296Z",
     "shell.execute_reply": "2022-01-11T12:52:30.311728Z",
     "shell.execute_reply.started": "2022-01-11T12:43:14.453218Z"
    },
    "papermill": {
     "duration": 0.052261,
     "end_time": "2022-01-11T12:52:30.311945",
     "exception": false,
     "start_time": "2022-01-11T12:52:30.259684",
     "status": "completed"
    },
    "tags": []
   },
   "outputs": [
    {
     "name": "stdout",
     "output_type": "stream",
     "text": [
      "(1459, 60)\n"
     ]
    }
   ],
   "source": [
    "print(X_test.shape)"
   ]
  },
  {
   "cell_type": "markdown",
   "id": "d2c4ca8c",
   "metadata": {
    "papermill": {
     "duration": 0.043515,
     "end_time": "2022-01-11T12:52:30.398934",
     "exception": false,
     "start_time": "2022-01-11T12:52:30.355419",
     "status": "completed"
    },
    "tags": []
   },
   "source": [
    "Use the next code cell to print the first five rows of the data."
   ]
  },
  {
   "cell_type": "code",
   "execution_count": 4,
   "id": "dbba6041",
   "metadata": {
    "execution": {
     "iopub.execute_input": "2022-01-11T12:52:30.491300Z",
     "iopub.status.busy": "2022-01-11T12:52:30.490270Z",
     "iopub.status.idle": "2022-01-11T12:52:30.495366Z",
     "shell.execute_reply": "2022-01-11T12:52:30.495950Z",
     "shell.execute_reply.started": "2022-01-11T12:43:14.462314Z"
    },
    "papermill": {
     "duration": 0.05236,
     "end_time": "2022-01-11T12:52:30.496125",
     "exception": false,
     "start_time": "2022-01-11T12:52:30.443765",
     "status": "completed"
    },
    "tags": []
   },
   "outputs": [
    {
     "name": "stdout",
     "output_type": "stream",
     "text": [
      "(1459, 60)\n"
     ]
    }
   ],
   "source": [
    "print(X_test.shape)"
   ]
  },
  {
   "cell_type": "code",
   "execution_count": 5,
   "id": "3d33bb0a",
   "metadata": {
    "execution": {
     "iopub.execute_input": "2022-01-11T12:52:30.587597Z",
     "iopub.status.busy": "2022-01-11T12:52:30.586626Z",
     "iopub.status.idle": "2022-01-11T12:52:30.614836Z",
     "shell.execute_reply": "2022-01-11T12:52:30.615361Z",
     "shell.execute_reply.started": "2022-01-11T12:43:14.475170Z"
    },
    "papermill": {
     "duration": 0.075542,
     "end_time": "2022-01-11T12:52:30.615525",
     "exception": false,
     "start_time": "2022-01-11T12:52:30.539983",
     "status": "completed"
    },
    "tags": []
   },
   "outputs": [
    {
     "data": {
      "text/html": [
       "<div>\n",
       "<style scoped>\n",
       "    .dataframe tbody tr th:only-of-type {\n",
       "        vertical-align: middle;\n",
       "    }\n",
       "\n",
       "    .dataframe tbody tr th {\n",
       "        vertical-align: top;\n",
       "    }\n",
       "\n",
       "    .dataframe thead th {\n",
       "        text-align: right;\n",
       "    }\n",
       "</style>\n",
       "<table border=\"1\" class=\"dataframe\">\n",
       "  <thead>\n",
       "    <tr style=\"text-align: right;\">\n",
       "      <th></th>\n",
       "      <th>MSSubClass</th>\n",
       "      <th>MSZoning</th>\n",
       "      <th>LotArea</th>\n",
       "      <th>Street</th>\n",
       "      <th>LotShape</th>\n",
       "      <th>LandContour</th>\n",
       "      <th>Utilities</th>\n",
       "      <th>LotConfig</th>\n",
       "      <th>LandSlope</th>\n",
       "      <th>Neighborhood</th>\n",
       "      <th>...</th>\n",
       "      <th>OpenPorchSF</th>\n",
       "      <th>EnclosedPorch</th>\n",
       "      <th>3SsnPorch</th>\n",
       "      <th>ScreenPorch</th>\n",
       "      <th>PoolArea</th>\n",
       "      <th>MiscVal</th>\n",
       "      <th>MoSold</th>\n",
       "      <th>YrSold</th>\n",
       "      <th>SaleType</th>\n",
       "      <th>SaleCondition</th>\n",
       "    </tr>\n",
       "    <tr>\n",
       "      <th>Id</th>\n",
       "      <th></th>\n",
       "      <th></th>\n",
       "      <th></th>\n",
       "      <th></th>\n",
       "      <th></th>\n",
       "      <th></th>\n",
       "      <th></th>\n",
       "      <th></th>\n",
       "      <th></th>\n",
       "      <th></th>\n",
       "      <th></th>\n",
       "      <th></th>\n",
       "      <th></th>\n",
       "      <th></th>\n",
       "      <th></th>\n",
       "      <th></th>\n",
       "      <th></th>\n",
       "      <th></th>\n",
       "      <th></th>\n",
       "      <th></th>\n",
       "      <th></th>\n",
       "    </tr>\n",
       "  </thead>\n",
       "  <tbody>\n",
       "    <tr>\n",
       "      <th>619</th>\n",
       "      <td>20</td>\n",
       "      <td>RL</td>\n",
       "      <td>11694</td>\n",
       "      <td>Pave</td>\n",
       "      <td>Reg</td>\n",
       "      <td>Lvl</td>\n",
       "      <td>AllPub</td>\n",
       "      <td>Inside</td>\n",
       "      <td>Gtl</td>\n",
       "      <td>NridgHt</td>\n",
       "      <td>...</td>\n",
       "      <td>108</td>\n",
       "      <td>0</td>\n",
       "      <td>0</td>\n",
       "      <td>260</td>\n",
       "      <td>0</td>\n",
       "      <td>0</td>\n",
       "      <td>7</td>\n",
       "      <td>2007</td>\n",
       "      <td>New</td>\n",
       "      <td>Partial</td>\n",
       "    </tr>\n",
       "    <tr>\n",
       "      <th>871</th>\n",
       "      <td>20</td>\n",
       "      <td>RL</td>\n",
       "      <td>6600</td>\n",
       "      <td>Pave</td>\n",
       "      <td>Reg</td>\n",
       "      <td>Lvl</td>\n",
       "      <td>AllPub</td>\n",
       "      <td>Inside</td>\n",
       "      <td>Gtl</td>\n",
       "      <td>NAmes</td>\n",
       "      <td>...</td>\n",
       "      <td>0</td>\n",
       "      <td>0</td>\n",
       "      <td>0</td>\n",
       "      <td>0</td>\n",
       "      <td>0</td>\n",
       "      <td>0</td>\n",
       "      <td>8</td>\n",
       "      <td>2009</td>\n",
       "      <td>WD</td>\n",
       "      <td>Normal</td>\n",
       "    </tr>\n",
       "    <tr>\n",
       "      <th>93</th>\n",
       "      <td>30</td>\n",
       "      <td>RL</td>\n",
       "      <td>13360</td>\n",
       "      <td>Pave</td>\n",
       "      <td>IR1</td>\n",
       "      <td>HLS</td>\n",
       "      <td>AllPub</td>\n",
       "      <td>Inside</td>\n",
       "      <td>Gtl</td>\n",
       "      <td>Crawfor</td>\n",
       "      <td>...</td>\n",
       "      <td>0</td>\n",
       "      <td>44</td>\n",
       "      <td>0</td>\n",
       "      <td>0</td>\n",
       "      <td>0</td>\n",
       "      <td>0</td>\n",
       "      <td>8</td>\n",
       "      <td>2009</td>\n",
       "      <td>WD</td>\n",
       "      <td>Normal</td>\n",
       "    </tr>\n",
       "    <tr>\n",
       "      <th>818</th>\n",
       "      <td>20</td>\n",
       "      <td>RL</td>\n",
       "      <td>13265</td>\n",
       "      <td>Pave</td>\n",
       "      <td>IR1</td>\n",
       "      <td>Lvl</td>\n",
       "      <td>AllPub</td>\n",
       "      <td>CulDSac</td>\n",
       "      <td>Gtl</td>\n",
       "      <td>Mitchel</td>\n",
       "      <td>...</td>\n",
       "      <td>59</td>\n",
       "      <td>0</td>\n",
       "      <td>0</td>\n",
       "      <td>0</td>\n",
       "      <td>0</td>\n",
       "      <td>0</td>\n",
       "      <td>7</td>\n",
       "      <td>2008</td>\n",
       "      <td>WD</td>\n",
       "      <td>Normal</td>\n",
       "    </tr>\n",
       "    <tr>\n",
       "      <th>303</th>\n",
       "      <td>20</td>\n",
       "      <td>RL</td>\n",
       "      <td>13704</td>\n",
       "      <td>Pave</td>\n",
       "      <td>IR1</td>\n",
       "      <td>Lvl</td>\n",
       "      <td>AllPub</td>\n",
       "      <td>Corner</td>\n",
       "      <td>Gtl</td>\n",
       "      <td>CollgCr</td>\n",
       "      <td>...</td>\n",
       "      <td>81</td>\n",
       "      <td>0</td>\n",
       "      <td>0</td>\n",
       "      <td>0</td>\n",
       "      <td>0</td>\n",
       "      <td>0</td>\n",
       "      <td>1</td>\n",
       "      <td>2006</td>\n",
       "      <td>WD</td>\n",
       "      <td>Normal</td>\n",
       "    </tr>\n",
       "  </tbody>\n",
       "</table>\n",
       "<p>5 rows × 60 columns</p>\n",
       "</div>"
      ],
      "text/plain": [
       "     MSSubClass MSZoning  LotArea Street LotShape LandContour Utilities  \\\n",
       "Id                                                                        \n",
       "619          20       RL    11694   Pave      Reg         Lvl    AllPub   \n",
       "871          20       RL     6600   Pave      Reg         Lvl    AllPub   \n",
       "93           30       RL    13360   Pave      IR1         HLS    AllPub   \n",
       "818          20       RL    13265   Pave      IR1         Lvl    AllPub   \n",
       "303          20       RL    13704   Pave      IR1         Lvl    AllPub   \n",
       "\n",
       "    LotConfig LandSlope Neighborhood  ... OpenPorchSF EnclosedPorch 3SsnPorch  \\\n",
       "Id                                    ...                                       \n",
       "619    Inside       Gtl      NridgHt  ...         108             0         0   \n",
       "871    Inside       Gtl        NAmes  ...           0             0         0   \n",
       "93     Inside       Gtl      Crawfor  ...           0            44         0   \n",
       "818   CulDSac       Gtl      Mitchel  ...          59             0         0   \n",
       "303    Corner       Gtl      CollgCr  ...          81             0         0   \n",
       "\n",
       "    ScreenPorch  PoolArea  MiscVal  MoSold  YrSold SaleType SaleCondition  \n",
       "Id                                                                         \n",
       "619         260         0        0       7    2007      New       Partial  \n",
       "871           0         0        0       8    2009       WD        Normal  \n",
       "93            0         0        0       8    2009       WD        Normal  \n",
       "818           0         0        0       7    2008       WD        Normal  \n",
       "303           0         0        0       1    2006       WD        Normal  \n",
       "\n",
       "[5 rows x 60 columns]"
      ]
     },
     "execution_count": 5,
     "metadata": {},
     "output_type": "execute_result"
    }
   ],
   "source": [
    "X_train.head()"
   ]
  },
  {
   "cell_type": "code",
   "execution_count": 6,
   "id": "f43c1b15",
   "metadata": {
    "execution": {
     "iopub.execute_input": "2022-01-11T12:52:30.710180Z",
     "iopub.status.busy": "2022-01-11T12:52:30.709165Z",
     "iopub.status.idle": "2022-01-11T12:52:30.723302Z",
     "shell.execute_reply": "2022-01-11T12:52:30.722533Z",
     "shell.execute_reply.started": "2022-01-11T12:43:14.511924Z"
    },
    "papermill": {
     "duration": 0.062257,
     "end_time": "2022-01-11T12:52:30.723492",
     "exception": false,
     "start_time": "2022-01-11T12:52:30.661235",
     "status": "completed"
    },
    "tags": []
   },
   "outputs": [
    {
     "name": "stdout",
     "output_type": "stream",
     "text": [
      "     MSSubClass MSZoning  LotArea Street LotShape LandContour Utilities  \\\n",
      "Id                                                                        \n",
      "619          20       RL    11694   Pave      Reg         Lvl    AllPub   \n",
      "871          20       RL     6600   Pave      Reg         Lvl    AllPub   \n",
      "93           30       RL    13360   Pave      IR1         HLS    AllPub   \n",
      "818          20       RL    13265   Pave      IR1         Lvl    AllPub   \n",
      "303          20       RL    13704   Pave      IR1         Lvl    AllPub   \n",
      "\n",
      "    LotConfig LandSlope Neighborhood  ... OpenPorchSF EnclosedPorch 3SsnPorch  \\\n",
      "Id                                    ...                                       \n",
      "619    Inside       Gtl      NridgHt  ...         108             0         0   \n",
      "871    Inside       Gtl        NAmes  ...           0             0         0   \n",
      "93     Inside       Gtl      Crawfor  ...           0            44         0   \n",
      "818   CulDSac       Gtl      Mitchel  ...          59             0         0   \n",
      "303    Corner       Gtl      CollgCr  ...          81             0         0   \n",
      "\n",
      "    ScreenPorch  PoolArea  MiscVal  MoSold  YrSold SaleType SaleCondition  \n",
      "Id                                                                         \n",
      "619         260         0        0       7    2007      New       Partial  \n",
      "871           0         0        0       8    2009       WD        Normal  \n",
      "93            0         0        0       8    2009       WD        Normal  \n",
      "818           0         0        0       7    2008       WD        Normal  \n",
      "303           0         0        0       1    2006       WD        Normal  \n",
      "\n",
      "[5 rows x 60 columns]\n"
     ]
    }
   ],
   "source": [
    "print(X_train.head())"
   ]
  },
  {
   "cell_type": "markdown",
   "id": "50c3c1d4",
   "metadata": {
    "papermill": {
     "duration": 0.044697,
     "end_time": "2022-01-11T12:52:30.815510",
     "exception": false,
     "start_time": "2022-01-11T12:52:30.770813",
     "status": "completed"
    },
    "tags": []
   },
   "source": [
    "Notice that the dataset contains both numerical and categorical variables.  You'll need to encode the categorical data before training a model.\n",
    "\n",
    "To compare different models, you'll use the same `score_dataset()` function from the tutorial.  This function reports the [mean absolute error](https://en.wikipedia.org/wiki/Mean_absolute_error) (MAE) from a random forest model."
   ]
  },
  {
   "cell_type": "code",
   "execution_count": 7,
   "id": "5407e6fe",
   "metadata": {
    "execution": {
     "iopub.execute_input": "2022-01-11T12:52:30.914158Z",
     "iopub.status.busy": "2022-01-11T12:52:30.913261Z",
     "iopub.status.idle": "2022-01-11T12:52:31.102002Z",
     "shell.execute_reply": "2022-01-11T12:52:31.101319Z",
     "shell.execute_reply.started": "2022-01-11T12:43:14.529141Z"
    },
    "papermill": {
     "duration": 0.240228,
     "end_time": "2022-01-11T12:52:31.102154",
     "exception": false,
     "start_time": "2022-01-11T12:52:30.861926",
     "status": "completed"
    },
    "tags": []
   },
   "outputs": [],
   "source": [
    "from sklearn.ensemble import RandomForestRegressor\n",
    "from sklearn.metrics import mean_absolute_error\n",
    "\n",
    "# function for comparing different approaches\n",
    "def score_dataset(X_train, X_valid, y_train, y_valid):\n",
    "    model = RandomForestRegressor(n_estimators=100, random_state=0)\n",
    "    model.fit(X_train, y_train)\n",
    "    preds = model.predict(X_valid)\n",
    "    return mean_absolute_error(y_valid, preds)\n"
   ]
  },
  {
   "cell_type": "markdown",
   "id": "6dfed907",
   "metadata": {
    "papermill": {
     "duration": 0.045097,
     "end_time": "2022-01-11T12:52:31.193239",
     "exception": false,
     "start_time": "2022-01-11T12:52:31.148142",
     "status": "completed"
    },
    "tags": []
   },
   "source": [
    "# Step 1: Drop columns with categorical data\n",
    "\n",
    "You'll get started with the most straightforward approach.  Use the code cell below to preprocess the data in `X_train` and `X_valid` to remove columns with categorical data.  Set the preprocessed DataFrames to `drop_X_train` and `drop_X_valid`, respectively.  "
   ]
  },
  {
   "cell_type": "code",
   "execution_count": 8,
   "id": "73be97ee",
   "metadata": {
    "execution": {
     "iopub.execute_input": "2022-01-11T12:52:31.289821Z",
     "iopub.status.busy": "2022-01-11T12:52:31.288954Z",
     "iopub.status.idle": "2022-01-11T12:52:31.293233Z",
     "shell.execute_reply": "2022-01-11T12:52:31.292514Z",
     "shell.execute_reply.started": "2022-01-11T12:43:14.540932Z"
    },
    "papermill": {
     "duration": 0.055173,
     "end_time": "2022-01-11T12:52:31.293415",
     "exception": false,
     "start_time": "2022-01-11T12:52:31.238242",
     "status": "completed"
    },
    "tags": []
   },
   "outputs": [
    {
     "name": "stdout",
     "output_type": "stream",
     "text": [
      "Categorical variables:\n",
      "['MSZoning', 'Street', 'LotShape', 'LandContour', 'Utilities', 'LotConfig', 'LandSlope', 'Neighborhood', 'Condition1', 'Condition2', 'BldgType', 'HouseStyle', 'RoofStyle', 'RoofMatl', 'Exterior1st', 'Exterior2nd', 'ExterQual', 'ExterCond', 'Foundation', 'Heating', 'HeatingQC', 'CentralAir', 'KitchenQual', 'Functional', 'PavedDrive', 'SaleType', 'SaleCondition']\n"
     ]
    }
   ],
   "source": [
    "# Get list of categorical variables\n",
    "s = (X_train.dtypes == 'object')\n",
    "object_cols = list(s[s].index)\n",
    "\n",
    "print(\"Categorical variables:\")\n",
    "print(object_cols)"
   ]
  },
  {
   "cell_type": "code",
   "execution_count": 9,
   "id": "5676b310",
   "metadata": {
    "execution": {
     "iopub.execute_input": "2022-01-11T12:52:31.388607Z",
     "iopub.status.busy": "2022-01-11T12:52:31.387987Z",
     "iopub.status.idle": "2022-01-11T12:52:32.618805Z",
     "shell.execute_reply": "2022-01-11T12:52:32.618288Z",
     "shell.execute_reply.started": "2022-01-11T12:43:14.557437Z"
    },
    "papermill": {
     "duration": 1.278973,
     "end_time": "2022-01-11T12:52:32.618969",
     "exception": false,
     "start_time": "2022-01-11T12:52:31.339996",
     "status": "completed"
    },
    "tags": []
   },
   "outputs": [
    {
     "name": "stdout",
     "output_type": "stream",
     "text": [
      "MAE from Approach 1 (Drop categorical variables):\n",
      "17837.82570776256\n"
     ]
    },
    {
     "data": {
      "application/javascript": [
       "parent.postMessage({\"jupyterEvent\": \"custom.exercise_interaction\", \"data\": {\"outcomeType\": 1, \"valueTowardsCompletion\": 0.5, \"interactionType\": 1, \"questionType\": 2, \"questionId\": \"1_Drop\", \"learnToolsVersion\": \"0.3.4\", \"failureMessage\": \"\", \"exceptionClass\": \"\", \"trace\": \"\"}}, \"*\")"
      ],
      "text/plain": [
       "<IPython.core.display.Javascript object>"
      ]
     },
     "metadata": {},
     "output_type": "display_data"
    },
    {
     "data": {
      "text/markdown": [
       "<span style=\"color:#33cc33\">Correct</span>"
      ],
      "text/plain": [
       "Correct"
      ]
     },
     "metadata": {},
     "output_type": "display_data"
    }
   ],
   "source": [
    "# Fill in the lines below: drop columns in training and validation data\n",
    "\n",
    "drop_X_train = X_train.select_dtypes(exclude=['object'])\n",
    "drop_X_valid = X_valid.select_dtypes(exclude=['object'])\n",
    "\n",
    "print(\"MAE from Approach 1 (Drop categorical variables):\")\n",
    "print(score_dataset(drop_X_train, drop_X_valid, y_train, y_valid))\n",
    "# Check your answers\n",
    "step_1.check()"
   ]
  },
  {
   "cell_type": "code",
   "execution_count": 10,
   "id": "1644521e",
   "metadata": {
    "execution": {
     "iopub.execute_input": "2022-01-11T12:52:32.715985Z",
     "iopub.status.busy": "2022-01-11T12:52:32.715318Z",
     "iopub.status.idle": "2022-01-11T12:52:32.718298Z",
     "shell.execute_reply": "2022-01-11T12:52:32.718912Z",
     "shell.execute_reply.started": "2022-01-11T12:43:15.807502Z"
    },
    "papermill": {
     "duration": 0.053517,
     "end_time": "2022-01-11T12:52:32.719081",
     "exception": false,
     "start_time": "2022-01-11T12:52:32.665564",
     "status": "completed"
    },
    "tags": []
   },
   "outputs": [],
   "source": [
    "# Lines below will give you a hint or solution code\n",
    "#step_1.hint()\n",
    "#step_1.solution()"
   ]
  },
  {
   "cell_type": "markdown",
   "id": "f4a61ac1",
   "metadata": {
    "papermill": {
     "duration": 0.046434,
     "end_time": "2022-01-11T12:52:32.812575",
     "exception": false,
     "start_time": "2022-01-11T12:52:32.766141",
     "status": "completed"
    },
    "tags": []
   },
   "source": [
    "Run the next code cell to get the MAE for this approach."
   ]
  },
  {
   "cell_type": "markdown",
   "id": "d6a35915",
   "metadata": {
    "papermill": {
     "duration": 0.047108,
     "end_time": "2022-01-11T12:52:32.906730",
     "exception": false,
     "start_time": "2022-01-11T12:52:32.859622",
     "status": "completed"
    },
    "tags": []
   },
   "source": [
    "Before jumping into ordinal encoding, we'll investigate the dataset.  Specifically, we'll look at the `'Condition2'` column.  The code cell below prints the unique entries in both the training and validation sets."
   ]
  },
  {
   "cell_type": "code",
   "execution_count": 11,
   "id": "d3f7787c",
   "metadata": {
    "execution": {
     "iopub.execute_input": "2022-01-11T12:52:33.004066Z",
     "iopub.status.busy": "2022-01-11T12:52:33.003374Z",
     "iopub.status.idle": "2022-01-11T12:52:34.213299Z",
     "shell.execute_reply": "2022-01-11T12:52:34.213797Z",
     "shell.execute_reply.started": "2022-01-11T12:43:15.813353Z"
    },
    "papermill": {
     "duration": 1.260279,
     "end_time": "2022-01-11T12:52:34.213999",
     "exception": false,
     "start_time": "2022-01-11T12:52:32.953720",
     "status": "completed"
    },
    "tags": []
   },
   "outputs": [
    {
     "name": "stdout",
     "output_type": "stream",
     "text": [
      "MAE from Approach 1 (Drop categorical variables):\n",
      "17837.82570776256\n"
     ]
    }
   ],
   "source": [
    "print(\"MAE from Approach 1 (Drop categorical variables):\")\n",
    "print(score_dataset(drop_X_train, drop_X_valid, y_train, y_valid))"
   ]
  },
  {
   "cell_type": "code",
   "execution_count": 12,
   "id": "da83b4f2",
   "metadata": {
    "execution": {
     "iopub.execute_input": "2022-01-11T12:52:34.316303Z",
     "iopub.status.busy": "2022-01-11T12:52:34.315387Z",
     "iopub.status.idle": "2022-01-11T12:52:34.318833Z",
     "shell.execute_reply": "2022-01-11T12:52:34.319487Z",
     "shell.execute_reply.started": "2022-01-11T12:43:17.072970Z"
    },
    "papermill": {
     "duration": 0.057874,
     "end_time": "2022-01-11T12:52:34.319665",
     "exception": false,
     "start_time": "2022-01-11T12:52:34.261791",
     "status": "completed"
    },
    "tags": []
   },
   "outputs": [
    {
     "name": "stdout",
     "output_type": "stream",
     "text": [
      "Unique values in 'Condition2' column in training data: ['Norm' 'PosA' 'Feedr' 'PosN' 'Artery' 'RRAe']\n",
      "\n",
      "Unique values in 'Condition2' column in validation data: ['Norm' 'RRAn' 'RRNn' 'Artery' 'Feedr' 'PosN']\n"
     ]
    }
   ],
   "source": [
    "print(\"Unique values in 'Condition2' column in training data:\", X_train['Condition2'].unique())\n",
    "print(\"\\nUnique values in 'Condition2' column in validation data:\", X_valid['Condition2'].unique())"
   ]
  },
  {
   "cell_type": "markdown",
   "id": "711ff133",
   "metadata": {
    "papermill": {
     "duration": 0.047666,
     "end_time": "2022-01-11T12:52:34.415061",
     "exception": false,
     "start_time": "2022-01-11T12:52:34.367395",
     "status": "completed"
    },
    "tags": []
   },
   "source": [
    "# Step 2: Ordinal encoding\n",
    "\n",
    "### Part A\n",
    "\n",
    "If you now write code to: \n",
    "- fit an ordinal encoder to the training data, and then \n",
    "- use it to transform both the training and validation data, \n",
    "\n",
    "you'll get an error.  Can you see why this is the case?  (_You'll need  to use the above output to answer this question._)"
   ]
  },
  {
   "cell_type": "code",
   "execution_count": 13,
   "id": "ba214db9",
   "metadata": {
    "execution": {
     "iopub.execute_input": "2022-01-11T12:52:34.515469Z",
     "iopub.status.busy": "2022-01-11T12:52:34.514501Z",
     "iopub.status.idle": "2022-01-11T12:52:34.521647Z",
     "shell.execute_reply": "2022-01-11T12:52:34.522250Z",
     "shell.execute_reply.started": "2022-01-11T12:43:17.080545Z"
    },
    "papermill": {
     "duration": 0.058322,
     "end_time": "2022-01-11T12:52:34.522424",
     "exception": false,
     "start_time": "2022-01-11T12:52:34.464102",
     "status": "completed"
    },
    "tags": []
   },
   "outputs": [
    {
     "data": {
      "application/javascript": [
       "parent.postMessage({\"jupyterEvent\": \"custom.exercise_interaction\", \"data\": {\"outcomeType\": 1, \"valueTowardsCompletion\": 0.5, \"interactionType\": 1, \"questionType\": 4, \"questionId\": \"2.1_LabelA\", \"learnToolsVersion\": \"0.3.4\", \"failureMessage\": \"\", \"exceptionClass\": \"\", \"trace\": \"\"}}, \"*\")"
      ],
      "text/plain": [
       "<IPython.core.display.Javascript object>"
      ]
     },
     "metadata": {},
     "output_type": "display_data"
    },
    {
     "data": {
      "text/markdown": [
       "<span style=\"color:#33cc33\">Correct:</span> \n",
       "\n",
       "Fitting an ordinal encoder to a column in the training data creates a corresponding integer-valued label for each unique value **that appears in the training data**. In the case that the validation data contains values that don't also appear in the training data, the encoder will throw an error, because these values won't have an integer assigned to them.  Notice that the `'Condition2'` column in the validation data contains the values `'RRAn'` and `'RRNn'`, but these don't appear in the training data -- thus, if we try to use an ordinal encoder with scikit-learn, the code will throw an error."
      ],
      "text/plain": [
       "Correct: \n",
       "\n",
       "Fitting an ordinal encoder to a column in the training data creates a corresponding integer-valued label for each unique value **that appears in the training data**. In the case that the validation data contains values that don't also appear in the training data, the encoder will throw an error, because these values won't have an integer assigned to them.  Notice that the `'Condition2'` column in the validation data contains the values `'RRAn'` and `'RRNn'`, but these don't appear in the training data -- thus, if we try to use an ordinal encoder with scikit-learn, the code will throw an error."
      ]
     },
     "metadata": {},
     "output_type": "display_data"
    }
   ],
   "source": [
    "# Check your answer (Run this code cell to receive credit!)\n",
    "step_2.a.check()"
   ]
  },
  {
   "cell_type": "code",
   "execution_count": 14,
   "id": "99c913ec",
   "metadata": {
    "execution": {
     "iopub.execute_input": "2022-01-11T12:52:34.624929Z",
     "iopub.status.busy": "2022-01-11T12:52:34.624029Z",
     "iopub.status.idle": "2022-01-11T12:52:34.628735Z",
     "shell.execute_reply": "2022-01-11T12:52:34.629267Z",
     "shell.execute_reply.started": "2022-01-11T12:43:17.097840Z"
    },
    "papermill": {
     "duration": 0.05857,
     "end_time": "2022-01-11T12:52:34.629454",
     "exception": false,
     "start_time": "2022-01-11T12:52:34.570884",
     "status": "completed"
    },
    "tags": []
   },
   "outputs": [
    {
     "data": {
      "application/javascript": [
       "parent.postMessage({\"jupyterEvent\": \"custom.exercise_interaction\", \"data\": {\"interactionType\": 2, \"questionType\": 4, \"questionId\": \"2.1_LabelA\", \"learnToolsVersion\": \"0.3.4\", \"valueTowardsCompletion\": 0.0, \"failureMessage\": \"\", \"exceptionClass\": \"\", \"trace\": \"\", \"outcomeType\": 4}}, \"*\")"
      ],
      "text/plain": [
       "<IPython.core.display.Javascript object>"
      ]
     },
     "metadata": {},
     "output_type": "display_data"
    },
    {
     "data": {
      "text/markdown": [
       "<span style=\"color:#3366cc\">Hint:</span> Are there any values that appear in the validation data but not in the training data?"
      ],
      "text/plain": [
       "Hint: Are there any values that appear in the validation data but not in the training data?"
      ]
     },
     "metadata": {},
     "output_type": "display_data"
    }
   ],
   "source": [
    "step_2.a.hint()"
   ]
  },
  {
   "cell_type": "markdown",
   "id": "e913c552",
   "metadata": {
    "papermill": {
     "duration": 0.049186,
     "end_time": "2022-01-11T12:52:34.728490",
     "exception": false,
     "start_time": "2022-01-11T12:52:34.679304",
     "status": "completed"
    },
    "tags": []
   },
   "source": [
    "This is a common problem that you'll encounter with real-world data, and there are many approaches to fixing this issue.  For instance, you can write a custom ordinal encoder to deal with new categories.  The simplest approach, however, is to drop the problematic categorical columns.  \n",
    "\n",
    "Run the code cell below to save the problematic columns to a Python list `bad_label_cols`.  Likewise, columns that can be safely ordinal encoded are stored in `good_label_cols`."
   ]
  },
  {
   "cell_type": "markdown",
   "id": "c6494bb0",
   "metadata": {
    "papermill": {
     "duration": 0.049161,
     "end_time": "2022-01-11T12:52:34.827365",
     "exception": false,
     "start_time": "2022-01-11T12:52:34.778204",
     "status": "completed"
    },
    "tags": []
   },
   "source": [
    "### Part B\n",
    "\n",
    "Use the next code cell to ordinal encode the data in `X_train` and `X_valid`.  Set the preprocessed DataFrames to `label_X_train` and `label_X_valid`, respectively.  \n",
    "- We have provided code below to drop the categorical columns in `bad_label_cols` from the dataset. \n",
    "- You should ordinal encode the categorical columns in `good_label_cols`.  "
   ]
  },
  {
   "cell_type": "code",
   "execution_count": 15,
   "id": "1cfe01a9",
   "metadata": {
    "execution": {
     "iopub.execute_input": "2022-01-11T12:52:34.942321Z",
     "iopub.status.busy": "2022-01-11T12:52:34.934809Z",
     "iopub.status.idle": "2022-01-11T12:52:34.945954Z",
     "shell.execute_reply": "2022-01-11T12:52:34.946409Z",
     "shell.execute_reply.started": "2022-01-11T12:43:17.110219Z"
    },
    "papermill": {
     "duration": 0.069472,
     "end_time": "2022-01-11T12:52:34.946577",
     "exception": false,
     "start_time": "2022-01-11T12:52:34.877105",
     "status": "completed"
    },
    "tags": []
   },
   "outputs": [
    {
     "name": "stdout",
     "output_type": "stream",
     "text": [
      "Categorical columns that will be ordinal encoded: ['MSZoning', 'Street', 'LotShape', 'LandContour', 'Utilities', 'LotConfig', 'LandSlope', 'Neighborhood', 'Condition1', 'BldgType', 'HouseStyle', 'RoofStyle', 'Exterior1st', 'Exterior2nd', 'ExterQual', 'ExterCond', 'Foundation', 'Heating', 'HeatingQC', 'CentralAir', 'KitchenQual', 'PavedDrive', 'SaleType', 'SaleCondition']\n",
      "\n",
      "Categorical columns that will be dropped from the dataset: ['Functional', 'Condition2', 'RoofMatl']\n"
     ]
    }
   ],
   "source": [
    "# Categorical columns in the training data\n",
    "object_cols = [col for col in X_train.columns if X_train[col].dtype == \"object\"]\n",
    "\n",
    "# Columns that can be safely ordinal encoded\n",
    "good_label_cols = [col for col in object_cols if \n",
    "                   set(X_valid[col]).issubset(set(X_train[col]))]\n",
    "        \n",
    "# Problematic columns that will be dropped from the dataset\n",
    "bad_label_cols = list(set(object_cols)-set(good_label_cols))\n",
    "        \n",
    "print('Categorical columns that will be ordinal encoded:', good_label_cols)\n",
    "print('\\nCategorical columns that will be dropped from the dataset:', bad_label_cols)"
   ]
  },
  {
   "cell_type": "code",
   "execution_count": 16,
   "id": "bb50bce3",
   "metadata": {
    "execution": {
     "iopub.execute_input": "2022-01-11T12:52:35.055267Z",
     "iopub.status.busy": "2022-01-11T12:52:35.054561Z",
     "iopub.status.idle": "2022-01-11T12:52:36.654735Z",
     "shell.execute_reply": "2022-01-11T12:52:36.655233Z",
     "shell.execute_reply.started": "2022-01-11T12:43:17.132405Z"
    },
    "papermill": {
     "duration": 1.658729,
     "end_time": "2022-01-11T12:52:36.655399",
     "exception": false,
     "start_time": "2022-01-11T12:52:34.996670",
     "status": "completed"
    },
    "tags": []
   },
   "outputs": [
    {
     "name": "stdout",
     "output_type": "stream",
     "text": [
      "MAE from Approach 2 (Ordinal Encoding):\n",
      "17098.01649543379\n"
     ]
    },
    {
     "data": {
      "application/javascript": [
       "parent.postMessage({\"jupyterEvent\": \"custom.exercise_interaction\", \"data\": {\"outcomeType\": 1, \"valueTowardsCompletion\": 0.5, \"interactionType\": 1, \"questionType\": 2, \"questionId\": \"2.2_LabelB\", \"learnToolsVersion\": \"0.3.4\", \"failureMessage\": \"\", \"exceptionClass\": \"\", \"trace\": \"\"}}, \"*\")"
      ],
      "text/plain": [
       "<IPython.core.display.Javascript object>"
      ]
     },
     "metadata": {},
     "output_type": "display_data"
    },
    {
     "data": {
      "text/markdown": [
       "<span style=\"color:#33cc33\">Correct</span>"
      ],
      "text/plain": [
       "Correct"
      ]
     },
     "metadata": {},
     "output_type": "display_data"
    }
   ],
   "source": [
    "from sklearn.preprocessing import OrdinalEncoder\n",
    "# Make copy to avoid changing original data \n",
    "label_X_train = X_train.copy()\n",
    "label_X_valid = X_valid.copy()\n",
    "# Drop categorical columns that will not be encoded\n",
    "label_X_train = X_train.drop(bad_label_cols, axis=1)\n",
    "label_X_valid = X_valid.drop(bad_label_cols, axis=1)\n",
    "# Apply ordinal encoder to each column with categorical data\n",
    "ordinal_encoder = OrdinalEncoder()\n",
    "label_X_train[good_label_cols] = ordinal_encoder.fit_transform(X_train[good_label_cols])\n",
    "label_X_valid[good_label_cols] = ordinal_encoder.transform(X_valid[good_label_cols])\n",
    "\n",
    "print(\"MAE from Approach 2 (Ordinal Encoding):\") \n",
    "print(score_dataset(label_X_train, label_X_valid, y_train, y_valid))\n",
    "\n",
    "\n",
    "\n",
    "    \n",
    "# Check your answer\n",
    "step_2.b.check()"
   ]
  },
  {
   "cell_type": "code",
   "execution_count": 17,
   "id": "222e43b5",
   "metadata": {
    "execution": {
     "iopub.execute_input": "2022-01-11T12:52:36.764650Z",
     "iopub.status.busy": "2022-01-11T12:52:36.764020Z",
     "iopub.status.idle": "2022-01-11T12:52:36.772053Z",
     "shell.execute_reply": "2022-01-11T12:52:36.772515Z",
     "shell.execute_reply.started": "2022-01-11T12:43:18.745925Z"
    },
    "papermill": {
     "duration": 0.065163,
     "end_time": "2022-01-11T12:52:36.772686",
     "exception": false,
     "start_time": "2022-01-11T12:52:36.707523",
     "status": "completed"
    },
    "tags": []
   },
   "outputs": [
    {
     "data": {
      "application/javascript": [
       "parent.postMessage({\"jupyterEvent\": \"custom.exercise_interaction\", \"data\": {\"interactionType\": 2, \"questionType\": 2, \"questionId\": \"2.2_LabelB\", \"learnToolsVersion\": \"0.3.4\", \"valueTowardsCompletion\": 0.0, \"failureMessage\": \"\", \"exceptionClass\": \"\", \"trace\": \"\", \"outcomeType\": 4}}, \"*\")"
      ],
      "text/plain": [
       "<IPython.core.display.Javascript object>"
      ]
     },
     "metadata": {},
     "output_type": "display_data"
    },
    {
     "data": {
      "text/markdown": [
       "<span style=\"color:#3366cc\">Hint:</span> Use the `OrdinalEncoder` class from scikit-learn. You should only encode the columns in `good_label_cols`."
      ],
      "text/plain": [
       "Hint: Use the `OrdinalEncoder` class from scikit-learn. You should only encode the columns in `good_label_cols`."
      ]
     },
     "metadata": {},
     "output_type": "display_data"
    },
    {
     "data": {
      "application/javascript": [
       "parent.postMessage({\"jupyterEvent\": \"custom.exercise_interaction\", \"data\": {\"interactionType\": 3, \"questionType\": 2, \"questionId\": \"2.2_LabelB\", \"learnToolsVersion\": \"0.3.4\", \"valueTowardsCompletion\": 0.0, \"failureMessage\": \"\", \"exceptionClass\": \"\", \"trace\": \"\", \"outcomeType\": 4}}, \"*\")"
      ],
      "text/plain": [
       "<IPython.core.display.Javascript object>"
      ]
     },
     "metadata": {},
     "output_type": "display_data"
    },
    {
     "data": {
      "text/markdown": [
       "<span style=\"color:#33cc99\">Solution:</span> \n",
       "```python\n",
       "# Drop categorical columns that will not be encoded\n",
       "label_X_train = X_train.drop(bad_label_cols, axis=1)\n",
       "label_X_valid = X_valid.drop(bad_label_cols, axis=1)\n",
       "\n",
       "# Apply ordinal encoder\n",
       "ordinal_encoder = OrdinalEncoder()\n",
       "label_X_train[good_label_cols] = ordinal_encoder.fit_transform(X_train[good_label_cols])\n",
       "label_X_valid[good_label_cols] = ordinal_encoder.transform(X_valid[good_label_cols])\n",
       "\n",
       "```"
      ],
      "text/plain": [
       "Solution: \n",
       "```python\n",
       "# Drop categorical columns that will not be encoded\n",
       "label_X_train = X_train.drop(bad_label_cols, axis=1)\n",
       "label_X_valid = X_valid.drop(bad_label_cols, axis=1)\n",
       "\n",
       "# Apply ordinal encoder\n",
       "ordinal_encoder = OrdinalEncoder()\n",
       "label_X_train[good_label_cols] = ordinal_encoder.fit_transform(X_train[good_label_cols])\n",
       "label_X_valid[good_label_cols] = ordinal_encoder.transform(X_valid[good_label_cols])\n",
       "\n",
       "```"
      ]
     },
     "metadata": {},
     "output_type": "display_data"
    }
   ],
   "source": [
    "# Lines below will give you a hint or solution code\n",
    "step_2.b.hint()\n",
    "step_2.b.solution()"
   ]
  },
  {
   "cell_type": "markdown",
   "id": "b108e9ad",
   "metadata": {
    "papermill": {
     "duration": 0.054517,
     "end_time": "2022-01-11T12:52:36.881262",
     "exception": false,
     "start_time": "2022-01-11T12:52:36.826745",
     "status": "completed"
    },
    "tags": []
   },
   "source": [
    "Run the next code cell to get the MAE for this approach."
   ]
  },
  {
   "cell_type": "code",
   "execution_count": 18,
   "id": "4ca35a57",
   "metadata": {
    "execution": {
     "iopub.execute_input": "2022-01-11T12:52:36.996645Z",
     "iopub.status.busy": "2022-01-11T12:52:36.995984Z",
     "iopub.status.idle": "2022-01-11T12:52:38.545163Z",
     "shell.execute_reply": "2022-01-11T12:52:38.545606Z",
     "shell.execute_reply.started": "2022-01-11T12:43:18.757071Z"
    },
    "papermill": {
     "duration": 1.610343,
     "end_time": "2022-01-11T12:52:38.545775",
     "exception": false,
     "start_time": "2022-01-11T12:52:36.935432",
     "status": "completed"
    },
    "tags": []
   },
   "outputs": [
    {
     "name": "stdout",
     "output_type": "stream",
     "text": [
      "MAE from Approach 2 (Ordinal Encoding):\n",
      "17098.01649543379\n"
     ]
    }
   ],
   "source": [
    "print(\"MAE from Approach 2 (Ordinal Encoding):\") \n",
    "print(score_dataset(label_X_train, label_X_valid, y_train, y_valid))"
   ]
  },
  {
   "cell_type": "markdown",
   "id": "5e4d5d5a",
   "metadata": {
    "papermill": {
     "duration": 0.055083,
     "end_time": "2022-01-11T12:52:38.655184",
     "exception": false,
     "start_time": "2022-01-11T12:52:38.600101",
     "status": "completed"
    },
    "tags": []
   },
   "source": [
    "So far, you've tried two different approaches to dealing with categorical variables.  And, you've seen that encoding categorical data yields better results than removing columns from the dataset.\n",
    "\n",
    "Soon, you'll try one-hot encoding.  Before then, there's one additional topic we need to cover.  Begin by running the next code cell without changes.  "
   ]
  },
  {
   "cell_type": "code",
   "execution_count": 19,
   "id": "74cad5fd",
   "metadata": {
    "execution": {
     "iopub.execute_input": "2022-01-11T12:52:38.792321Z",
     "iopub.status.busy": "2022-01-11T12:52:38.791575Z",
     "iopub.status.idle": "2022-01-11T12:52:38.795474Z",
     "shell.execute_reply": "2022-01-11T12:52:38.794680Z",
     "shell.execute_reply.started": "2022-01-11T12:43:20.331123Z"
    },
    "papermill": {
     "duration": 0.08609,
     "end_time": "2022-01-11T12:52:38.795667",
     "exception": false,
     "start_time": "2022-01-11T12:52:38.709577",
     "status": "completed"
    },
    "tags": []
   },
   "outputs": [
    {
     "data": {
      "text/plain": [
       "[('Street', 2),\n",
       " ('Utilities', 2),\n",
       " ('CentralAir', 2),\n",
       " ('LandSlope', 3),\n",
       " ('PavedDrive', 3),\n",
       " ('LotShape', 4),\n",
       " ('LandContour', 4),\n",
       " ('ExterQual', 4),\n",
       " ('KitchenQual', 4),\n",
       " ('MSZoning', 5),\n",
       " ('LotConfig', 5),\n",
       " ('BldgType', 5),\n",
       " ('ExterCond', 5),\n",
       " ('HeatingQC', 5),\n",
       " ('Condition2', 6),\n",
       " ('RoofStyle', 6),\n",
       " ('Foundation', 6),\n",
       " ('Heating', 6),\n",
       " ('Functional', 6),\n",
       " ('SaleCondition', 6),\n",
       " ('RoofMatl', 7),\n",
       " ('HouseStyle', 8),\n",
       " ('Condition1', 9),\n",
       " ('SaleType', 9),\n",
       " ('Exterior1st', 15),\n",
       " ('Exterior2nd', 16),\n",
       " ('Neighborhood', 25)]"
      ]
     },
     "execution_count": 19,
     "metadata": {},
     "output_type": "execute_result"
    }
   ],
   "source": [
    "# Get number of unique entries in each column with categorical data\n",
    "object_nunique = list(map(lambda col: X_train[col].nunique(), object_cols))\n",
    "d = dict(zip(object_cols, object_nunique))\n",
    "\n",
    "# Print number of unique entries by column, in ascending order\n",
    "sorted(d.items(), key=lambda x: x[1])"
   ]
  },
  {
   "cell_type": "markdown",
   "id": "b82550ff",
   "metadata": {
    "papermill": {
     "duration": 0.055088,
     "end_time": "2022-01-11T12:52:38.913830",
     "exception": false,
     "start_time": "2022-01-11T12:52:38.858742",
     "status": "completed"
    },
    "tags": []
   },
   "source": [
    "# Step 3: Investigating cardinality\n",
    "\n",
    "### Part A\n",
    "\n",
    "The output above shows, for each column with categorical data, the number of unique values in the column.  For instance, the `'Street'` column in the training data has two unique values: `'Grvl'` and `'Pave'`, corresponding to a gravel road and a paved road, respectively.\n",
    "\n",
    "We refer to the number of unique entries of a categorical variable as the **cardinality** of that categorical variable.  For instance, the `'Street'` variable has cardinality 2.\n",
    "\n",
    "Use the output above to answer the questions below."
   ]
  },
  {
   "cell_type": "code",
   "execution_count": 20,
   "id": "7b88b574",
   "metadata": {
    "execution": {
     "iopub.execute_input": "2022-01-11T12:52:39.029147Z",
     "iopub.status.busy": "2022-01-11T12:52:39.028492Z",
     "iopub.status.idle": "2022-01-11T12:52:39.032830Z",
     "shell.execute_reply": "2022-01-11T12:52:39.032332Z",
     "shell.execute_reply.started": "2022-01-11T12:43:20.347935Z"
    },
    "papermill": {
     "duration": 0.064391,
     "end_time": "2022-01-11T12:52:39.032978",
     "exception": false,
     "start_time": "2022-01-11T12:52:38.968587",
     "status": "completed"
    },
    "tags": []
   },
   "outputs": [
    {
     "data": {
      "application/javascript": [
       "parent.postMessage({\"jupyterEvent\": \"custom.exercise_interaction\", \"data\": {\"outcomeType\": 1, \"valueTowardsCompletion\": 0.5, \"interactionType\": 1, \"questionType\": 1, \"questionId\": \"3.1_CardinalityA\", \"learnToolsVersion\": \"0.3.4\", \"failureMessage\": \"\", \"exceptionClass\": \"\", \"trace\": \"\"}}, \"*\")"
      ],
      "text/plain": [
       "<IPython.core.display.Javascript object>"
      ]
     },
     "metadata": {},
     "output_type": "display_data"
    },
    {
     "data": {
      "text/markdown": [
       "<span style=\"color:#33cc33\">Correct</span>"
      ],
      "text/plain": [
       "Correct"
      ]
     },
     "metadata": {},
     "output_type": "display_data"
    }
   ],
   "source": [
    "# Fill in the line below: How many categorical variables in the training data\n",
    "# have cardinality greater than 10?\n",
    "high_cardinality_numcols = 3\n",
    "\n",
    "# Fill in the line below: How many columns are needed to one-hot encode the \n",
    "# 'Neighborhood' variable in the training data?\n",
    "num_cols_neighborhood = 25\n",
    "\n",
    "# Check your answers\n",
    "step_3.a.check()"
   ]
  },
  {
   "cell_type": "code",
   "execution_count": 21,
   "id": "23d81d8d",
   "metadata": {
    "execution": {
     "iopub.execute_input": "2022-01-11T12:52:39.151087Z",
     "iopub.status.busy": "2022-01-11T12:52:39.150434Z",
     "iopub.status.idle": "2022-01-11T12:52:39.157930Z",
     "shell.execute_reply": "2022-01-11T12:52:39.158409Z",
     "shell.execute_reply.started": "2022-01-11T12:43:20.357078Z"
    },
    "papermill": {
     "duration": 0.06902,
     "end_time": "2022-01-11T12:52:39.158580",
     "exception": false,
     "start_time": "2022-01-11T12:52:39.089560",
     "status": "completed"
    },
    "tags": []
   },
   "outputs": [
    {
     "data": {
      "application/javascript": [
       "parent.postMessage({\"jupyterEvent\": \"custom.exercise_interaction\", \"data\": {\"interactionType\": 2, \"questionType\": 1, \"questionId\": \"3.1_CardinalityA\", \"learnToolsVersion\": \"0.3.4\", \"valueTowardsCompletion\": 0.0, \"failureMessage\": \"\", \"exceptionClass\": \"\", \"trace\": \"\", \"outcomeType\": 4}}, \"*\")"
      ],
      "text/plain": [
       "<IPython.core.display.Javascript object>"
      ]
     },
     "metadata": {},
     "output_type": "display_data"
    },
    {
     "data": {
      "text/markdown": [
       "<span style=\"color:#3366cc\">Hint:</span> To one-hot encode a variable, we need one column for each unique entry."
      ],
      "text/plain": [
       "Hint: To one-hot encode a variable, we need one column for each unique entry."
      ]
     },
     "metadata": {},
     "output_type": "display_data"
    },
    {
     "data": {
      "application/javascript": [
       "parent.postMessage({\"jupyterEvent\": \"custom.exercise_interaction\", \"data\": {\"interactionType\": 3, \"questionType\": 1, \"questionId\": \"3.1_CardinalityA\", \"learnToolsVersion\": \"0.3.4\", \"valueTowardsCompletion\": 0.0, \"failureMessage\": \"\", \"exceptionClass\": \"\", \"trace\": \"\", \"outcomeType\": 4}}, \"*\")"
      ],
      "text/plain": [
       "<IPython.core.display.Javascript object>"
      ]
     },
     "metadata": {},
     "output_type": "display_data"
    },
    {
     "data": {
      "text/markdown": [
       "<span style=\"color:#33cc99\">Solution:</span> \n",
       "```python\n",
       "# How many categorical variables in the training data\n",
       "# have cardinality greater than 10?\n",
       "high_cardinality_numcols = 3\n",
       "\n",
       "# How many columns are needed to one-hot encode the\n",
       "# 'Neighborhood' variable in the training data?\n",
       "num_cols_neighborhood = 25\n",
       "\n",
       "```"
      ],
      "text/plain": [
       "Solution: \n",
       "```python\n",
       "# How many categorical variables in the training data\n",
       "# have cardinality greater than 10?\n",
       "high_cardinality_numcols = 3\n",
       "\n",
       "# How many columns are needed to one-hot encode the\n",
       "# 'Neighborhood' variable in the training data?\n",
       "num_cols_neighborhood = 25\n",
       "\n",
       "```"
      ]
     },
     "metadata": {},
     "output_type": "display_data"
    }
   ],
   "source": [
    "# Lines below will give you a hint or solution code\n",
    "step_3.a.hint()\n",
    "step_3.a.solution()"
   ]
  },
  {
   "cell_type": "markdown",
   "id": "ae8b686c",
   "metadata": {
    "papermill": {
     "duration": 0.057556,
     "end_time": "2022-01-11T12:52:39.274779",
     "exception": false,
     "start_time": "2022-01-11T12:52:39.217223",
     "status": "completed"
    },
    "tags": []
   },
   "source": [
    "### Part B\n",
    "\n",
    "For large datasets with many rows, one-hot encoding can greatly expand the size of the dataset.  For this reason, we typically will only one-hot encode columns with relatively low cardinality.  Then, high cardinality columns can either be dropped from the dataset, or we can use ordinal encoding.\n",
    "\n",
    "As an example, consider a dataset with 10,000 rows, and containing one categorical column with 100 unique entries.  \n",
    "- If this column is replaced with the corresponding one-hot encoding, how many entries are added to the dataset?  \n",
    "- If we instead replace the column with the ordinal encoding, how many entries are added?  \n",
    "\n",
    "Use your answers to fill in the lines below."
   ]
  },
  {
   "cell_type": "code",
   "execution_count": 22,
   "id": "0441a819",
   "metadata": {
    "execution": {
     "iopub.execute_input": "2022-01-11T12:52:39.396222Z",
     "iopub.status.busy": "2022-01-11T12:52:39.395514Z",
     "iopub.status.idle": "2022-01-11T12:52:39.401693Z",
     "shell.execute_reply": "2022-01-11T12:52:39.402277Z",
     "shell.execute_reply.started": "2022-01-11T12:43:20.373534Z"
    },
    "papermill": {
     "duration": 0.068123,
     "end_time": "2022-01-11T12:52:39.402449",
     "exception": false,
     "start_time": "2022-01-11T12:52:39.334326",
     "status": "completed"
    },
    "tags": []
   },
   "outputs": [
    {
     "data": {
      "application/javascript": [
       "parent.postMessage({\"jupyterEvent\": \"custom.exercise_interaction\", \"data\": {\"outcomeType\": 1, \"valueTowardsCompletion\": 0.5, \"interactionType\": 1, \"questionType\": 1, \"questionId\": \"3.2_CardinalityB\", \"learnToolsVersion\": \"0.3.4\", \"failureMessage\": \"\", \"exceptionClass\": \"\", \"trace\": \"\"}}, \"*\")"
      ],
      "text/plain": [
       "<IPython.core.display.Javascript object>"
      ]
     },
     "metadata": {},
     "output_type": "display_data"
    },
    {
     "data": {
      "text/markdown": [
       "<span style=\"color:#33cc33\">Correct</span>"
      ],
      "text/plain": [
       "Correct"
      ]
     },
     "metadata": {},
     "output_type": "display_data"
    }
   ],
   "source": [
    "# Fill in the line below: How many entries are added to the dataset by \n",
    "# replacing the column with a one-hot encoding?\n",
    "OH_entries_added = 10000*100-10000\n",
    "\n",
    "# Fill in the line below: How many entries are added to the dataset by\n",
    "# replacing the column with an ordinal encoding?\n",
    "label_entries_added = 0\n",
    "\n",
    "# Check your answers\n",
    "step_3.b.check()"
   ]
  },
  {
   "cell_type": "code",
   "execution_count": 23,
   "id": "22c6ed89",
   "metadata": {
    "execution": {
     "iopub.execute_input": "2022-01-11T12:52:39.523242Z",
     "iopub.status.busy": "2022-01-11T12:52:39.522565Z",
     "iopub.status.idle": "2022-01-11T12:52:39.530720Z",
     "shell.execute_reply": "2022-01-11T12:52:39.531308Z",
     "shell.execute_reply.started": "2022-01-11T12:43:20.385046Z"
    },
    "papermill": {
     "duration": 0.070413,
     "end_time": "2022-01-11T12:52:39.531479",
     "exception": false,
     "start_time": "2022-01-11T12:52:39.461066",
     "status": "completed"
    },
    "tags": []
   },
   "outputs": [
    {
     "data": {
      "application/javascript": [
       "parent.postMessage({\"jupyterEvent\": \"custom.exercise_interaction\", \"data\": {\"interactionType\": 2, \"questionType\": 1, \"questionId\": \"3.2_CardinalityB\", \"learnToolsVersion\": \"0.3.4\", \"valueTowardsCompletion\": 0.0, \"failureMessage\": \"\", \"exceptionClass\": \"\", \"trace\": \"\", \"outcomeType\": 4}}, \"*\")"
      ],
      "text/plain": [
       "<IPython.core.display.Javascript object>"
      ]
     },
     "metadata": {},
     "output_type": "display_data"
    },
    {
     "data": {
      "text/markdown": [
       "<span style=\"color:#3366cc\">Hint:</span> To calculate how many entries are added to the dataset through the one-hot encoding, begin by calculating how many entries are needed to encode the categorical variable (by multiplying the number of rows by the number of columns in the one-hot encoding). Then, to obtain how many entries are **added** to the dataset, subtract the number of entries in the original column."
      ],
      "text/plain": [
       "Hint: To calculate how many entries are added to the dataset through the one-hot encoding, begin by calculating how many entries are needed to encode the categorical variable (by multiplying the number of rows by the number of columns in the one-hot encoding). Then, to obtain how many entries are **added** to the dataset, subtract the number of entries in the original column."
      ]
     },
     "metadata": {},
     "output_type": "display_data"
    },
    {
     "data": {
      "application/javascript": [
       "parent.postMessage({\"jupyterEvent\": \"custom.exercise_interaction\", \"data\": {\"interactionType\": 3, \"questionType\": 1, \"questionId\": \"3.2_CardinalityB\", \"learnToolsVersion\": \"0.3.4\", \"valueTowardsCompletion\": 0.0, \"failureMessage\": \"\", \"exceptionClass\": \"\", \"trace\": \"\", \"outcomeType\": 4}}, \"*\")"
      ],
      "text/plain": [
       "<IPython.core.display.Javascript object>"
      ]
     },
     "metadata": {},
     "output_type": "display_data"
    },
    {
     "data": {
      "text/markdown": [
       "<span style=\"color:#33cc99\">Solution:</span> \n",
       "```python\n",
       "# How many entries are added to the dataset by\n",
       "# replacing the column with a one-hot encoding?\n",
       "OH_entries_added = 1e4*100 - 1e4\n",
       "\n",
       "# How many entries are added to the dataset by\n",
       "# replacing the column with an ordinal encoding?\n",
       "label_entries_added = 0\n",
       "\n",
       "```"
      ],
      "text/plain": [
       "Solution: \n",
       "```python\n",
       "# How many entries are added to the dataset by\n",
       "# replacing the column with a one-hot encoding?\n",
       "OH_entries_added = 1e4*100 - 1e4\n",
       "\n",
       "# How many entries are added to the dataset by\n",
       "# replacing the column with an ordinal encoding?\n",
       "label_entries_added = 0\n",
       "\n",
       "```"
      ]
     },
     "metadata": {},
     "output_type": "display_data"
    }
   ],
   "source": [
    "# Lines below will give you a hint or solution code\n",
    "step_3.b.hint()\n",
    "step_3.b.solution()"
   ]
  },
  {
   "cell_type": "markdown",
   "id": "20f15c5d",
   "metadata": {
    "papermill": {
     "duration": 0.06035,
     "end_time": "2022-01-11T12:52:39.652485",
     "exception": false,
     "start_time": "2022-01-11T12:52:39.592135",
     "status": "completed"
    },
    "tags": []
   },
   "source": [
    "Next, you'll experiment with one-hot encoding.  But, instead of encoding all of the categorical variables in the dataset, you'll only create a one-hot encoding for columns with cardinality less than 10.\n",
    "\n",
    "Run the code cell below without changes to set `low_cardinality_cols` to a Python list containing the columns that will be one-hot encoded.  Likewise, `high_cardinality_cols` contains a list of categorical columns that will be dropped from the dataset."
   ]
  },
  {
   "cell_type": "code",
   "execution_count": 24,
   "id": "aa036936",
   "metadata": {
    "execution": {
     "iopub.execute_input": "2022-01-11T12:52:39.777230Z",
     "iopub.status.busy": "2022-01-11T12:52:39.776551Z",
     "iopub.status.idle": "2022-01-11T12:52:39.788263Z",
     "shell.execute_reply": "2022-01-11T12:52:39.788758Z",
     "shell.execute_reply.started": "2022-01-11T12:43:20.405674Z"
    },
    "papermill": {
     "duration": 0.076016,
     "end_time": "2022-01-11T12:52:39.788946",
     "exception": false,
     "start_time": "2022-01-11T12:52:39.712930",
     "status": "completed"
    },
    "tags": []
   },
   "outputs": [
    {
     "name": "stdout",
     "output_type": "stream",
     "text": [
      "Categorical columns that will be one-hot encoded: ['MSZoning', 'Street', 'LotShape', 'LandContour', 'Utilities', 'LotConfig', 'LandSlope', 'Condition1', 'Condition2', 'BldgType', 'HouseStyle', 'RoofStyle', 'RoofMatl', 'ExterQual', 'ExterCond', 'Foundation', 'Heating', 'HeatingQC', 'CentralAir', 'KitchenQual', 'Functional', 'PavedDrive', 'SaleType', 'SaleCondition']\n",
      "\n",
      "Categorical columns that will be dropped from the dataset: ['Exterior1st', 'Exterior2nd', 'Neighborhood']\n"
     ]
    }
   ],
   "source": [
    "# Columns that will be one-hot encoded\n",
    "low_cardinality_cols = [col for col in object_cols if X_train[col].nunique() < 10]\n",
    "\n",
    "# Columns that will be dropped from the dataset\n",
    "high_cardinality_cols = list(set(object_cols)-set(low_cardinality_cols))\n",
    "\n",
    "print('Categorical columns that will be one-hot encoded:', low_cardinality_cols)\n",
    "print('\\nCategorical columns that will be dropped from the dataset:', high_cardinality_cols)"
   ]
  },
  {
   "cell_type": "markdown",
   "id": "457d42ea",
   "metadata": {
    "papermill": {
     "duration": 0.061838,
     "end_time": "2022-01-11T12:52:39.912318",
     "exception": false,
     "start_time": "2022-01-11T12:52:39.850480",
     "status": "completed"
    },
    "tags": []
   },
   "source": [
    "# Step 4: One-hot encoding\n",
    "\n",
    "Use the next code cell to one-hot encode the data in `X_train` and `X_valid`.  Set the preprocessed DataFrames to `OH_X_train` and `OH_X_valid`, respectively.  \n",
    "- The full list of categorical columns in the dataset can be found in the Python list `object_cols`.\n",
    "- You should only one-hot encode the categorical columns in `low_cardinality_cols`.  All other categorical columns should be dropped from the dataset. "
   ]
  },
  {
   "cell_type": "code",
   "execution_count": 25,
   "id": "997f8838",
   "metadata": {
    "execution": {
     "iopub.execute_input": "2022-01-11T12:52:40.039714Z",
     "iopub.status.busy": "2022-01-11T12:52:40.038620Z",
     "iopub.status.idle": "2022-01-11T12:52:41.999021Z",
     "shell.execute_reply": "2022-01-11T12:52:41.998484Z",
     "shell.execute_reply.started": "2022-01-11T12:43:20.420901Z"
    },
    "papermill": {
     "duration": 2.025572,
     "end_time": "2022-01-11T12:52:41.999170",
     "exception": false,
     "start_time": "2022-01-11T12:52:39.973598",
     "status": "completed"
    },
    "tags": []
   },
   "outputs": [
    {
     "name": "stdout",
     "output_type": "stream",
     "text": [
      "MAE from Approach 3 (One-Hot Encoding):\n",
      "17525.345719178084\n"
     ]
    },
    {
     "data": {
      "application/javascript": [
       "parent.postMessage({\"jupyterEvent\": \"custom.exercise_interaction\", \"data\": {\"outcomeType\": 1, \"valueTowardsCompletion\": 0.5, \"interactionType\": 1, \"questionType\": 2, \"questionId\": \"4_OneHot\", \"learnToolsVersion\": \"0.3.4\", \"failureMessage\": \"\", \"exceptionClass\": \"\", \"trace\": \"\"}}, \"*\")"
      ],
      "text/plain": [
       "<IPython.core.display.Javascript object>"
      ]
     },
     "metadata": {},
     "output_type": "display_data"
    },
    {
     "data": {
      "text/markdown": [
       "<span style=\"color:#33cc33\">Correct</span>"
      ],
      "text/plain": [
       "Correct"
      ]
     },
     "metadata": {},
     "output_type": "display_data"
    }
   ],
   "source": [
    "from sklearn.preprocessing import OneHotEncoder\n",
    "\n",
    "# Use as many lines of code as you need!\n",
    "# Apply one-hot encoder to each column with categorical data\n",
    "OH_encoder = OneHotEncoder(handle_unknown='ignore', sparse=False)\n",
    "OH_cols_train = pd.DataFrame(OH_encoder.fit_transform(X_train[low_cardinality_cols]))\n",
    "OH_cols_valid = pd.DataFrame(OH_encoder.transform(X_valid[low_cardinality_cols]))\n",
    "\n",
    "# One-hot encoding removed index; put it back\n",
    "OH_cols_train.index = X_train.index\n",
    "OH_cols_valid.index = X_valid.index\n",
    "\n",
    "# Remove categorical columns (will replace with one-hot encoding)\n",
    "num_X_train = X_train.drop(object_cols, axis=1)\n",
    "num_X_valid = X_valid.drop(object_cols, axis=1)\n",
    "\n",
    "# Add one-hot encoded columns to numerical features\n",
    "OH_X_train = pd.concat([num_X_train, OH_cols_train], axis=1)\n",
    "OH_X_valid = pd.concat([num_X_valid, OH_cols_valid], axis=1)\n",
    "\n",
    "print(\"MAE from Approach 3 (One-Hot Encoding):\") \n",
    "print(score_dataset(OH_X_train, OH_X_valid, y_train, y_valid))\n",
    "\n",
    "# Check your answer\n",
    "step_4.check()"
   ]
  },
  {
   "cell_type": "code",
   "execution_count": 26,
   "id": "d64f15ec",
   "metadata": {
    "execution": {
     "iopub.execute_input": "2022-01-11T12:52:42.136062Z",
     "iopub.status.busy": "2022-01-11T12:52:42.135094Z",
     "iopub.status.idle": "2022-01-11T12:52:42.146094Z",
     "shell.execute_reply": "2022-01-11T12:52:42.145334Z",
     "shell.execute_reply.started": "2022-01-11T12:43:22.403166Z"
    },
    "papermill": {
     "duration": 0.083898,
     "end_time": "2022-01-11T12:52:42.146257",
     "exception": false,
     "start_time": "2022-01-11T12:52:42.062359",
     "status": "completed"
    },
    "tags": []
   },
   "outputs": [
    {
     "data": {
      "application/javascript": [
       "parent.postMessage({\"jupyterEvent\": \"custom.exercise_interaction\", \"data\": {\"interactionType\": 2, \"questionType\": 2, \"questionId\": \"4_OneHot\", \"learnToolsVersion\": \"0.3.4\", \"valueTowardsCompletion\": 0.0, \"failureMessage\": \"\", \"exceptionClass\": \"\", \"trace\": \"\", \"outcomeType\": 4}}, \"*\")"
      ],
      "text/plain": [
       "<IPython.core.display.Javascript object>"
      ]
     },
     "metadata": {},
     "output_type": "display_data"
    },
    {
     "data": {
      "text/markdown": [
       "<span style=\"color:#3366cc\">Hint:</span> Begin by applying the one-hot encoder to the low cardinality columns in the training and validation data in `X_train[low_cardinality_cols]` and `X_valid[low_cardinality_cols]`, respectively."
      ],
      "text/plain": [
       "Hint: Begin by applying the one-hot encoder to the low cardinality columns in the training and validation data in `X_train[low_cardinality_cols]` and `X_valid[low_cardinality_cols]`, respectively."
      ]
     },
     "metadata": {},
     "output_type": "display_data"
    },
    {
     "data": {
      "application/javascript": [
       "parent.postMessage({\"jupyterEvent\": \"custom.exercise_interaction\", \"data\": {\"interactionType\": 3, \"questionType\": 2, \"questionId\": \"4_OneHot\", \"learnToolsVersion\": \"0.3.4\", \"valueTowardsCompletion\": 0.0, \"failureMessage\": \"\", \"exceptionClass\": \"\", \"trace\": \"\", \"outcomeType\": 4}}, \"*\")"
      ],
      "text/plain": [
       "<IPython.core.display.Javascript object>"
      ]
     },
     "metadata": {},
     "output_type": "display_data"
    },
    {
     "data": {
      "text/markdown": [
       "<span style=\"color:#33cc99\">Solution:</span> \n",
       "```python\n",
       "# Apply one-hot encoder to each column with categorical data\n",
       "OH_encoder = OneHotEncoder(handle_unknown='ignore', sparse=False)\n",
       "OH_cols_train = pd.DataFrame(OH_encoder.fit_transform(X_train[low_cardinality_cols]))\n",
       "OH_cols_valid = pd.DataFrame(OH_encoder.transform(X_valid[low_cardinality_cols]))\n",
       "\n",
       "# One-hot encoding removed index; put it back\n",
       "OH_cols_train.index = X_train.index\n",
       "OH_cols_valid.index = X_valid.index\n",
       "\n",
       "# Remove categorical columns (will replace with one-hot encoding)\n",
       "num_X_train = X_train.drop(object_cols, axis=1)\n",
       "num_X_valid = X_valid.drop(object_cols, axis=1)\n",
       "\n",
       "# Add one-hot encoded columns to numerical features\n",
       "OH_X_train = pd.concat([num_X_train, OH_cols_train], axis=1)\n",
       "OH_X_valid = pd.concat([num_X_valid, OH_cols_valid], axis=1)\n",
       "\n",
       "\n",
       "```"
      ],
      "text/plain": [
       "Solution: \n",
       "```python\n",
       "# Apply one-hot encoder to each column with categorical data\n",
       "OH_encoder = OneHotEncoder(handle_unknown='ignore', sparse=False)\n",
       "OH_cols_train = pd.DataFrame(OH_encoder.fit_transform(X_train[low_cardinality_cols]))\n",
       "OH_cols_valid = pd.DataFrame(OH_encoder.transform(X_valid[low_cardinality_cols]))\n",
       "\n",
       "# One-hot encoding removed index; put it back\n",
       "OH_cols_train.index = X_train.index\n",
       "OH_cols_valid.index = X_valid.index\n",
       "\n",
       "# Remove categorical columns (will replace with one-hot encoding)\n",
       "num_X_train = X_train.drop(object_cols, axis=1)\n",
       "num_X_valid = X_valid.drop(object_cols, axis=1)\n",
       "\n",
       "# Add one-hot encoded columns to numerical features\n",
       "OH_X_train = pd.concat([num_X_train, OH_cols_train], axis=1)\n",
       "OH_X_valid = pd.concat([num_X_valid, OH_cols_valid], axis=1)\n",
       "\n",
       "\n",
       "```"
      ]
     },
     "metadata": {},
     "output_type": "display_data"
    }
   ],
   "source": [
    "# Lines below will give you a hint or solution code\n",
    "step_4.hint()\n",
    "step_4.solution()"
   ]
  },
  {
   "cell_type": "markdown",
   "id": "1ae940e9",
   "metadata": {
    "papermill": {
     "duration": 0.06489,
     "end_time": "2022-01-11T12:52:42.277802",
     "exception": false,
     "start_time": "2022-01-11T12:52:42.212912",
     "status": "completed"
    },
    "tags": []
   },
   "source": [
    "Run the next code cell to get the MAE for this approach."
   ]
  },
  {
   "cell_type": "code",
   "execution_count": 27,
   "id": "f6762a07",
   "metadata": {
    "execution": {
     "iopub.execute_input": "2022-01-11T12:52:42.416917Z",
     "iopub.status.busy": "2022-01-11T12:52:42.416212Z",
     "iopub.status.idle": "2022-01-11T12:52:44.330988Z",
     "shell.execute_reply": "2022-01-11T12:52:44.331489Z",
     "shell.execute_reply.started": "2022-01-11T12:43:22.416973Z"
    },
    "papermill": {
     "duration": 1.988943,
     "end_time": "2022-01-11T12:52:44.331658",
     "exception": false,
     "start_time": "2022-01-11T12:52:42.342715",
     "status": "completed"
    },
    "tags": []
   },
   "outputs": [
    {
     "name": "stdout",
     "output_type": "stream",
     "text": [
      "MAE from Approach 3 (One-Hot Encoding):\n",
      "17525.345719178084\n"
     ]
    }
   ],
   "source": [
    "print(\"MAE from Approach 3 (One-Hot Encoding):\") \n",
    "print(score_dataset(OH_X_train, OH_X_valid, y_train, y_valid))"
   ]
  },
  {
   "cell_type": "markdown",
   "id": "243d3c75",
   "metadata": {
    "papermill": {
     "duration": 0.066631,
     "end_time": "2022-01-11T12:52:44.463878",
     "exception": false,
     "start_time": "2022-01-11T12:52:44.397247",
     "status": "completed"
    },
    "tags": []
   },
   "source": [
    "---"
   ]
  },
  {
   "cell_type": "markdown",
   "id": "0fe70430",
   "metadata": {
    "papermill": {
     "duration": 0.06514,
     "end_time": "2022-01-11T12:52:44.594402",
     "exception": false,
     "start_time": "2022-01-11T12:52:44.529262",
     "status": "completed"
    },
    "tags": []
   },
   "source": [
    "# We need to get rid of NaN values in X_test\n",
    "\n",
    "Simplest solution - X_test.dropna()\n",
    "<br>Less simple solution - **Imputation**"
   ]
  },
  {
   "cell_type": "code",
   "execution_count": 28,
   "id": "f57d8266",
   "metadata": {
    "execution": {
     "iopub.execute_input": "2022-01-11T12:52:44.733194Z",
     "iopub.status.busy": "2022-01-11T12:52:44.732515Z",
     "iopub.status.idle": "2022-01-11T12:52:44.734828Z",
     "shell.execute_reply": "2022-01-11T12:52:44.734253Z",
     "shell.execute_reply.started": "2022-01-11T12:43:49.731791Z"
    },
    "papermill": {
     "duration": 0.075314,
     "end_time": "2022-01-11T12:52:44.734990",
     "exception": false,
     "start_time": "2022-01-11T12:52:44.659676",
     "status": "completed"
    },
    "tags": []
   },
   "outputs": [],
   "source": [
    "X_test_obj = X_test.select_dtypes(object)\n",
    "X_test_num = X_test.select_dtypes(exclude=['object'])"
   ]
  },
  {
   "cell_type": "code",
   "execution_count": 29,
   "id": "27a15c03",
   "metadata": {
    "execution": {
     "iopub.execute_input": "2022-01-11T12:52:44.870068Z",
     "iopub.status.busy": "2022-01-11T12:52:44.869386Z",
     "iopub.status.idle": "2022-01-11T12:52:44.871886Z",
     "shell.execute_reply": "2022-01-11T12:52:44.872485Z",
     "shell.execute_reply.started": "2022-01-11T12:44:05.121181Z"
    },
    "papermill": {
     "duration": 0.07256,
     "end_time": "2022-01-11T12:52:44.872650",
     "exception": false,
     "start_time": "2022-01-11T12:52:44.800090",
     "status": "completed"
    },
    "tags": []
   },
   "outputs": [
    {
     "name": "stdout",
     "output_type": "stream",
     "text": [
      "(1459, 33) (1459, 27)\n"
     ]
    }
   ],
   "source": [
    "print(X_test_num.shape, X_test_obj.shape)"
   ]
  },
  {
   "cell_type": "code",
   "execution_count": 30,
   "id": "372722b8",
   "metadata": {
    "execution": {
     "iopub.execute_input": "2022-01-11T12:52:45.013128Z",
     "iopub.status.busy": "2022-01-11T12:52:45.009360Z",
     "iopub.status.idle": "2022-01-11T12:52:45.074016Z",
     "shell.execute_reply": "2022-01-11T12:52:45.073449Z",
     "shell.execute_reply.started": "2022-01-11T12:50:09.628831Z"
    },
    "papermill": {
     "duration": 0.135418,
     "end_time": "2022-01-11T12:52:45.074173",
     "exception": false,
     "start_time": "2022-01-11T12:52:44.938755",
     "status": "completed"
    },
    "tags": []
   },
   "outputs": [],
   "source": [
    "from sklearn.impute import SimpleImputer\n",
    "\n",
    "obj_imputer = SimpleImputer(strategy='most_frequent')\n",
    "num_imputer = SimpleImputer(strategy='median')\n",
    "\n",
    "obj_imputer.fit(X_train.select_dtypes(object))\n",
    "num_imputer.fit(X_train.select_dtypes(exclude=['object']))\n",
    "\n",
    "# Making the imputation\n",
    "imputed_X_test_obj = pd.DataFrame(obj_imputer.transform(X_test_obj))\n",
    "imputed_X_test_num = pd.DataFrame(num_imputer.transform(X_test_num))\n",
    "\n",
    "# Imputation removed column names so we put them back\n",
    "imputed_X_test_obj.columns = X_test_obj.columns\n",
    "imputed_X_test_num.columns = X_test_num.columns"
   ]
  },
  {
   "cell_type": "code",
   "execution_count": 31,
   "id": "ecdb3f8f",
   "metadata": {
    "execution": {
     "iopub.execute_input": "2022-01-11T12:52:45.212296Z",
     "iopub.status.busy": "2022-01-11T12:52:45.211425Z",
     "iopub.status.idle": "2022-01-11T12:52:45.214417Z",
     "shell.execute_reply": "2022-01-11T12:52:45.213763Z",
     "shell.execute_reply.started": "2022-01-11T12:50:18.060540Z"
    },
    "papermill": {
     "duration": 0.074615,
     "end_time": "2022-01-11T12:52:45.214556",
     "exception": false,
     "start_time": "2022-01-11T12:52:45.139941",
     "status": "completed"
    },
    "tags": []
   },
   "outputs": [],
   "source": [
    "X_test = pd.concat([imputed_X_test_obj, imputed_X_test_num], axis=1)"
   ]
  },
  {
   "cell_type": "code",
   "execution_count": 32,
   "id": "70e15fa8",
   "metadata": {
    "execution": {
     "iopub.execute_input": "2022-01-11T12:52:45.389809Z",
     "iopub.status.busy": "2022-01-11T12:52:45.389077Z",
     "iopub.status.idle": "2022-01-11T12:52:45.410892Z",
     "shell.execute_reply": "2022-01-11T12:52:45.410370Z",
     "shell.execute_reply.started": "2022-01-11T12:51:36.532137Z"
    },
    "papermill": {
     "duration": 0.130814,
     "end_time": "2022-01-11T12:52:45.411041",
     "exception": false,
     "start_time": "2022-01-11T12:52:45.280227",
     "status": "completed"
    },
    "tags": []
   },
   "outputs": [
    {
     "data": {
      "text/html": [
       "<div>\n",
       "<style scoped>\n",
       "    .dataframe tbody tr th:only-of-type {\n",
       "        vertical-align: middle;\n",
       "    }\n",
       "\n",
       "    .dataframe tbody tr th {\n",
       "        vertical-align: top;\n",
       "    }\n",
       "\n",
       "    .dataframe thead th {\n",
       "        text-align: right;\n",
       "    }\n",
       "</style>\n",
       "<table border=\"1\" class=\"dataframe\">\n",
       "  <thead>\n",
       "    <tr style=\"text-align: right;\">\n",
       "      <th></th>\n",
       "      <th>MSZoning</th>\n",
       "      <th>Street</th>\n",
       "      <th>LotShape</th>\n",
       "      <th>LandContour</th>\n",
       "      <th>Utilities</th>\n",
       "      <th>LotConfig</th>\n",
       "      <th>LandSlope</th>\n",
       "      <th>Neighborhood</th>\n",
       "      <th>Condition1</th>\n",
       "      <th>Condition2</th>\n",
       "      <th>...</th>\n",
       "      <th>GarageArea</th>\n",
       "      <th>WoodDeckSF</th>\n",
       "      <th>OpenPorchSF</th>\n",
       "      <th>EnclosedPorch</th>\n",
       "      <th>3SsnPorch</th>\n",
       "      <th>ScreenPorch</th>\n",
       "      <th>PoolArea</th>\n",
       "      <th>MiscVal</th>\n",
       "      <th>MoSold</th>\n",
       "      <th>YrSold</th>\n",
       "    </tr>\n",
       "  </thead>\n",
       "  <tbody>\n",
       "    <tr>\n",
       "      <th>0</th>\n",
       "      <td>RH</td>\n",
       "      <td>Pave</td>\n",
       "      <td>Reg</td>\n",
       "      <td>Lvl</td>\n",
       "      <td>AllPub</td>\n",
       "      <td>Inside</td>\n",
       "      <td>Gtl</td>\n",
       "      <td>NAmes</td>\n",
       "      <td>Feedr</td>\n",
       "      <td>Norm</td>\n",
       "      <td>...</td>\n",
       "      <td>730.0</td>\n",
       "      <td>140.0</td>\n",
       "      <td>0.0</td>\n",
       "      <td>0.0</td>\n",
       "      <td>0.0</td>\n",
       "      <td>120.0</td>\n",
       "      <td>0.0</td>\n",
       "      <td>0.0</td>\n",
       "      <td>6.0</td>\n",
       "      <td>2010.0</td>\n",
       "    </tr>\n",
       "    <tr>\n",
       "      <th>1</th>\n",
       "      <td>RL</td>\n",
       "      <td>Pave</td>\n",
       "      <td>IR1</td>\n",
       "      <td>Lvl</td>\n",
       "      <td>AllPub</td>\n",
       "      <td>Corner</td>\n",
       "      <td>Gtl</td>\n",
       "      <td>NAmes</td>\n",
       "      <td>Norm</td>\n",
       "      <td>Norm</td>\n",
       "      <td>...</td>\n",
       "      <td>312.0</td>\n",
       "      <td>393.0</td>\n",
       "      <td>36.0</td>\n",
       "      <td>0.0</td>\n",
       "      <td>0.0</td>\n",
       "      <td>0.0</td>\n",
       "      <td>0.0</td>\n",
       "      <td>12500.0</td>\n",
       "      <td>6.0</td>\n",
       "      <td>2010.0</td>\n",
       "    </tr>\n",
       "    <tr>\n",
       "      <th>2</th>\n",
       "      <td>RL</td>\n",
       "      <td>Pave</td>\n",
       "      <td>IR1</td>\n",
       "      <td>Lvl</td>\n",
       "      <td>AllPub</td>\n",
       "      <td>Inside</td>\n",
       "      <td>Gtl</td>\n",
       "      <td>Gilbert</td>\n",
       "      <td>Norm</td>\n",
       "      <td>Norm</td>\n",
       "      <td>...</td>\n",
       "      <td>482.0</td>\n",
       "      <td>212.0</td>\n",
       "      <td>34.0</td>\n",
       "      <td>0.0</td>\n",
       "      <td>0.0</td>\n",
       "      <td>0.0</td>\n",
       "      <td>0.0</td>\n",
       "      <td>0.0</td>\n",
       "      <td>3.0</td>\n",
       "      <td>2010.0</td>\n",
       "    </tr>\n",
       "    <tr>\n",
       "      <th>3</th>\n",
       "      <td>RL</td>\n",
       "      <td>Pave</td>\n",
       "      <td>IR1</td>\n",
       "      <td>Lvl</td>\n",
       "      <td>AllPub</td>\n",
       "      <td>Inside</td>\n",
       "      <td>Gtl</td>\n",
       "      <td>Gilbert</td>\n",
       "      <td>Norm</td>\n",
       "      <td>Norm</td>\n",
       "      <td>...</td>\n",
       "      <td>470.0</td>\n",
       "      <td>360.0</td>\n",
       "      <td>36.0</td>\n",
       "      <td>0.0</td>\n",
       "      <td>0.0</td>\n",
       "      <td>0.0</td>\n",
       "      <td>0.0</td>\n",
       "      <td>0.0</td>\n",
       "      <td>6.0</td>\n",
       "      <td>2010.0</td>\n",
       "    </tr>\n",
       "    <tr>\n",
       "      <th>4</th>\n",
       "      <td>RL</td>\n",
       "      <td>Pave</td>\n",
       "      <td>IR1</td>\n",
       "      <td>HLS</td>\n",
       "      <td>AllPub</td>\n",
       "      <td>Inside</td>\n",
       "      <td>Gtl</td>\n",
       "      <td>StoneBr</td>\n",
       "      <td>Norm</td>\n",
       "      <td>Norm</td>\n",
       "      <td>...</td>\n",
       "      <td>506.0</td>\n",
       "      <td>0.0</td>\n",
       "      <td>82.0</td>\n",
       "      <td>0.0</td>\n",
       "      <td>0.0</td>\n",
       "      <td>144.0</td>\n",
       "      <td>0.0</td>\n",
       "      <td>0.0</td>\n",
       "      <td>1.0</td>\n",
       "      <td>2010.0</td>\n",
       "    </tr>\n",
       "  </tbody>\n",
       "</table>\n",
       "<p>5 rows × 60 columns</p>\n",
       "</div>"
      ],
      "text/plain": [
       "  MSZoning Street LotShape LandContour Utilities LotConfig LandSlope  \\\n",
       "0       RH   Pave      Reg         Lvl    AllPub    Inside       Gtl   \n",
       "1       RL   Pave      IR1         Lvl    AllPub    Corner       Gtl   \n",
       "2       RL   Pave      IR1         Lvl    AllPub    Inside       Gtl   \n",
       "3       RL   Pave      IR1         Lvl    AllPub    Inside       Gtl   \n",
       "4       RL   Pave      IR1         HLS    AllPub    Inside       Gtl   \n",
       "\n",
       "  Neighborhood Condition1 Condition2  ... GarageArea WoodDeckSF OpenPorchSF  \\\n",
       "0        NAmes      Feedr       Norm  ...      730.0      140.0         0.0   \n",
       "1        NAmes       Norm       Norm  ...      312.0      393.0        36.0   \n",
       "2      Gilbert       Norm       Norm  ...      482.0      212.0        34.0   \n",
       "3      Gilbert       Norm       Norm  ...      470.0      360.0        36.0   \n",
       "4      StoneBr       Norm       Norm  ...      506.0        0.0        82.0   \n",
       "\n",
       "  EnclosedPorch 3SsnPorch ScreenPorch PoolArea  MiscVal MoSold  YrSold  \n",
       "0           0.0       0.0       120.0      0.0      0.0    6.0  2010.0  \n",
       "1           0.0       0.0         0.0      0.0  12500.0    6.0  2010.0  \n",
       "2           0.0       0.0         0.0      0.0      0.0    3.0  2010.0  \n",
       "3           0.0       0.0         0.0      0.0      0.0    6.0  2010.0  \n",
       "4           0.0       0.0       144.0      0.0      0.0    1.0  2010.0  \n",
       "\n",
       "[5 rows x 60 columns]"
      ]
     },
     "execution_count": 32,
     "metadata": {},
     "output_type": "execute_result"
    }
   ],
   "source": [
    "X_test.head()"
   ]
  },
  {
   "cell_type": "code",
   "execution_count": 33,
   "id": "4d090e03",
   "metadata": {
    "execution": {
     "iopub.execute_input": "2022-01-11T12:52:45.559736Z",
     "iopub.status.busy": "2022-01-11T12:52:45.559086Z",
     "iopub.status.idle": "2022-01-11T12:52:45.565461Z",
     "shell.execute_reply": "2022-01-11T12:52:45.566090Z",
     "shell.execute_reply.started": "2022-01-11T12:50:20.582045Z"
    },
    "papermill": {
     "duration": 0.078788,
     "end_time": "2022-01-11T12:52:45.566271",
     "exception": false,
     "start_time": "2022-01-11T12:52:45.487483",
     "status": "completed"
    },
    "tags": []
   },
   "outputs": [
    {
     "data": {
      "text/plain": [
       "(1459, 60)"
      ]
     },
     "execution_count": 33,
     "metadata": {},
     "output_type": "execute_result"
    }
   ],
   "source": [
    "X_test.shape"
   ]
  },
  {
   "cell_type": "code",
   "execution_count": 34,
   "id": "eef404c1",
   "metadata": {
    "execution": {
     "iopub.execute_input": "2022-01-11T12:52:45.721049Z",
     "iopub.status.busy": "2022-01-11T12:52:45.720080Z",
     "iopub.status.idle": "2022-01-11T12:52:45.736684Z",
     "shell.execute_reply": "2022-01-11T12:52:45.737513Z",
     "shell.execute_reply.started": "2022-01-11T12:50:38.902134Z"
    },
    "papermill": {
     "duration": 0.093088,
     "end_time": "2022-01-11T12:52:45.737750",
     "exception": false,
     "start_time": "2022-01-11T12:52:45.644662",
     "status": "completed"
    },
    "tags": []
   },
   "outputs": [
    {
     "data": {
      "text/plain": [
       "0"
      ]
     },
     "execution_count": 34,
     "metadata": {},
     "output_type": "execute_result"
    }
   ],
   "source": [
    "X_test.isnull().any().sum()"
   ]
  },
  {
   "cell_type": "markdown",
   "id": "183a88b2",
   "metadata": {
    "papermill": {
     "duration": 0.067371,
     "end_time": "2022-01-11T12:52:45.878406",
     "exception": false,
     "start_time": "2022-01-11T12:52:45.811035",
     "status": "completed"
    },
    "tags": []
   },
   "source": [
    "# Perfect, X_test is of right shape and there are no null values"
   ]
  },
  {
   "cell_type": "code",
   "execution_count": 35,
   "id": "c5a774d3",
   "metadata": {
    "execution": {
     "iopub.execute_input": "2022-01-11T12:52:46.019780Z",
     "iopub.status.busy": "2022-01-11T12:52:46.019111Z",
     "iopub.status.idle": "2022-01-11T12:52:46.055531Z",
     "shell.execute_reply": "2022-01-11T12:52:46.056074Z",
     "shell.execute_reply.started": "2022-01-11T12:43:24.369313Z"
    },
    "papermill": {
     "duration": 0.108516,
     "end_time": "2022-01-11T12:52:46.056266",
     "exception": false,
     "start_time": "2022-01-11T12:52:45.947750",
     "status": "completed"
    },
    "tags": []
   },
   "outputs": [],
   "source": [
    "# Fill in the line below: preprocess test data\n",
    "OH_cols_test = pd.DataFrame(OH_encoder.transform(X_test[low_cardinality_cols]))\n",
    "\n",
    "# One-hot encoding removed index; put it back\n",
    "OH_cols_test.index = X_test.index\n",
    "\n",
    "# Remove categorical columns (will replace with one-hot encoding)\n",
    "num_X_test = X_test.drop(object_cols, axis=1)\n",
    "\n",
    "# Add one-hot encoded columns to numerical features\n",
    "OH_X_test = pd.concat([num_X_test, OH_cols_test], axis=1)\n",
    "\n"
   ]
  },
  {
   "cell_type": "markdown",
   "id": "fa89fd86",
   "metadata": {
    "papermill": {
     "duration": 0.067192,
     "end_time": "2022-01-11T12:52:46.194184",
     "exception": false,
     "start_time": "2022-01-11T12:52:46.126992",
     "status": "completed"
    },
    "tags": []
   },
   "source": [
    "Defining model & making predictions on OH_X_test (one hot + imputer)"
   ]
  },
  {
   "cell_type": "code",
   "execution_count": 36,
   "id": "e1643b51",
   "metadata": {
    "execution": {
     "iopub.execute_input": "2022-01-11T12:52:46.339153Z",
     "iopub.status.busy": "2022-01-11T12:52:46.338096Z",
     "iopub.status.idle": "2022-01-11T12:52:48.270524Z",
     "shell.execute_reply": "2022-01-11T12:52:48.269791Z",
     "shell.execute_reply.started": "2022-01-11T12:43:24.370751Z"
    },
    "papermill": {
     "duration": 2.007687,
     "end_time": "2022-01-11T12:52:48.270672",
     "exception": false,
     "start_time": "2022-01-11T12:52:46.262985",
     "status": "completed"
    },
    "tags": []
   },
   "outputs": [],
   "source": [
    "model = RandomForestRegressor(n_estimators=100, random_state=0)\n",
    "model.fit(OH_X_train, y_train)\n",
    "\n",
    "# Fill in the line below: get test predictions\n",
    "preds_test = model.predict(OH_X_test)"
   ]
  },
  {
   "cell_type": "code",
   "execution_count": 37,
   "id": "d881c8e9",
   "metadata": {
    "execution": {
     "iopub.execute_input": "2022-01-11T12:52:48.410422Z",
     "iopub.status.busy": "2022-01-11T12:52:48.409515Z",
     "iopub.status.idle": "2022-01-11T12:52:48.412555Z",
     "shell.execute_reply": "2022-01-11T12:52:48.413074Z",
     "shell.execute_reply.started": "2022-01-11T12:43:24.372364Z"
    },
    "papermill": {
     "duration": 0.075308,
     "end_time": "2022-01-11T12:52:48.413241",
     "exception": false,
     "start_time": "2022-01-11T12:52:48.337933",
     "status": "completed"
    },
    "tags": []
   },
   "outputs": [
    {
     "name": "stdout",
     "output_type": "stream",
     "text": [
      "(1459, 60)\n"
     ]
    }
   ],
   "source": [
    "print(X_test.shape)"
   ]
  },
  {
   "cell_type": "code",
   "execution_count": 38,
   "id": "922e04a7",
   "metadata": {
    "execution": {
     "iopub.execute_input": "2022-01-11T12:52:48.551050Z",
     "iopub.status.busy": "2022-01-11T12:52:48.550389Z",
     "iopub.status.idle": "2022-01-11T12:52:48.563564Z",
     "shell.execute_reply": "2022-01-11T12:52:48.563005Z",
     "shell.execute_reply.started": "2022-01-11T12:43:24.374498Z"
    },
    "papermill": {
     "duration": 0.083171,
     "end_time": "2022-01-11T12:52:48.563704",
     "exception": false,
     "start_time": "2022-01-11T12:52:48.480533",
     "status": "completed"
    },
    "tags": []
   },
   "outputs": [],
   "source": [
    "# Save test predictions to file\n",
    "output = pd.DataFrame({'Id': X_test.index,\n",
    "                       'SalePrice': preds_test})\n",
    "output.to_csv('submission.csv', index=False)"
   ]
  },
  {
   "cell_type": "markdown",
   "id": "6c483424",
   "metadata": {
    "papermill": {
     "duration": 0.06754,
     "end_time": "2022-01-11T12:52:48.699169",
     "exception": false,
     "start_time": "2022-01-11T12:52:48.631629",
     "status": "completed"
    },
    "tags": []
   },
   "source": [
    "# Generate test predictions and submit your results\n",
    "\n",
    "After you complete Step 4, if you'd like to use what you've learned to submit your results to the leaderboard, you'll need to preprocess the test data before generating predictions.\n",
    "\n",
    "**This step is completely optional, and you do not need to submit results to the leaderboard to successfully complete the exercise.**\n",
    "\n",
    "Check out the previous exercise if you need help with remembering how to [join the competition](https://www.kaggle.com/c/home-data-for-ml-course) or save your results to CSV.  Once you have generated a file with your results, follow the instructions below:\n",
    "1. Begin by clicking on the **Save Version** button in the top right corner of the window.  This will generate a pop-up window.  \n",
    "2. Ensure that the **Save and Run All** option is selected, and then click on the **Save** button.\n",
    "3. This generates a window in the bottom left corner of the notebook.  After it has finished running, click on the number to the right of the **Save Version** button.  This pulls up a list of versions on the right of the screen.  Click on the ellipsis **(...)** to the right of the most recent version, and select **Open in Viewer**.  This brings you into view mode of the same page. You will need to scroll down to get back to these instructions.\n",
    "4. Click on the **Output** tab on the right of the screen.  Then, click on the file you would like to submit, and click on the blue **Submit** button to submit your results to the leaderboard.\n",
    "\n",
    "You have now successfully submitted to the competition!\n",
    "\n",
    "If you want to keep working to improve your performance, select the **Edit** button in the top right of the screen. Then you can change your code and repeat the process. There's a lot of room to improve, and you will climb up the leaderboard as you work.\n"
   ]
  },
  {
   "cell_type": "code",
   "execution_count": 39,
   "id": "4044afc5",
   "metadata": {
    "execution": {
     "iopub.execute_input": "2022-01-11T12:52:48.839922Z",
     "iopub.status.busy": "2022-01-11T12:52:48.839246Z",
     "iopub.status.idle": "2022-01-11T12:52:48.841612Z",
     "shell.execute_reply": "2022-01-11T12:52:48.842094Z",
     "shell.execute_reply.started": "2022-01-11T12:43:24.376150Z"
    },
    "papermill": {
     "duration": 0.073871,
     "end_time": "2022-01-11T12:52:48.842258",
     "exception": false,
     "start_time": "2022-01-11T12:52:48.768387",
     "status": "completed"
    },
    "tags": []
   },
   "outputs": [],
   "source": [
    "# (Optional) Your code here"
   ]
  },
  {
   "cell_type": "markdown",
   "id": "90e1fa13",
   "metadata": {
    "papermill": {
     "duration": 0.069313,
     "end_time": "2022-01-11T12:52:48.979626",
     "exception": false,
     "start_time": "2022-01-11T12:52:48.910313",
     "status": "completed"
    },
    "tags": []
   },
   "source": [
    "# Keep going\n",
    "\n",
    "With missing value handling and categorical encoding, your modeling process is getting complex. This complexity gets worse when you want to save your model to use in the future. The key to managing this complexity is something called **pipelines**. \n",
    "\n",
    "**[Learn to use pipelines](https://www.kaggle.com/alexisbcook/pipelines)** to preprocess datasets with categorical variables, missing values and any other messiness your data throws at you."
   ]
  },
  {
   "cell_type": "markdown",
   "id": "012f7489",
   "metadata": {
    "papermill": {
     "duration": 0.068207,
     "end_time": "2022-01-11T12:52:49.115246",
     "exception": false,
     "start_time": "2022-01-11T12:52:49.047039",
     "status": "completed"
    },
    "tags": []
   },
   "source": [
    "---\n",
    "\n",
    "\n",
    "\n",
    "\n",
    "*Have questions or comments? Visit the [Learn Discussion forum](https://www.kaggle.com/learn-forum/161289) to chat with other Learners.*"
   ]
  }
 ],
 "metadata": {
  "kernelspec": {
   "display_name": "Python 3",
   "language": "python",
   "name": "python3"
  },
  "language_info": {
   "codemirror_mode": {
    "name": "ipython",
    "version": 3
   },
   "file_extension": ".py",
   "mimetype": "text/x-python",
   "name": "python",
   "nbconvert_exporter": "python",
   "pygments_lexer": "ipython3",
   "version": "3.7.12"
  },
  "papermill": {
   "default_parameters": {},
   "duration": 31.366237,
   "end_time": "2022-01-11T12:52:49.892976",
   "environment_variables": {},
   "exception": null,
   "input_path": "__notebook__.ipynb",
   "output_path": "__notebook__.ipynb",
   "parameters": {},
   "start_time": "2022-01-11T12:52:18.526739",
   "version": "2.3.3"
  }
 },
 "nbformat": 4,
 "nbformat_minor": 5
}
