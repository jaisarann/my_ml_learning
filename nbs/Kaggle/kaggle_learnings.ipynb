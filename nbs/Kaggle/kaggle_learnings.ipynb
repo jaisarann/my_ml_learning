{
 "cells": [
  {
   "cell_type": "markdown",
   "metadata": {},
   "source": [
    "## Ordinal Encoder - Issue Handling"
   ]
  },
  {
   "cell_type": "markdown",
   "metadata": {},
   "source": [
    "#### Label exists in training but not in valid ds, so it raises error to handle it, this is a simple technique"
   ]
  },
  {
   "cell_type": "markdown",
   "metadata": {},
   "source": []
  },
  {
   "cell_type": "code",
   "execution_count": null,
   "metadata": {},
   "outputs": [],
   "source": [
    "object_cols = [col for col in X_train.columns if X_train[col].dtype == 'object']\n",
    "len(object_cols)\n",
    "\n",
    "good_label_cols = [col for col in object_cols\n",
    "                  if set(X_valid[col]).issubset(set(X_train[col]))]\n",
    "\n",
    "bad_label_cols = list(set(object_cols) - set(good_label_cols))"
   ]
  },
  {
   "cell_type": "markdown",
   "metadata": {},
   "source": [
    "### Find no. of unique values in each object cols"
   ]
  },
  {
   "cell_type": "code",
   "execution_count": null,
   "metadata": {},
   "outputs": [],
   "source": [
    "object_nunique = list(map(lambda col: X_train[col].nunique(), object_cols))\n",
    "object_nunique"
   ]
  },
  {
   "cell_type": "code",
   "execution_count": null,
   "metadata": {},
   "outputs": [],
   "source": [
    "dict(zip(object_cols, object_nunique))"
   ]
  },
  {
   "cell_type": "markdown",
   "metadata": {},
   "source": [
    "### High Cardinality (>10) finder"
   ]
  },
  {
   "cell_type": "code",
   "execution_count": null,
   "metadata": {},
   "outputs": [],
   "source": [
    "# Columns that will be one-hot encoded\n",
    "low_cardinality_cols = [col for col in object_cols if X_train[col].nunique() < 10]\n",
    "\n",
    "# Columns that will be dropped from the dataset\n",
    "high_cardinality_cols = list(set(object_cols)-set(low_cardinality_cols))\n",
    "\n",
    "print('Categorical columns that will be one-hot encoded:', low_cardinality_cols)\n",
    "print('\\nCategorical columns that will be dropped from the dataset:', high_cardinality_cols)"
   ]
  },
  {
   "cell_type": "markdown",
   "metadata": {},
   "source": [
    "## OneHot encode"
   ]
  },
  {
   "cell_type": "code",
   "execution_count": null,
   "metadata": {},
   "outputs": [],
   "source": [
    "OHEnc = OneHotEncoder(handle_unknown='ignore', sparse=False)\n",
    "OH_Cols_train = pd.DataFrame(OHEnc.fit_transform(X_train[low_cardinality_cols]))\n",
    "OH_Cols_valid = pd.DataFrame(OHEnc.transform(X_valid[low_cardinality_cols]))"
   ]
  },
  {
   "cell_type": "code",
   "execution_count": null,
   "metadata": {},
   "outputs": [],
   "source": [
    "# OneHot encode will remove Index, so re-apply the index.\n",
    "OH_Cols_train.index  = X_train.index\n",
    "OH_Cols_valid.index = X_valid.index"
   ]
  },
  {
   "cell_type": "code",
   "execution_count": null,
   "metadata": {},
   "outputs": [],
   "source": [
    "#remove all the object cols.\n",
    "t1 = X_train_bkup.drop(object_cols, axis=1)\n",
    "v1 = X_valid_bkup.drop(object_cols, axis=1)"
   ]
  },
  {
   "cell_type": "code",
   "execution_count": null,
   "metadata": {},
   "outputs": [],
   "source": [
    "#concat othe than object cols with OneHot encoded cols.\n",
    "X_train_new = pd.concat([t1, OH_Cols_train], axis=1)\n",
    "X_valid_new = pd.concat([v1, OH_Cols_valid], axis=1)"
   ]
  }
 ],
 "metadata": {
  "language_info": {
   "name": "python"
  },
  "orig_nbformat": 4
 },
 "nbformat": 4,
 "nbformat_minor": 2
}
