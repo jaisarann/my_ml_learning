{
 "cells": [
  {
   "cell_type": "code",
   "execution_count": 37,
   "metadata": {},
   "outputs": [],
   "source": [
    "import seaborn as sns\n",
    "from sklearn.model_selection import train_test_split\n",
    "from sklearn.ensemble import RandomForestRegressor"
   ]
  },
  {
   "cell_type": "code",
   "execution_count": 55,
   "metadata": {},
   "outputs": [],
   "source": [
    "from shapash.explainer.smart_explainer import SmartExplainer\n",
    "from shapash.utils.load_smartpredictor import load_smartpredictor"
   ]
  },
  {
   "cell_type": "markdown",
   "metadata": {},
   "source": [
    "## Load Datasets"
   ]
  },
  {
   "cell_type": "code",
   "execution_count": 5,
   "metadata": {},
   "outputs": [
    {
     "data": {
      "text/html": [
       "<div>\n",
       "<style scoped>\n",
       "    .dataframe tbody tr th:only-of-type {\n",
       "        vertical-align: middle;\n",
       "    }\n",
       "\n",
       "    .dataframe tbody tr th {\n",
       "        vertical-align: top;\n",
       "    }\n",
       "\n",
       "    .dataframe thead th {\n",
       "        text-align: right;\n",
       "    }\n",
       "</style>\n",
       "<table border=\"1\" class=\"dataframe\">\n",
       "  <thead>\n",
       "    <tr style=\"text-align: right;\">\n",
       "      <th></th>\n",
       "      <th>total_bill</th>\n",
       "      <th>tip</th>\n",
       "      <th>sex</th>\n",
       "      <th>smoker</th>\n",
       "      <th>day</th>\n",
       "      <th>time</th>\n",
       "      <th>size</th>\n",
       "    </tr>\n",
       "  </thead>\n",
       "  <tbody>\n",
       "    <tr>\n",
       "      <th>0</th>\n",
       "      <td>16.99</td>\n",
       "      <td>1.01</td>\n",
       "      <td>Female</td>\n",
       "      <td>No</td>\n",
       "      <td>Sun</td>\n",
       "      <td>Dinner</td>\n",
       "      <td>2</td>\n",
       "    </tr>\n",
       "    <tr>\n",
       "      <th>1</th>\n",
       "      <td>10.34</td>\n",
       "      <td>1.66</td>\n",
       "      <td>Male</td>\n",
       "      <td>No</td>\n",
       "      <td>Sun</td>\n",
       "      <td>Dinner</td>\n",
       "      <td>3</td>\n",
       "    </tr>\n",
       "  </tbody>\n",
       "</table>\n",
       "</div>"
      ],
      "text/plain": [
       "   total_bill   tip     sex smoker  day    time  size\n",
       "0       16.99  1.01  Female     No  Sun  Dinner     2\n",
       "1       10.34  1.66    Male     No  Sun  Dinner     3"
      ]
     },
     "execution_count": 5,
     "metadata": {},
     "output_type": "execute_result"
    }
   ],
   "source": [
    "df  = sns.load_dataset('tips')\n",
    "df.head(2)"
   ]
  },
  {
   "cell_type": "code",
   "execution_count": 11,
   "metadata": {},
   "outputs": [],
   "source": [
    "X = df[df.columns.difference(['tip'])]\n",
    "y = df['tip']"
   ]
  },
  {
   "cell_type": "code",
   "execution_count": 12,
   "metadata": {},
   "outputs": [
    {
     "data": {
      "text/html": [
       "<div>\n",
       "<style scoped>\n",
       "    .dataframe tbody tr th:only-of-type {\n",
       "        vertical-align: middle;\n",
       "    }\n",
       "\n",
       "    .dataframe tbody tr th {\n",
       "        vertical-align: top;\n",
       "    }\n",
       "\n",
       "    .dataframe thead th {\n",
       "        text-align: right;\n",
       "    }\n",
       "</style>\n",
       "<table border=\"1\" class=\"dataframe\">\n",
       "  <thead>\n",
       "    <tr style=\"text-align: right;\">\n",
       "      <th></th>\n",
       "      <th>day</th>\n",
       "      <th>sex</th>\n",
       "      <th>size</th>\n",
       "      <th>smoker</th>\n",
       "      <th>time</th>\n",
       "      <th>total_bill</th>\n",
       "    </tr>\n",
       "  </thead>\n",
       "  <tbody>\n",
       "    <tr>\n",
       "      <th>0</th>\n",
       "      <td>Sun</td>\n",
       "      <td>Female</td>\n",
       "      <td>2</td>\n",
       "      <td>No</td>\n",
       "      <td>Dinner</td>\n",
       "      <td>16.99</td>\n",
       "    </tr>\n",
       "    <tr>\n",
       "      <th>1</th>\n",
       "      <td>Sun</td>\n",
       "      <td>Male</td>\n",
       "      <td>3</td>\n",
       "      <td>No</td>\n",
       "      <td>Dinner</td>\n",
       "      <td>10.34</td>\n",
       "    </tr>\n",
       "  </tbody>\n",
       "</table>\n",
       "</div>"
      ],
      "text/plain": [
       "   day     sex  size smoker    time  total_bill\n",
       "0  Sun  Female     2     No  Dinner       16.99\n",
       "1  Sun    Male     3     No  Dinner       10.34"
      ]
     },
     "execution_count": 12,
     "metadata": {},
     "output_type": "execute_result"
    }
   ],
   "source": [
    "X.head(2)"
   ]
  },
  {
   "cell_type": "code",
   "execution_count": 13,
   "metadata": {},
   "outputs": [
    {
     "name": "stdout",
     "output_type": "stream",
     "text": [
      "<class 'pandas.core.frame.DataFrame'>\n",
      "RangeIndex: 244 entries, 0 to 243\n",
      "Data columns (total 7 columns):\n",
      " #   Column      Non-Null Count  Dtype   \n",
      "---  ------      --------------  -----   \n",
      " 0   total_bill  244 non-null    float64 \n",
      " 1   tip         244 non-null    float64 \n",
      " 2   sex         244 non-null    category\n",
      " 3   smoker      244 non-null    category\n",
      " 4   day         244 non-null    category\n",
      " 5   time        244 non-null    category\n",
      " 6   size        244 non-null    int64   \n",
      "dtypes: category(4), float64(2), int64(1)\n",
      "memory usage: 7.4 KB\n"
     ]
    }
   ],
   "source": [
    "df.info()"
   ]
  },
  {
   "cell_type": "markdown",
   "metadata": {},
   "source": [
    "## Handle Categorical features"
   ]
  },
  {
   "cell_type": "code",
   "execution_count": 16,
   "metadata": {},
   "outputs": [
    {
     "data": {
      "text/plain": [
       "day           category\n",
       "sex           category\n",
       "size             int64\n",
       "smoker        category\n",
       "time          category\n",
       "total_bill     float64\n",
       "dtype: object"
      ]
     },
     "execution_count": 16,
     "metadata": {},
     "output_type": "execute_result"
    }
   ],
   "source": [
    "X.dtypes"
   ]
  },
  {
   "cell_type": "code",
   "execution_count": 20,
   "metadata": {},
   "outputs": [
    {
     "data": {
      "text/plain": [
       "0       Sun\n",
       "1       Sun\n",
       "2       Sun\n",
       "3       Sun\n",
       "4       Sun\n",
       "       ... \n",
       "239     Sat\n",
       "240     Sat\n",
       "241     Sat\n",
       "242     Sat\n",
       "243    Thur\n",
       "Name: day, Length: 244, dtype: category\n",
       "Categories (4, object): ['Thur', 'Fri', 'Sat', 'Sun']"
      ]
     },
     "execution_count": 20,
     "metadata": {},
     "output_type": "execute_result"
    }
   ],
   "source": [
    "X.day"
   ]
  },
  {
   "cell_type": "code",
   "execution_count": 29,
   "metadata": {},
   "outputs": [
    {
     "data": {
      "text/plain": [
       "day           category\n",
       "sex           category\n",
       "size             int64\n",
       "smoker        category\n",
       "time          category\n",
       "total_bill     float64\n",
       "dtype: object"
      ]
     },
     "execution_count": 29,
     "metadata": {},
     "output_type": "execute_result"
    }
   ],
   "source": [
    "X.dtypes"
   ]
  },
  {
   "cell_type": "code",
   "execution_count": 30,
   "metadata": {},
   "outputs": [
    {
     "data": {
      "text/plain": [
       "['day', 'sex', 'smoker', 'time']"
      ]
     },
     "execution_count": 30,
     "metadata": {},
     "output_type": "execute_result"
    }
   ],
   "source": [
    "cat_features = [col for col in X.columns if X[col].dtypes == 'category']\n",
    "cat_features"
   ]
  },
  {
   "cell_type": "code",
   "execution_count": 31,
   "metadata": {},
   "outputs": [
    {
     "name": "stderr",
     "output_type": "stream",
     "text": [
      "C:\\Users\\595244\\Anaconda3\\envs\\krish_env_new\\lib\\site-packages\\ipykernel_launcher.py:2: SettingWithCopyWarning: \n",
      "A value is trying to be set on a copy of a slice from a DataFrame.\n",
      "Try using .loc[row_indexer,col_indexer] = value instead\n",
      "\n",
      "See the caveats in the documentation: https://pandas.pydata.org/pandas-docs/stable/user_guide/indexing.html#returning-a-view-versus-a-copy\n",
      "  \n"
     ]
    }
   ],
   "source": [
    "for cat_feature in cat_features:\n",
    "    X[cat_feature] = X[cat_feature].cat.codes"
   ]
  },
  {
   "cell_type": "code",
   "execution_count": 32,
   "metadata": {},
   "outputs": [
    {
     "data": {
      "text/html": [
       "<div>\n",
       "<style scoped>\n",
       "    .dataframe tbody tr th:only-of-type {\n",
       "        vertical-align: middle;\n",
       "    }\n",
       "\n",
       "    .dataframe tbody tr th {\n",
       "        vertical-align: top;\n",
       "    }\n",
       "\n",
       "    .dataframe thead th {\n",
       "        text-align: right;\n",
       "    }\n",
       "</style>\n",
       "<table border=\"1\" class=\"dataframe\">\n",
       "  <thead>\n",
       "    <tr style=\"text-align: right;\">\n",
       "      <th></th>\n",
       "      <th>day</th>\n",
       "      <th>sex</th>\n",
       "      <th>size</th>\n",
       "      <th>smoker</th>\n",
       "      <th>time</th>\n",
       "      <th>total_bill</th>\n",
       "    </tr>\n",
       "  </thead>\n",
       "  <tbody>\n",
       "    <tr>\n",
       "      <th>0</th>\n",
       "      <td>3</td>\n",
       "      <td>1</td>\n",
       "      <td>2</td>\n",
       "      <td>1</td>\n",
       "      <td>1</td>\n",
       "      <td>16.99</td>\n",
       "    </tr>\n",
       "    <tr>\n",
       "      <th>1</th>\n",
       "      <td>3</td>\n",
       "      <td>0</td>\n",
       "      <td>3</td>\n",
       "      <td>1</td>\n",
       "      <td>1</td>\n",
       "      <td>10.34</td>\n",
       "    </tr>\n",
       "    <tr>\n",
       "      <th>2</th>\n",
       "      <td>3</td>\n",
       "      <td>0</td>\n",
       "      <td>3</td>\n",
       "      <td>1</td>\n",
       "      <td>1</td>\n",
       "      <td>21.01</td>\n",
       "    </tr>\n",
       "    <tr>\n",
       "      <th>3</th>\n",
       "      <td>3</td>\n",
       "      <td>0</td>\n",
       "      <td>2</td>\n",
       "      <td>1</td>\n",
       "      <td>1</td>\n",
       "      <td>23.68</td>\n",
       "    </tr>\n",
       "    <tr>\n",
       "      <th>4</th>\n",
       "      <td>3</td>\n",
       "      <td>1</td>\n",
       "      <td>4</td>\n",
       "      <td>1</td>\n",
       "      <td>1</td>\n",
       "      <td>24.59</td>\n",
       "    </tr>\n",
       "    <tr>\n",
       "      <th>...</th>\n",
       "      <td>...</td>\n",
       "      <td>...</td>\n",
       "      <td>...</td>\n",
       "      <td>...</td>\n",
       "      <td>...</td>\n",
       "      <td>...</td>\n",
       "    </tr>\n",
       "    <tr>\n",
       "      <th>239</th>\n",
       "      <td>2</td>\n",
       "      <td>0</td>\n",
       "      <td>3</td>\n",
       "      <td>1</td>\n",
       "      <td>1</td>\n",
       "      <td>29.03</td>\n",
       "    </tr>\n",
       "    <tr>\n",
       "      <th>240</th>\n",
       "      <td>2</td>\n",
       "      <td>1</td>\n",
       "      <td>2</td>\n",
       "      <td>0</td>\n",
       "      <td>1</td>\n",
       "      <td>27.18</td>\n",
       "    </tr>\n",
       "    <tr>\n",
       "      <th>241</th>\n",
       "      <td>2</td>\n",
       "      <td>0</td>\n",
       "      <td>2</td>\n",
       "      <td>0</td>\n",
       "      <td>1</td>\n",
       "      <td>22.67</td>\n",
       "    </tr>\n",
       "    <tr>\n",
       "      <th>242</th>\n",
       "      <td>2</td>\n",
       "      <td>0</td>\n",
       "      <td>2</td>\n",
       "      <td>1</td>\n",
       "      <td>1</td>\n",
       "      <td>17.82</td>\n",
       "    </tr>\n",
       "    <tr>\n",
       "      <th>243</th>\n",
       "      <td>0</td>\n",
       "      <td>1</td>\n",
       "      <td>2</td>\n",
       "      <td>1</td>\n",
       "      <td>1</td>\n",
       "      <td>18.78</td>\n",
       "    </tr>\n",
       "  </tbody>\n",
       "</table>\n",
       "<p>244 rows × 6 columns</p>\n",
       "</div>"
      ],
      "text/plain": [
       "     day  sex  size  smoker  time  total_bill\n",
       "0      3    1     2       1     1       16.99\n",
       "1      3    0     3       1     1       10.34\n",
       "2      3    0     3       1     1       21.01\n",
       "3      3    0     2       1     1       23.68\n",
       "4      3    1     4       1     1       24.59\n",
       "..   ...  ...   ...     ...   ...         ...\n",
       "239    2    0     3       1     1       29.03\n",
       "240    2    1     2       0     1       27.18\n",
       "241    2    0     2       0     1       22.67\n",
       "242    2    0     2       1     1       17.82\n",
       "243    0    1     2       1     1       18.78\n",
       "\n",
       "[244 rows x 6 columns]"
      ]
     },
     "execution_count": 32,
     "metadata": {},
     "output_type": "execute_result"
    }
   ],
   "source": [
    "X"
   ]
  },
  {
   "cell_type": "markdown",
   "metadata": {},
   "source": [
    "## Train Test split"
   ]
  },
  {
   "cell_type": "code",
   "execution_count": 36,
   "metadata": {},
   "outputs": [
    {
     "data": {
      "text/plain": [
       "(195, 49, 195, 49)"
      ]
     },
     "execution_count": 36,
     "metadata": {},
     "output_type": "execute_result"
    }
   ],
   "source": [
    "X_train, X_test, y_train, y_test = train_test_split(X, y, test_size=0.2, random_state=42)\n",
    "len(X_train), len(X_test), len(y_train), len(y_test)"
   ]
  },
  {
   "cell_type": "markdown",
   "metadata": {},
   "source": [
    "## Create Model"
   ]
  },
  {
   "cell_type": "code",
   "execution_count": 47,
   "metadata": {},
   "outputs": [],
   "source": [
    "regressor  =  RandomForestRegressor().fit(X_train, y_train)"
   ]
  },
  {
   "cell_type": "markdown",
   "metadata": {},
   "source": [
    "## Understand the model using shapash"
   ]
  },
  {
   "cell_type": "code",
   "execution_count": 48,
   "metadata": {},
   "outputs": [],
   "source": [
    "xpl = SmartExplainer()"
   ]
  },
  {
   "cell_type": "code",
   "execution_count": 49,
   "metadata": {},
   "outputs": [
    {
     "name": "stdout",
     "output_type": "stream",
     "text": [
      "Backend: Shap TreeExplainer\n"
     ]
    }
   ],
   "source": [
    "xpl.compile(\n",
    "    x = X_test, \n",
    "    model = regressor,\n",
    ")"
   ]
  },
  {
   "cell_type": "markdown",
   "metadata": {},
   "source": [
    "### Identify 3 most important features"
   ]
  },
  {
   "cell_type": "code",
   "execution_count": 52,
   "metadata": {},
   "outputs": [
    {
     "name": "stderr",
     "output_type": "stream",
     "text": [
      "C:\\Users\\595244\\Anaconda3\\envs\\krish_env_new\\lib\\site-packages\\shapash\\webapp\\smart_app.py:306: FutureWarning:\n",
      "\n",
      "Using short name for 'orient' is deprecated. Only the options: ('dict', list, 'series', 'split', 'records', 'index') will be used in a future version. Use one of the above to silence this warning.\n",
      "\n",
      "INFO:root:Your Shapash application run on http://LTIN263504:8050/\n"
     ]
    },
    {
     "name": "stdout",
     "output_type": "stream",
     "text": [
      "Dash is running on http://0.0.0.0:8050/\n",
      "\n"
     ]
    },
    {
     "name": "stderr",
     "output_type": "stream",
     "text": [
      "INFO:root:Use the method .kill() to down your app.\n",
      "INFO:shapash.webapp.smart_app:Dash is running on http://0.0.0.0:8050/\n",
      "\n"
     ]
    },
    {
     "data": {
      "text/plain": [
       "<CustomThread(Thread-6, started 6904)>"
      ]
     },
     "execution_count": 52,
     "metadata": {},
     "output_type": "execute_result"
    },
    {
     "name": "stdout",
     "output_type": "stream",
     "text": [
      " * Serving Flask app 'shapash.webapp.smart_app' (lazy loading)\n",
      " * Environment: production\n",
      "\u001b[31m   WARNING: This is a development server. Do not use it in a production deployment.\u001b[0m\n",
      "\u001b[2m   Use a production WSGI server instead.\u001b[0m\n",
      " * Debug mode: off\n"
     ]
    },
    {
     "name": "stderr",
     "output_type": "stream",
     "text": [
      "WARNING:werkzeug: * Running on all addresses.\n",
      "   WARNING: This is a development server. Do not use it in a production deployment.\n",
      "INFO:werkzeug: * Running on http://192.168.61.147:8050/ (Press CTRL+C to quit)\n",
      "INFO:werkzeug:192.168.61.147 - - [06/Nov/2021 10:49:51] \"GET / HTTP/1.1\" 200 -\n",
      "INFO:werkzeug:192.168.61.147 - - [06/Nov/2021 10:49:51] \"GET /assets/material-icons.css?m=1636161305.4098678 HTTP/1.1\" 200 -\n",
      "INFO:werkzeug:192.168.61.147 - - [06/Nov/2021 10:49:51] \"GET /assets/style.css?m=1636161305.4918709 HTTP/1.1\" 200 -\n",
      "INFO:werkzeug:192.168.61.147 - - [06/Nov/2021 10:49:51] \"GET /_dash-component-suites/dash_renderer/react@16.v1_8_3m1636161194.14.0.min.js HTTP/1.1\" 200 -\n",
      "INFO:werkzeug:192.168.61.147 - - [06/Nov/2021 10:49:51] \"GET /_dash-component-suites/dash_renderer/prop-types@15.v1_8_3m1636161194.7.2.min.js HTTP/1.1\" 200 -\n",
      "INFO:werkzeug:192.168.61.147 - - [06/Nov/2021 10:49:51] \"GET /_dash-component-suites/dash_renderer/polyfill@7.v1_8_3m1636161194.8.7.min.js HTTP/1.1\" 200 -\n",
      "INFO:werkzeug:192.168.61.147 - - [06/Nov/2021 10:49:52] \"GET /_dash-component-suites/dash_renderer/react-dom@16.v1_8_3m1636161194.14.0.min.js HTTP/1.1\" 200 -\n",
      "INFO:werkzeug:192.168.61.147 - - [06/Nov/2021 10:49:52] \"GET /_dash-component-suites/dash_table/bundle.v4_11_0m1636161193.js HTTP/1.1\" 200 -\n",
      "INFO:werkzeug:192.168.61.147 - - [06/Nov/2021 10:49:52] \"GET /_dash-component-suites/dash_html_components/dash_html_components.v1_1_1m1636161198.min.js HTTP/1.1\" 200 -\n",
      "INFO:werkzeug:192.168.61.147 - - [06/Nov/2021 10:49:52] \"GET /_dash-component-suites/dash_core_components/dash_core_components-shared.v1_13_0m1636161207.js HTTP/1.1\" 200 -\n",
      "INFO:werkzeug:192.168.61.147 - - [06/Nov/2021 10:49:52] \"GET /_dash-component-suites/dash_core_components/dash_core_components.v1_13_0m1636161207.min.js HTTP/1.1\" 200 -\n",
      "INFO:werkzeug:192.168.61.147 - - [06/Nov/2021 10:49:52] \"GET /_dash-component-suites/dash_daq/dash_daq.v0_5_0m1636161296.min.js HTTP/1.1\" 200 -\n",
      "INFO:werkzeug:192.168.61.147 - - [06/Nov/2021 10:49:52] \"GET /_dash-component-suites/dash_bootstrap_components/_components/dash_bootstrap_components.v0_9_1m1636161299.min.js HTTP/1.1\" 200 -\n",
      "INFO:werkzeug:192.168.61.147 - - [06/Nov/2021 10:49:52] \"GET /assets/jquery.js?m=1636161305.3678658 HTTP/1.1\" 200 -\n",
      "INFO:werkzeug:192.168.61.147 - - [06/Nov/2021 10:49:52] \"GET /assets/main.js?m=1636161305.3898664 HTTP/1.1\" 200 -\n",
      "INFO:werkzeug:192.168.61.147 - - [06/Nov/2021 10:49:52] \"GET /_dash-component-suites/dash_renderer/dash_renderer.v1_8_3m1636161194.min.js HTTP/1.1\" 200 -\n",
      "INFO:werkzeug:192.168.61.147 - - [06/Nov/2021 10:49:52] \"GET /_dash-dependencies HTTP/1.1\" 200 -\n",
      "INFO:werkzeug:192.168.61.147 - - [06/Nov/2021 10:49:52] \"GET /_dash-layout HTTP/1.1\" 200 -\n",
      "INFO:werkzeug:192.168.61.147 - - [06/Nov/2021 10:49:52] \"GET /assets/favicon.ico?m=1636161305.347867 HTTP/1.1\" 200 -\n",
      "INFO:werkzeug:192.168.61.147 - - [06/Nov/2021 10:49:53] \"GET /_dash-component-suites/dash_core_components/async-graph.v1_13_0m1604001894.js HTTP/1.1\" 200 -\n",
      "INFO:werkzeug:192.168.61.147 - - [06/Nov/2021 10:49:53] \"GET /_dash-component-suites/dash_core_components/async-dropdown.v1_13_0m1604001894.js HTTP/1.1\" 200 -\n",
      "INFO:werkzeug:192.168.61.147 - - [06/Nov/2021 10:49:53] \"GET /_dash-component-suites/dash_core_components/async-slider.v1_13_0m1604001894.js HTTP/1.1\" 200 -\n",
      "INFO:werkzeug:192.168.61.147 - - [06/Nov/2021 10:49:53] \"GET /assets/shapash-fond-fonce.png HTTP/1.1\" 200 -\n",
      "INFO:werkzeug:192.168.61.147 - - [06/Nov/2021 10:49:53] \"GET /_dash-component-suites/dash_table/async-table.v4_11_0m1604001235.js HTTP/1.1\" 200 -\n",
      "INFO:werkzeug:192.168.61.147 - - [06/Nov/2021 10:49:53] \"GET /assets/settings.png HTTP/1.1\" 200 -\n",
      "INFO:werkzeug:192.168.61.147 - - [06/Nov/2021 10:49:53] \"GET /assets/reload.png HTTP/1.1\" 200 -\n",
      "INFO:werkzeug:192.168.61.147 - - [06/Nov/2021 10:49:53] \"GET /_dash-component-suites/dash_core_components/async-plotlyjs.v1_13_0m1604001894.js HTTP/1.1\" 200 -\n",
      "INFO:werkzeug:192.168.61.147 - - [06/Nov/2021 10:49:53] \"POST /_dash-update-component HTTP/1.1\" 200 -\n",
      "INFO:werkzeug:192.168.61.147 - - [06/Nov/2021 10:49:53] \"POST /_dash-update-component HTTP/1.1\" 200 -\n",
      "INFO:werkzeug:192.168.61.147 - - [06/Nov/2021 10:49:53] \"POST /_dash-update-component HTTP/1.1\" 200 -\n",
      "INFO:werkzeug:192.168.61.147 - - [06/Nov/2021 10:49:53] \"POST /_dash-update-component HTTP/1.1\" 200 -\n",
      "INFO:werkzeug:192.168.61.147 - - [06/Nov/2021 10:49:53] \"POST /_dash-update-component HTTP/1.1\" 200 -\n",
      "INFO:werkzeug:192.168.61.147 - - [06/Nov/2021 10:49:54] \"POST /_dash-update-component HTTP/1.1\" 200 -\n",
      "INFO:werkzeug:192.168.61.147 - - [06/Nov/2021 10:49:54] \"POST /_dash-update-component HTTP/1.1\" 200 -\n",
      "INFO:werkzeug:192.168.61.147 - - [06/Nov/2021 10:49:54] \"POST /_dash-update-component HTTP/1.1\" 200 -\n",
      "INFO:werkzeug:192.168.61.147 - - [06/Nov/2021 10:49:54] \"POST /_dash-update-component HTTP/1.1\" 200 -\n",
      "INFO:werkzeug:192.168.61.147 - - [06/Nov/2021 10:49:54] \"POST /_dash-update-component HTTP/1.1\" 200 -\n",
      "C:\\Users\\595244\\Anaconda3\\envs\\krish_env_new\\lib\\site-packages\\shapash\\webapp\\smart_app.py:827: FutureWarning:\n",
      "\n",
      "Using short name for 'orient' is deprecated. Only the options: ('dict', list, 'series', 'split', 'records', 'index') will be used in a future version. Use one of the above to silence this warning.\n",
      "\n",
      "INFO:werkzeug:192.168.61.147 - - [06/Nov/2021 10:49:54] \"POST /_dash-update-component HTTP/1.1\" 200 -\n",
      "INFO:werkzeug:192.168.61.147 - - [06/Nov/2021 10:49:54] \"POST /_dash-update-component HTTP/1.1\" 200 -\n",
      "INFO:werkzeug:192.168.61.147 - - [06/Nov/2021 10:49:55] \"POST /_dash-update-component HTTP/1.1\" 200 -\n",
      "INFO:werkzeug:192.168.61.147 - - [06/Nov/2021 10:49:55] \"POST /_dash-update-component HTTP/1.1\" 200 -\n",
      "INFO:werkzeug:192.168.61.147 - - [06/Nov/2021 10:49:55] \"POST /_dash-update-component HTTP/1.1\" 200 -\n",
      "INFO:werkzeug:192.168.61.147 - - [06/Nov/2021 10:49:55] \"POST /_dash-update-component HTTP/1.1\" 200 -\n",
      "INFO:werkzeug:192.168.61.147 - - [06/Nov/2021 10:49:57] \"POST /_dash-update-component HTTP/1.1\" 200 -\n",
      "INFO:werkzeug:192.168.61.147 - - [06/Nov/2021 10:49:57] \"POST /_dash-update-component HTTP/1.1\" 200 -\n",
      "INFO:werkzeug:192.168.61.147 - - [06/Nov/2021 10:49:58] \"POST /_dash-update-component HTTP/1.1\" 200 -\n",
      "INFO:werkzeug:192.168.61.147 - - [06/Nov/2021 10:50:23] \"POST /_dash-update-component HTTP/1.1\" 200 -\n",
      "INFO:werkzeug:192.168.61.147 - - [06/Nov/2021 10:51:03] \"POST /_dash-update-component HTTP/1.1\" 200 -\n",
      "INFO:werkzeug:192.168.61.147 - - [06/Nov/2021 10:51:08] \"POST /_dash-update-component HTTP/1.1\" 200 -\n",
      "INFO:werkzeug:192.168.61.147 - - [06/Nov/2021 10:51:08] \"POST /_dash-update-component HTTP/1.1\" 200 -\n",
      "INFO:werkzeug:192.168.61.147 - - [06/Nov/2021 10:51:12] \"POST /_dash-update-component HTTP/1.1\" 200 -\n",
      "INFO:werkzeug:192.168.61.147 - - [06/Nov/2021 10:51:12] \"POST /_dash-update-component HTTP/1.1\" 200 -\n",
      "INFO:werkzeug:192.168.61.147 - - [06/Nov/2021 10:51:18] \"POST /_dash-update-component HTTP/1.1\" 200 -\n",
      "INFO:werkzeug:192.168.61.147 - - [06/Nov/2021 10:51:18] \"POST /_dash-update-component HTTP/1.1\" 200 -\n",
      "INFO:werkzeug:192.168.61.147 - - [06/Nov/2021 10:51:24] \"POST /_dash-update-component HTTP/1.1\" 200 -\n",
      "INFO:werkzeug:192.168.61.147 - - [06/Nov/2021 10:51:24] \"POST /_dash-update-component HTTP/1.1\" 200 -\n"
     ]
    }
   ],
   "source": [
    "xpl.run_app(title_story='Tips Dataset')"
   ]
  },
  {
   "cell_type": "markdown",
   "metadata": {},
   "source": [
    "### Save the SmartPredictor object"
   ]
  },
  {
   "cell_type": "code",
   "execution_count": 53,
   "metadata": {},
   "outputs": [],
   "source": [
    "predictor = xpl.to_smartpredictor()"
   ]
  },
  {
   "cell_type": "code",
   "execution_count": 54,
   "metadata": {},
   "outputs": [],
   "source": [
    "predictor.save('shapash_predictor.pkl')"
   ]
  },
  {
   "cell_type": "markdown",
   "metadata": {},
   "source": [
    "### Load SmartPredictor"
   ]
  },
  {
   "cell_type": "code",
   "execution_count": 57,
   "metadata": {},
   "outputs": [],
   "source": [
    "predictor_load  = load_smartpredictor('shapash_predictor.pkl')"
   ]
  },
  {
   "cell_type": "code",
   "execution_count": 58,
   "metadata": {},
   "outputs": [],
   "source": [
    "predictor_load.add_input(x=X, ypred=y)"
   ]
  },
  {
   "cell_type": "code",
   "execution_count": 59,
   "metadata": {},
   "outputs": [],
   "source": [
    "detailed_contributions = predictor_load.detail_contributions()"
   ]
  },
  {
   "cell_type": "code",
   "execution_count": 61,
   "metadata": {},
   "outputs": [
    {
     "data": {
      "text/html": [
       "<div>\n",
       "<style scoped>\n",
       "    .dataframe tbody tr th:only-of-type {\n",
       "        vertical-align: middle;\n",
       "    }\n",
       "\n",
       "    .dataframe tbody tr th {\n",
       "        vertical-align: top;\n",
       "    }\n",
       "\n",
       "    .dataframe thead th {\n",
       "        text-align: right;\n",
       "    }\n",
       "</style>\n",
       "<table border=\"1\" class=\"dataframe\">\n",
       "  <thead>\n",
       "    <tr style=\"text-align: right;\">\n",
       "      <th></th>\n",
       "      <th>tip</th>\n",
       "      <th>day</th>\n",
       "      <th>sex</th>\n",
       "      <th>size</th>\n",
       "      <th>smoker</th>\n",
       "      <th>time</th>\n",
       "      <th>total_bill</th>\n",
       "    </tr>\n",
       "  </thead>\n",
       "  <tbody>\n",
       "    <tr>\n",
       "      <th>0</th>\n",
       "      <td>1.01</td>\n",
       "      <td>-0.112152</td>\n",
       "      <td>-0.045576</td>\n",
       "      <td>-0.079049</td>\n",
       "      <td>-0.079562</td>\n",
       "      <td>-0.010776</td>\n",
       "      <td>-0.843569</td>\n",
       "    </tr>\n",
       "    <tr>\n",
       "      <th>1</th>\n",
       "      <td>1.66</td>\n",
       "      <td>0.109291</td>\n",
       "      <td>-0.036972</td>\n",
       "      <td>-0.078256</td>\n",
       "      <td>-0.021585</td>\n",
       "      <td>-0.000909</td>\n",
       "      <td>-1.178751</td>\n",
       "    </tr>\n",
       "    <tr>\n",
       "      <th>2</th>\n",
       "      <td>3.50</td>\n",
       "      <td>0.117993</td>\n",
       "      <td>-0.006172</td>\n",
       "      <td>-0.112403</td>\n",
       "      <td>-0.020205</td>\n",
       "      <td>0.011796</td>\n",
       "      <td>0.459509</td>\n",
       "    </tr>\n",
       "    <tr>\n",
       "      <th>3</th>\n",
       "      <td>3.31</td>\n",
       "      <td>0.192581</td>\n",
       "      <td>0.003129</td>\n",
       "      <td>-0.098057</td>\n",
       "      <td>0.015280</td>\n",
       "      <td>-0.000129</td>\n",
       "      <td>0.480913</td>\n",
       "    </tr>\n",
       "    <tr>\n",
       "      <th>4</th>\n",
       "      <td>3.61</td>\n",
       "      <td>0.125073</td>\n",
       "      <td>-0.029428</td>\n",
       "      <td>0.056646</td>\n",
       "      <td>0.084232</td>\n",
       "      <td>-0.014634</td>\n",
       "      <td>0.391328</td>\n",
       "    </tr>\n",
       "  </tbody>\n",
       "</table>\n",
       "</div>"
      ],
      "text/plain": [
       "    tip       day       sex      size    smoker      time  total_bill\n",
       "0  1.01 -0.112152 -0.045576 -0.079049 -0.079562 -0.010776   -0.843569\n",
       "1  1.66  0.109291 -0.036972 -0.078256 -0.021585 -0.000909   -1.178751\n",
       "2  3.50  0.117993 -0.006172 -0.112403 -0.020205  0.011796    0.459509\n",
       "3  3.31  0.192581  0.003129 -0.098057  0.015280 -0.000129    0.480913\n",
       "4  3.61  0.125073 -0.029428  0.056646  0.084232 -0.014634    0.391328"
      ]
     },
     "execution_count": 61,
     "metadata": {},
     "output_type": "execute_result"
    }
   ],
   "source": [
    "detailed_contributions.head()"
   ]
  },
  {
   "cell_type": "markdown",
   "metadata": {},
   "source": []
  }
 ],
 "metadata": {
  "interpreter": {
   "hash": "61ea9aa73e02b58d53cb2ec6c42f910c12dcb2b185565d429cb0cdc896334cf8"
  },
  "kernelspec": {
   "display_name": "Python 3.7.11 64-bit ('krish_env_new': conda)",
   "name": "python3"
  },
  "language_info": {
   "codemirror_mode": {
    "name": "ipython",
    "version": 3
   },
   "file_extension": ".py",
   "mimetype": "text/x-python",
   "name": "python",
   "nbconvert_exporter": "python",
   "pygments_lexer": "ipython3",
   "version": "3.7.11"
  },
  "orig_nbformat": 4
 },
 "nbformat": 4,
 "nbformat_minor": 2
}
