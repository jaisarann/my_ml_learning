{
 "cells": [
  {
   "cell_type": "code",
   "execution_count": 15,
   "metadata": {},
   "outputs": [],
   "source": [
    "import pyforest\n",
    "import sklearn"
   ]
  },
  {
   "cell_type": "code",
   "execution_count": 17,
   "metadata": {},
   "outputs": [
    {
     "name": "stdout",
     "output_type": "stream",
     "text": [
      "import pandas as pd\n",
      "import sklearn\n"
     ]
    },
    {
     "data": {
      "text/plain": [
       "['import pandas as pd', 'import sklearn']"
      ]
     },
     "execution_count": 17,
     "metadata": {},
     "output_type": "execute_result"
    }
   ],
   "source": [
    "active_imports()"
   ]
  },
  {
   "cell_type": "code",
   "execution_count": 13,
   "metadata": {},
   "outputs": [
    {
     "data": {
      "application/javascript": "\n        if (window._pyforest_update_imports_cell) { window._pyforest_update_imports_cell('import pandas as pd'); }\n    ",
      "text/plain": [
       "<IPython.core.display.Javascript object>"
      ]
     },
     "metadata": {},
     "output_type": "display_data"
    },
    {
     "data": {
      "text/html": [
       "<div>\n",
       "<style scoped>\n",
       "    .dataframe tbody tr th:only-of-type {\n",
       "        vertical-align: middle;\n",
       "    }\n",
       "\n",
       "    .dataframe tbody tr th {\n",
       "        vertical-align: top;\n",
       "    }\n",
       "\n",
       "    .dataframe thead th {\n",
       "        text-align: right;\n",
       "    }\n",
       "</style>\n",
       "<table border=\"1\" class=\"dataframe\">\n",
       "  <thead>\n",
       "    <tr style=\"text-align: right;\">\n",
       "      <th></th>\n",
       "      <th>Class</th>\n",
       "      <th>Alcohol</th>\n",
       "      <th>Malic</th>\n",
       "    </tr>\n",
       "  </thead>\n",
       "  <tbody>\n",
       "    <tr>\n",
       "      <th>0</th>\n",
       "      <td>1</td>\n",
       "      <td>14.23</td>\n",
       "      <td>1.71</td>\n",
       "    </tr>\n",
       "    <tr>\n",
       "      <th>1</th>\n",
       "      <td>1</td>\n",
       "      <td>13.20</td>\n",
       "      <td>1.78</td>\n",
       "    </tr>\n",
       "  </tbody>\n",
       "</table>\n",
       "</div>"
      ],
      "text/plain": [
       "   Class  Alcohol  Malic\n",
       "0      1    14.23   1.71\n",
       "1      1    13.20   1.78"
      ]
     },
     "execution_count": 13,
     "metadata": {},
     "output_type": "execute_result"
    }
   ],
   "source": [
    "file_path = 'https://raw.githubusercontent.com/rasbt/pattern_classification/master/data/wine_data.csv'\n",
    "df = pd.read_csv(file_path, header=None, usecols=[0,1,2])\n",
    "df.columns=['Class', 'Alcohol', 'Malic']\n",
    "df.head(2)"
   ]
  },
  {
   "cell_type": "markdown",
   "metadata": {},
   "source": [
    "## Normalization"
   ]
  },
  {
   "cell_type": "code",
   "execution_count": 18,
   "metadata": {},
   "outputs": [],
   "source": [
    "from sklearn.preprocessing import MinMaxScaler"
   ]
  },
  {
   "cell_type": "code",
   "execution_count": 19,
   "metadata": {},
   "outputs": [],
   "source": [
    "scaling = MinMaxScaler()"
   ]
  },
  {
   "cell_type": "code",
   "execution_count": 21,
   "metadata": {},
   "outputs": [
    {
     "data": {
      "text/html": [
       "<div>\n",
       "<style scoped>\n",
       "    .dataframe tbody tr th:only-of-type {\n",
       "        vertical-align: middle;\n",
       "    }\n",
       "\n",
       "    .dataframe tbody tr th {\n",
       "        vertical-align: top;\n",
       "    }\n",
       "\n",
       "    .dataframe thead th {\n",
       "        text-align: right;\n",
       "    }\n",
       "</style>\n",
       "<table border=\"1\" class=\"dataframe\">\n",
       "  <thead>\n",
       "    <tr style=\"text-align: right;\">\n",
       "      <th></th>\n",
       "      <th>Alcohol</th>\n",
       "      <th>Malic</th>\n",
       "    </tr>\n",
       "  </thead>\n",
       "  <tbody>\n",
       "    <tr>\n",
       "      <th>0</th>\n",
       "      <td>14.23</td>\n",
       "      <td>1.71</td>\n",
       "    </tr>\n",
       "    <tr>\n",
       "      <th>1</th>\n",
       "      <td>13.20</td>\n",
       "      <td>1.78</td>\n",
       "    </tr>\n",
       "    <tr>\n",
       "      <th>2</th>\n",
       "      <td>13.16</td>\n",
       "      <td>2.36</td>\n",
       "    </tr>\n",
       "    <tr>\n",
       "      <th>3</th>\n",
       "      <td>14.37</td>\n",
       "      <td>1.95</td>\n",
       "    </tr>\n",
       "    <tr>\n",
       "      <th>4</th>\n",
       "      <td>13.24</td>\n",
       "      <td>2.59</td>\n",
       "    </tr>\n",
       "    <tr>\n",
       "      <th>...</th>\n",
       "      <td>...</td>\n",
       "      <td>...</td>\n",
       "    </tr>\n",
       "    <tr>\n",
       "      <th>173</th>\n",
       "      <td>13.71</td>\n",
       "      <td>5.65</td>\n",
       "    </tr>\n",
       "    <tr>\n",
       "      <th>174</th>\n",
       "      <td>13.40</td>\n",
       "      <td>3.91</td>\n",
       "    </tr>\n",
       "    <tr>\n",
       "      <th>175</th>\n",
       "      <td>13.27</td>\n",
       "      <td>4.28</td>\n",
       "    </tr>\n",
       "    <tr>\n",
       "      <th>176</th>\n",
       "      <td>13.17</td>\n",
       "      <td>2.59</td>\n",
       "    </tr>\n",
       "    <tr>\n",
       "      <th>177</th>\n",
       "      <td>14.13</td>\n",
       "      <td>4.10</td>\n",
       "    </tr>\n",
       "  </tbody>\n",
       "</table>\n",
       "<p>178 rows × 2 columns</p>\n",
       "</div>"
      ],
      "text/plain": [
       "     Alcohol  Malic\n",
       "0      14.23   1.71\n",
       "1      13.20   1.78\n",
       "2      13.16   2.36\n",
       "3      14.37   1.95\n",
       "4      13.24   2.59\n",
       "..       ...    ...\n",
       "173    13.71   5.65\n",
       "174    13.40   3.91\n",
       "175    13.27   4.28\n",
       "176    13.17   2.59\n",
       "177    14.13   4.10\n",
       "\n",
       "[178 rows x 2 columns]"
      ]
     },
     "execution_count": 21,
     "metadata": {},
     "output_type": "execute_result"
    }
   ],
   "source": [
    "df[['Alcohol', 'Malic']]"
   ]
  },
  {
   "cell_type": "code",
   "execution_count": 23,
   "metadata": {},
   "outputs": [
    {
     "data": {
      "application/javascript": "\n        if (window._pyforest_update_imports_cell) { window._pyforest_update_imports_cell('import pandas as pd\\nimport matplotlib.pyplot as plt\\nimport sklearn'); }\n    ",
      "text/plain": [
       "<IPython.core.display.Javascript object>"
      ]
     },
     "metadata": {},
     "output_type": "display_data"
    },
    {
     "data": {
      "text/plain": [
       "<matplotlib.collections.PathCollection at 0x211a5f22448>"
      ]
     },
     "execution_count": 23,
     "metadata": {},
     "output_type": "execute_result"
    },
    {
     "data": {
      "image/png": "[encoded data removed]",
      "text/plain": [
       "<Figure size 432x288 with 1 Axes>"
      ]
     },
     "metadata": {
      "needs_background": "light"
     },
     "output_type": "display_data"
    }
   ],
   "source": [
    "plt.scatter(x='Alcohol', y='Malic', data=df)"
   ]
  },
  {
   "cell_type": "code",
   "execution_count": 24,
   "metadata": {},
   "outputs": [
    {
     "data": {
      "application/javascript": "\n        if (window._pyforest_update_imports_cell) { window._pyforest_update_imports_cell('import pandas as pd\\nimport matplotlib.pyplot as plt\\nimport seaborn as sns\\nimport sklearn'); }\n    ",
      "text/plain": [
       "<IPython.core.display.Javascript object>"
      ]
     },
     "metadata": {},
     "output_type": "display_data"
    },
    {
     "name": "stderr",
     "output_type": "stream",
     "text": [
      "C:\\Users\\595244\\Anaconda3\\envs\\krish_env_new\\lib\\site-packages\\seaborn\\distributions.py:2619: FutureWarning: `distplot` is a deprecated function and will be removed in a future version. Please adapt your code to use either `displot` (a figure-level function with similar flexibility) or `histplot` (an axes-level function for histograms).\n",
      "  warnings.warn(msg, FutureWarning)\n"
     ]
    },
    {
     "data": {
      "text/plain": [
       "<AxesSubplot:xlabel='Alcohol', ylabel='Density'>"
      ]
     },
     "execution_count": 24,
     "metadata": {},
     "output_type": "execute_result"
    },
    {
     "data": {
      "image/png": "[encoded data removed]",
      "text/plain": [
       "<Figure size 432x288 with 1 Axes>"
      ]
     },
     "metadata": {
      "needs_background": "light"
     },
     "output_type": "display_data"
    }
   ],
   "source": [
    "sns.distplot(df.Alcohol)"
   ]
  },
  {
   "cell_type": "code",
   "execution_count": 26,
   "metadata": {},
   "outputs": [
    {
     "data": {
      "application/javascript": "\n        if (window._pyforest_update_imports_cell) { window._pyforest_update_imports_cell('import pandas as pd\\nimport matplotlib.pyplot as plt\\nimport seaborn as sns\\nimport sklearn'); }\n    ",
      "text/plain": [
       "<IPython.core.display.Javascript object>"
      ]
     },
     "metadata": {},
     "output_type": "display_data"
    },
    {
     "name": "stderr",
     "output_type": "stream",
     "text": [
      "C:\\Users\\595244\\Anaconda3\\envs\\krish_env_new\\lib\\site-packages\\seaborn\\distributions.py:2619: FutureWarning: `distplot` is a deprecated function and will be removed in a future version. Please adapt your code to use either `displot` (a figure-level function with similar flexibility) or `histplot` (an axes-level function for histograms).\n",
      "  warnings.warn(msg, FutureWarning)\n"
     ]
    },
    {
     "data": {
      "text/plain": [
       "<AxesSubplot:xlabel='Malic', ylabel='Density'>"
      ]
     },
     "execution_count": 26,
     "metadata": {},
     "output_type": "execute_result"
    },
    {
     "data": {
      "image/png": "[encoded data removed]",
      "text/plain": [
       "<Figure size 432x288 with 1 Axes>"
      ]
     },
     "metadata": {
      "needs_background": "light"
     },
     "output_type": "display_data"
    }
   ],
   "source": [
    "sns.distplot(df.Malic)"
   ]
  },
  {
   "cell_type": "code",
   "execution_count": 22,
   "metadata": {},
   "outputs": [
    {
     "data": {
      "text/plain": [
       "array([[0.84210526, 0.1916996 ],\n",
       "       [0.57105263, 0.2055336 ],\n",
       "       [0.56052632, 0.3201581 ],\n",
       "       [0.87894737, 0.23913043],\n",
       "       [0.58157895, 0.36561265],\n",
       "       [0.83421053, 0.20158103],\n",
       "       [0.88421053, 0.22332016],\n",
       "       [0.79736842, 0.27865613],\n",
       "       [1.        , 0.17786561],\n",
       "       [0.74473684, 0.12055336],\n",
       "       [0.80789474, 0.28063241],\n",
       "       [0.81315789, 0.14624506],\n",
       "       [0.71578947, 0.19565217],\n",
       "       [0.97894737, 0.19565217],\n",
       "       [0.88157895, 0.22332016],\n",
       "       [0.68421053, 0.21146245],\n",
       "       [0.86052632, 0.23320158],\n",
       "       [0.73684211, 0.16403162],\n",
       "       [0.83157895, 0.16798419],\n",
       "       [0.68684211, 0.46640316],\n",
       "       [0.79736842, 0.17588933],\n",
       "       [0.5       , 0.60474308],\n",
       "       [0.70526316, 0.22134387],\n",
       "       [0.47894737, 0.16996047],\n",
       "       [0.65      , 0.21146245],\n",
       "       [0.53157895, 0.25889328],\n",
       "       [0.62105263, 0.20355731],\n",
       "       [0.59736842, 0.19367589],\n",
       "       [0.74736842, 0.22924901],\n",
       "       [0.78684211, 0.18577075],\n",
       "       [0.71052632, 0.15019763],\n",
       "       [0.67105263, 0.18181818],\n",
       "       [0.69736842, 0.21541502],\n",
       "       [0.71842105, 0.15612648],\n",
       "       [0.65263158, 0.20948617],\n",
       "       [0.64473684, 0.21146245],\n",
       "       [0.59210526, 0.17786561],\n",
       "       [0.53157895, 0.1798419 ],\n",
       "       [0.53684211, 0.15019763],\n",
       "       [0.83947368, 0.64229249],\n",
       "       [0.66578947, 0.1916996 ],\n",
       "       [0.62631579, 0.61264822],\n",
       "       [0.75      , 0.22727273],\n",
       "       [0.58157895, 0.64031621],\n",
       "       [0.53157895, 0.20355731],\n",
       "       [0.83684211, 0.65217391],\n",
       "       [0.88157895, 0.56324111],\n",
       "       [0.75526316, 0.18577075],\n",
       "       [0.80789474, 0.25296443],\n",
       "       [0.76578947, 0.19565217],\n",
       "       [0.53157895, 0.19565217],\n",
       "       [0.73684211, 0.1798419 ],\n",
       "       [0.73421053, 0.19960474],\n",
       "       [0.72105263, 0.22924901],\n",
       "       [0.71315789, 0.18379447],\n",
       "       [0.66578947, 0.19565217],\n",
       "       [0.83947368, 0.18972332],\n",
       "       [0.59473684, 0.243083  ],\n",
       "       [0.70789474, 0.13636364],\n",
       "       [0.35263158, 0.03952569],\n",
       "       [0.34210526, 0.07114625],\n",
       "       [0.42368421, 0.12252964],\n",
       "       [0.69473684, 0.10079051],\n",
       "       [0.35263158, 0.0770751 ],\n",
       "       [0.3       , 0.14031621],\n",
       "       [0.35263158, 0.09288538],\n",
       "       [0.54736842, 0.05335968],\n",
       "       [0.35263158, 0.08498024],\n",
       "       [0.60789474, 0.03952569],\n",
       "       [0.31052632, 0.08893281],\n",
       "       [0.33157895, 0.17193676],\n",
       "       [0.74473684, 0.15217391],\n",
       "       [0.64736842, 0.18181818],\n",
       "       [0.51578947, 0.18379447],\n",
       "       [0.24473684, 0.06916996],\n",
       "       [0.16578947, 0.22529644],\n",
       "       [0.52631579, 0.03162055],\n",
       "       [0.21315789, 0.42490119],\n",
       "       [0.34210526, 0.04940711],\n",
       "       [0.43947368, 0.61857708],\n",
       "       [0.25526316, 0.03557312],\n",
       "       [0.44473684, 0.21146245],\n",
       "       [0.27631579, 0.0770751 ],\n",
       "       [0.53157895, 0.61660079],\n",
       "       [0.21315789, 0.02964427],\n",
       "       [0.43157895, 0.04743083],\n",
       "       [0.29736842, 0.17193676],\n",
       "       [0.16315789, 0.18379447],\n",
       "       [0.16052632, 0.26086957],\n",
       "       [0.27631579, 0.11660079],\n",
       "       [0.27631579, 0.21541502],\n",
       "       [0.25526316, 0.15217391],\n",
       "       [0.43684211, 0.15612648],\n",
       "       [0.33157895, 0.41304348],\n",
       "       [0.15526316, 0.24703557],\n",
       "       [0.37894737, 0.1541502 ],\n",
       "       [0.20526316, 0.27272727],\n",
       "       [0.33157895, 0.13241107],\n",
       "       [0.35263158, 0.06521739],\n",
       "       [0.33157895, 0.48023715],\n",
       "       [0.27631579, 0.26482213],\n",
       "       [0.41315789, 0.11857708],\n",
       "       [0.34473684, 0.33794466],\n",
       "       [0.20789474, 0.19367589],\n",
       "       [0.38947368, 0.19565217],\n",
       "       [0.36578947, 0.35770751],\n",
       "       [0.32105263, 0.19565217],\n",
       "       [0.44473684, 0.19960474],\n",
       "       [0.31315789, 0.10869565],\n",
       "       [0.15263158, 0.12055336],\n",
       "       [0.11315789, 0.59288538],\n",
       "       [0.39210526, 0.33399209],\n",
       "       [0.19210526, 0.38339921],\n",
       "       [0.1       , 0.        ],\n",
       "       [0.27631579, 0.1284585 ],\n",
       "       [0.        , 0.15217391],\n",
       "       [0.20789474, 0.14426877],\n",
       "       [0.36578947, 0.17193676],\n",
       "       [0.45789474, 0.53162055],\n",
       "       [0.25526316, 0.53162055],\n",
       "       [0.11052632, 0.32806324],\n",
       "       [0.13947368, 0.25889328],\n",
       "       [0.36578947, 0.72924901],\n",
       "       [0.53157895, 1.        ],\n",
       "       [0.22105263, 0.7055336 ],\n",
       "       [0.27368421, 0.28063241],\n",
       "       [0.36842105, 0.15612648],\n",
       "       [0.2       , 0.27470356],\n",
       "       [0.35263158, 0.17588933],\n",
       "       [0.26578947, 0.70355731],\n",
       "       [0.48157895, 0.12055336],\n",
       "       [0.48684211, 0.44466403],\n",
       "       [0.46842105, 0.31027668],\n",
       "       [0.43947368, 0.55533597],\n",
       "       [0.38947368, 0.09881423],\n",
       "       [0.41315789, 0.33992095],\n",
       "       [0.32105263, 0.78656126],\n",
       "       [0.39473684, 0.94268775],\n",
       "       [0.64736842, 0.56324111],\n",
       "       [0.47631579, 0.43873518],\n",
       "       [0.5       , 0.40909091],\n",
       "       [0.61315789, 0.35968379],\n",
       "       [0.65526316, 0.48023715],\n",
       "       [0.68157895, 0.83201581],\n",
       "       [0.32105263, 0.62055336],\n",
       "       [0.56052632, 0.55928854],\n",
       "       [0.75      , 0.84980237],\n",
       "       [0.48421053, 0.76482213],\n",
       "       [0.60263158, 0.49407115],\n",
       "       [0.53947368, 0.62450593],\n",
       "       [0.65      , 0.47035573],\n",
       "       [0.46315789, 0.38142292],\n",
       "       [0.54736842, 0.22924901],\n",
       "       [0.57894737, 0.50592885],\n",
       "       [0.40789474, 0.10869565],\n",
       "       [0.56315789, 0.87944664],\n",
       "       [0.73947368, 0.66798419],\n",
       "       [0.37368421, 0.45256917],\n",
       "       [0.87105263, 0.18577075],\n",
       "       [0.64473684, 0.18379447],\n",
       "       [0.35      , 0.61067194],\n",
       "       [0.7       , 0.49802372],\n",
       "       [0.47894737, 0.5       ],\n",
       "       [0.50789474, 0.53557312],\n",
       "       [0.72368421, 0.39920949],\n",
       "       [0.71052632, 0.71541502],\n",
       "       [0.63684211, 0.58498024],\n",
       "       [0.47105263, 0.51976285],\n",
       "       [0.67105263, 0.36363636],\n",
       "       [0.62368421, 0.76284585],\n",
       "       [0.30789474, 0.45256917],\n",
       "       [0.45789474, 0.32608696],\n",
       "       [0.82368421, 0.34980237],\n",
       "       [0.70526316, 0.97035573],\n",
       "       [0.62368421, 0.62648221],\n",
       "       [0.58947368, 0.69960474],\n",
       "       [0.56315789, 0.36561265],\n",
       "       [0.81578947, 0.66403162]])"
      ]
     },
     "execution_count": 22,
     "metadata": {},
     "output_type": "execute_result"
    }
   ],
   "source": [
    "scaling.fit_transform(df[['Alcohol', 'Malic']])"
   ]
  },
  {
   "cell_type": "markdown",
   "metadata": {},
   "source": [
    "## Standardization"
   ]
  },
  {
   "cell_type": "code",
   "execution_count": 27,
   "metadata": {},
   "outputs": [],
   "source": [
    "from sklearn.preprocessing import StandardScaler"
   ]
  },
  {
   "cell_type": "code",
   "execution_count": 28,
   "metadata": {},
   "outputs": [],
   "source": [
    "std_scaler = StandardScaler()"
   ]
  },
  {
   "cell_type": "code",
   "execution_count": 29,
   "metadata": {},
   "outputs": [
    {
     "data": {
      "text/plain": [
       "array([[ 1.51861254, -0.5622498 ],\n",
       "       [ 0.24628963, -0.49941338],\n",
       "       [ 0.19687903,  0.02123125],\n",
       "       [ 1.69154964, -0.34681064],\n",
       "       [ 0.29570023,  0.22769377],\n",
       "       [ 1.48155459, -0.51736664],\n",
       "       [ 1.71625494, -0.4186237 ],\n",
       "       [ 1.3086175 , -0.16727801],\n",
       "       [ 2.25977152, -0.62508622],\n",
       "       [ 1.0615645 , -0.88540853],\n",
       "       [ 1.3580281 , -0.15830138],\n",
       "       [ 1.38273339, -0.76871232],\n",
       "       [ 0.92568536, -0.54429654],\n",
       "       [ 2.16095032, -0.54429654],\n",
       "       [ 1.70390229, -0.4186237 ],\n",
       "       [ 0.77745356, -0.47248348],\n",
       "       [ 1.60508109, -0.37374054],\n",
       "       [ 1.02450655, -0.68792264],\n",
       "       [ 1.46920194, -0.66996938],\n",
       "       [ 0.78980621,  0.68550197],\n",
       "       [ 1.3086175 , -0.63406285],\n",
       "       [-0.08723191,  1.31386618],\n",
       "       [ 0.87627476, -0.42760033],\n",
       "       [-0.18605311, -0.66099274],\n",
       "       [ 0.61686912, -0.47248348],\n",
       "       [ 0.06099988, -0.25704433],\n",
       "       [ 0.48098997, -0.50839001],\n",
       "       [ 0.36981612, -0.55327317],\n",
       "       [ 1.07391715, -0.3916938 ],\n",
       "       [ 1.2592069 , -0.58917969],\n",
       "       [ 0.90098006, -0.75075906],\n",
       "       [ 0.71569031, -0.60713296],\n",
       "       [ 0.83921681, -0.45453022],\n",
       "       [ 0.93803801, -0.72382916],\n",
       "       [ 0.62922177, -0.48146012],\n",
       "       [ 0.59216382, -0.47248348],\n",
       "       [ 0.34511082, -0.62508622],\n",
       "       [ 0.06099988, -0.61610959],\n",
       "       [ 0.08570518, -0.75075906],\n",
       "       [ 1.50625989,  1.48442217],\n",
       "       [ 0.69098501, -0.5622498 ],\n",
       "       [ 0.50569527,  1.3497727 ],\n",
       "       [ 1.0862698 , -0.40067043],\n",
       "       [ 0.29570023,  1.47544554],\n",
       "       [ 0.06099988, -0.50839001],\n",
       "       [ 1.49390724,  1.52930533],\n",
       "       [ 1.70390229,  1.12535692],\n",
       "       [ 1.1109751 , -0.58917969],\n",
       "       [ 1.3580281 , -0.28397422],\n",
       "       [ 1.1603857 , -0.54429654],\n",
       "       [ 0.06099988, -0.54429654],\n",
       "       [ 1.02450655, -0.61610959],\n",
       "       [ 1.01215391, -0.52634327],\n",
       "       [ 0.95039066, -0.3916938 ],\n",
       "       [ 0.91333271, -0.59815632],\n",
       "       [ 0.69098501, -0.54429654],\n",
       "       [ 1.50625989, -0.57122643],\n",
       "       [ 0.35746347, -0.32885738],\n",
       "       [ 0.88862741, -0.81359548],\n",
       "       [-0.77898029, -1.25345042],\n",
       "       [-0.82839089, -1.10982432],\n",
       "       [-0.44545875, -0.8764319 ],\n",
       "       [ 0.82686416, -0.97517485],\n",
       "       [-0.77898029, -1.08289442],\n",
       "       [-1.02603329, -0.79564222],\n",
       "       [-0.77898029, -1.01108137],\n",
       "       [ 0.13511578, -1.190614  ],\n",
       "       [-0.77898029, -1.0469879 ],\n",
       "       [ 0.41922672, -1.25345042],\n",
       "       [-0.97662269, -1.02903463],\n",
       "       [-0.87780149, -0.65201611],\n",
       "       [ 1.0615645 , -0.74178243],\n",
       "       [ 0.60451647, -0.60713296],\n",
       "       [-0.01311602, -0.59815632],\n",
       "       [-1.28543893, -1.11880095],\n",
       "       [-1.65601842, -0.40964706],\n",
       "       [ 0.03629458, -1.28935695],\n",
       "       [-1.43367073,  0.49699271],\n",
       "       [-0.82839089, -1.20856726],\n",
       "       [-0.37134286,  1.3767026 ],\n",
       "       [-1.23602833, -1.27140368],\n",
       "       [-0.34663756, -0.47248348],\n",
       "       [-1.13720713, -1.08289442],\n",
       "       [ 0.06099988,  1.36772596],\n",
       "       [-1.43367073, -1.29833358],\n",
       "       [-0.4084008 , -1.21754389],\n",
       "       [-1.03838594, -0.65201611],\n",
       "       [-1.66837107, -0.59815632],\n",
       "       [-1.68072372, -0.2480677 ],\n",
       "       [-1.13720713, -0.90336179],\n",
       "       [-1.13720713, -0.45453022],\n",
       "       [-1.23602833, -0.74178243],\n",
       "       [-0.38369551, -0.72382916],\n",
       "       [-0.87780149,  0.44313292],\n",
       "       [-1.70542902, -0.31090412],\n",
       "       [-0.6554538 , -0.7328058 ],\n",
       "       [-1.47072867, -0.19420791],\n",
       "       [-0.87780149, -0.83154874],\n",
       "       [-0.77898029, -1.13675421],\n",
       "       [-0.87780149,  0.74833839],\n",
       "       [-1.13720713, -0.23011443],\n",
       "       [-0.49486935, -0.89438516],\n",
       "       [-0.81603824,  0.10202093],\n",
       "       [-1.45837602, -0.55327317],\n",
       "       [-0.6060432 , -0.54429654],\n",
       "       [-0.71721705,  0.19178724],\n",
       "       [-0.92721209, -0.54429654],\n",
       "       [-0.34663756, -0.52634327],\n",
       "       [-0.96427004, -0.93926832],\n",
       "       [-1.71778167, -0.88540853],\n",
       "       [-1.90307141,  1.26000639],\n",
       "       [-0.59369055,  0.08406767],\n",
       "       [-1.53249192,  0.30848345],\n",
       "       [-1.96483466, -1.43298305],\n",
       "       [-1.13720713, -0.849502  ],\n",
       "       [-2.43423535, -0.74178243],\n",
       "       [-1.45837602, -0.77768895],\n",
       "       [-0.71721705, -0.65201611],\n",
       "       [-0.28487431,  0.98173081],\n",
       "       [-1.23602833,  0.98173081],\n",
       "       [-1.91542406,  0.05713777],\n",
       "       [-1.77954492, -0.25704433],\n",
       "       [-0.71721705,  1.87939396],\n",
       "       [ 0.06099988,  3.10919247],\n",
       "       [-1.39661278,  1.77167438],\n",
       "       [-1.14955978, -0.15830138],\n",
       "       [-0.7048644 , -0.72382916],\n",
       "       [-1.49543397, -0.18523128],\n",
       "       [-0.77898029, -0.63406285],\n",
       "       [-1.18661773,  1.76269775],\n",
       "       [-0.17370046, -0.88540853],\n",
       "       [-0.14899516,  0.58675903],\n",
       "       [-0.23546371, -0.02365191],\n",
       "       [-0.37134286,  1.08945039],\n",
       "       [-0.6060432 , -0.98415148],\n",
       "       [-0.49486935,  0.11099756],\n",
       "       [-0.92721209,  2.13971627],\n",
       "       [-0.5813379 ,  2.84887015],\n",
       "       [ 0.60451647,  1.12535692],\n",
       "       [-0.19840576,  0.55982913],\n",
       "       [-0.08723191,  0.42517966],\n",
       "       [ 0.44393202,  0.20076388],\n",
       "       [ 0.64157442,  0.74833839],\n",
       "       [ 0.76510091,  2.34617879],\n",
       "       [-0.92721209,  1.38567923],\n",
       "       [ 0.19687903,  1.10740365],\n",
       "       [ 1.0862698 ,  2.42696848],\n",
       "       [-0.16134781,  2.04097332],\n",
       "       [ 0.39452142,  0.81117481],\n",
       "       [ 0.09805783,  1.40363249],\n",
       "       [ 0.61686912,  0.70345524],\n",
       "       [-0.26016901,  0.29950682],\n",
       "       [ 0.13511578, -0.3916938 ],\n",
       "       [ 0.28334758,  0.8650346 ],\n",
       "       [-0.51957465, -0.93926832],\n",
       "       [ 0.20923168,  2.56161795],\n",
       "       [ 1.0368592 ,  1.60111838],\n",
       "       [-0.6801591 ,  0.62266555],\n",
       "       [ 1.65449169, -0.58917969],\n",
       "       [ 0.59216382, -0.59815632],\n",
       "       [-0.79133294,  1.34079607],\n",
       "       [ 0.85156946,  0.82912808],\n",
       "       [-0.18605311,  0.83810471],\n",
       "       [-0.05017396,  0.99968408],\n",
       "       [ 0.96274331,  0.3802965 ],\n",
       "       [ 0.90098006,  1.81655754],\n",
       "       [ 0.55510587,  1.22409986],\n",
       "       [-0.22311106,  0.92787102],\n",
       "       [ 0.71569031,  0.21871714],\n",
       "       [ 0.49334262,  2.03199669],\n",
       "       [-0.98897534,  0.62266555],\n",
       "       [-0.28487431,  0.04816114],\n",
       "       [ 1.43214399,  0.15588072],\n",
       "       [ 0.87627476,  2.974543  ],\n",
       "       [ 0.49334262,  1.41260912],\n",
       "       [ 0.33275817,  1.74474449],\n",
       "       [ 0.20923168,  0.22769377],\n",
       "       [ 1.39508604,  1.58316512]])"
      ]
     },
     "execution_count": 29,
     "metadata": {},
     "output_type": "execute_result"
    }
   ],
   "source": [
    "std_scaler.fit_transform(df[['Alcohol', 'Malic']])"
   ]
  },
  {
   "cell_type": "code",
   "execution_count": 35,
   "metadata": {},
   "outputs": [
    {
     "data": {
      "application/javascript": "\n        if (window._pyforest_update_imports_cell) { window._pyforest_update_imports_cell('import seaborn as sns\\nimport pandas as pd\\nimport matplotlib.pyplot as plt\\nimport numpy as np\\nimport sklearn'); }\n    ",
      "text/plain": [
       "<IPython.core.display.Javascript object>"
      ]
     },
     "metadata": {},
     "output_type": "display_data"
    },
    {
     "data": {
      "text/plain": [
       "array([ 1,  2,  3,  4,  5,  6,  7,  8,  9, 10])"
      ]
     },
     "execution_count": 35,
     "metadata": {},
     "output_type": "execute_result"
    }
   ],
   "source": [
    "lst1 = np.arange(1,101)\n",
    "lst1[:10]"
   ]
  },
  {
   "cell_type": "code",
   "execution_count": 36,
   "metadata": {},
   "outputs": [
    {
     "data": {
      "application/javascript": "\n        if (window._pyforest_update_imports_cell) { window._pyforest_update_imports_cell('import seaborn as sns\\nimport pandas as pd\\nimport matplotlib.pyplot as plt\\nimport numpy as np\\nimport sklearn'); }\n    ",
      "text/plain": [
       "<IPython.core.display.Javascript object>"
      ]
     },
     "metadata": {},
     "output_type": "display_data"
    },
    {
     "data": {
      "text/plain": [
       "array([100, 101, 102, 103, 104, 105, 106, 107, 108, 109])"
      ]
     },
     "execution_count": 36,
     "metadata": {},
     "output_type": "execute_result"
    }
   ],
   "source": [
    "lst2 = np.arange(100,200)\n",
    "lst2[:10]"
   ]
  },
  {
   "cell_type": "code",
   "execution_count": 37,
   "metadata": {},
   "outputs": [
    {
     "data": {
      "text/plain": [
       "(100, 100)"
      ]
     },
     "execution_count": 37,
     "metadata": {},
     "output_type": "execute_result"
    }
   ],
   "source": [
    "len(lst1), len(lst2)"
   ]
  },
  {
   "cell_type": "code",
   "execution_count": 38,
   "metadata": {},
   "outputs": [
    {
     "data": {
      "application/javascript": "\n        if (window._pyforest_update_imports_cell) { window._pyforest_update_imports_cell('import seaborn as sns\\nimport pandas as pd\\nimport matplotlib.pyplot as plt\\nimport numpy as np\\nimport sklearn'); }\n    ",
      "text/plain": [
       "<IPython.core.display.Javascript object>"
      ]
     },
     "metadata": {},
     "output_type": "display_data"
    }
   ],
   "source": [
    "df = pd.DataFrame({'col1' : lst1,\n",
    "              'col2' : lst2}\n",
    "                  )"
   ]
  },
  {
   "cell_type": "code",
   "execution_count": 39,
   "metadata": {},
   "outputs": [
    {
     "data": {
      "text/html": [
       "<div>\n",
       "<style scoped>\n",
       "    .dataframe tbody tr th:only-of-type {\n",
       "        vertical-align: middle;\n",
       "    }\n",
       "\n",
       "    .dataframe tbody tr th {\n",
       "        vertical-align: top;\n",
       "    }\n",
       "\n",
       "    .dataframe thead th {\n",
       "        text-align: right;\n",
       "    }\n",
       "</style>\n",
       "<table border=\"1\" class=\"dataframe\">\n",
       "  <thead>\n",
       "    <tr style=\"text-align: right;\">\n",
       "      <th></th>\n",
       "      <th>col1</th>\n",
       "      <th>col2</th>\n",
       "    </tr>\n",
       "  </thead>\n",
       "  <tbody>\n",
       "    <tr>\n",
       "      <th>0</th>\n",
       "      <td>1</td>\n",
       "      <td>100</td>\n",
       "    </tr>\n",
       "    <tr>\n",
       "      <th>1</th>\n",
       "      <td>2</td>\n",
       "      <td>101</td>\n",
       "    </tr>\n",
       "    <tr>\n",
       "      <th>2</th>\n",
       "      <td>3</td>\n",
       "      <td>102</td>\n",
       "    </tr>\n",
       "    <tr>\n",
       "      <th>3</th>\n",
       "      <td>4</td>\n",
       "      <td>103</td>\n",
       "    </tr>\n",
       "    <tr>\n",
       "      <th>4</th>\n",
       "      <td>5</td>\n",
       "      <td>104</td>\n",
       "    </tr>\n",
       "  </tbody>\n",
       "</table>\n",
       "</div>"
      ],
      "text/plain": [
       "   col1  col2\n",
       "0     1   100\n",
       "1     2   101\n",
       "2     3   102\n",
       "3     4   103\n",
       "4     5   104"
      ]
     },
     "execution_count": 39,
     "metadata": {},
     "output_type": "execute_result"
    }
   ],
   "source": [
    "df.head(5)"
   ]
  },
  {
   "cell_type": "code",
   "execution_count": 41,
   "metadata": {},
   "outputs": [
    {
     "data": {
      "text/html": [
       "<div>\n",
       "<style scoped>\n",
       "    .dataframe tbody tr th:only-of-type {\n",
       "        vertical-align: middle;\n",
       "    }\n",
       "\n",
       "    .dataframe tbody tr th {\n",
       "        vertical-align: top;\n",
       "    }\n",
       "\n",
       "    .dataframe thead th {\n",
       "        text-align: right;\n",
       "    }\n",
       "</style>\n",
       "<table border=\"1\" class=\"dataframe\">\n",
       "  <thead>\n",
       "    <tr style=\"text-align: right;\">\n",
       "      <th></th>\n",
       "      <th>col1</th>\n",
       "      <th>col2</th>\n",
       "      <th>col3</th>\n",
       "    </tr>\n",
       "  </thead>\n",
       "  <tbody>\n",
       "    <tr>\n",
       "      <th>0</th>\n",
       "      <td>1</td>\n",
       "      <td>100</td>\n",
       "      <td>101</td>\n",
       "    </tr>\n",
       "    <tr>\n",
       "      <th>1</th>\n",
       "      <td>2</td>\n",
       "      <td>101</td>\n",
       "      <td>103</td>\n",
       "    </tr>\n",
       "  </tbody>\n",
       "</table>\n",
       "</div>"
      ],
      "text/plain": [
       "   col1  col2  col3\n",
       "0     1   100   101\n",
       "1     2   101   103"
      ]
     },
     "execution_count": 41,
     "metadata": {},
     "output_type": "execute_result"
    }
   ],
   "source": [
    "df['col3'] = df['col1'] + df['col2']\n",
    "df.head(2)"
   ]
  },
  {
   "cell_type": "code",
   "execution_count": null,
   "metadata": {},
   "outputs": [],
   "source": []
  }
 ],
 "metadata": {
  "interpreter": {
   "hash": "61ea9aa73e02b58d53cb2ec6c42f910c12dcb2b185565d429cb0cdc896334cf8"
  },
  "kernelspec": {
   "display_name": "Python 3.7.11 64-bit ('krish_env_new': conda)",
   "name": "python3"
  },
  "language_info": {
   "codemirror_mode": {
    "name": "ipython",
    "version": 3
   },
   "file_extension": ".py",
   "mimetype": "text/x-python",
   "name": "python",
   "nbconvert_exporter": "python",
   "pygments_lexer": "ipython3",
   "version": "3.7.11"
  },
  "orig_nbformat": 4
 },
 "nbformat": 4,
 "nbformat_minor": 2
}
