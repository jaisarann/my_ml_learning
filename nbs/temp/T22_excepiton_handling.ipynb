{
 "cells": [
  {
   "cell_type": "code",
   "execution_count": 1,
   "metadata": {},
   "outputs": [],
   "source": [
    "import pyforest"
   ]
  },
  {
   "cell_type": "code",
   "execution_count": 10,
   "metadata": {},
   "outputs": [
    {
     "name": "stdout",
     "output_type": "stream",
     "text": [
      "invalid literal for int() with base 10: ''\n",
      "Execution Done!\n"
     ]
    }
   ],
   "source": [
    "try:\n",
    "    a = int(input('Enter Number 1 : '))\n",
    "    b = int(input('Enter Number 2 : '))\n",
    "    c  = a/b\n",
    "    \n",
    "except Exception as ex:\n",
    "    print(ex)\n",
    "    \n",
    "else: #No Exception it will be executed\n",
    "    print(c)\n",
    "finally: #All scenario this block executed\n",
    "    print('Execution Done!')"
   ]
  },
  {
   "cell_type": "markdown",
   "metadata": {},
   "source": [
    "## Create Custom Exception"
   ]
  },
  {
   "cell_type": "code",
   "execution_count": 11,
   "metadata": {},
   "outputs": [],
   "source": [
    "class MyException(Exception):\n",
    "    pass"
   ]
  },
  {
   "cell_type": "markdown",
   "metadata": {},
   "source": [
    "### Raise My Exception"
   ]
  },
  {
   "cell_type": "code",
   "execution_count": 17,
   "metadata": {},
   "outputs": [
    {
     "name": "stdout",
     "output_type": "stream",
     "text": [
      "Age is not between 20 and 30\n"
     ]
    }
   ],
   "source": [
    "birth_year = int(input('Enter you Year of Birth : '))\n",
    "\n",
    "age = 2022 - birth_year\n",
    "\n",
    "try:\n",
    "    if age > 20 and age <=30:\n",
    "        print('Age is between 20 and 30')\n",
    "    else:\n",
    "        raise MyException\n",
    "except MyException:\n",
    "    print('Age is not between 20 and 30')\n",
    "except Exception:\n",
    "    print('General Error')\n",
    "    "
   ]
  },
  {
   "cell_type": "markdown",
   "metadata": {},
   "source": [
    "### Raise Generic Exception"
   ]
  },
  {
   "cell_type": "code",
   "execution_count": 18,
   "metadata": {},
   "outputs": [
    {
     "name": "stdout",
     "output_type": "stream",
     "text": [
      "General Error\n"
     ]
    }
   ],
   "source": [
    "birth_year = int(input('Enter you Year of Birth : '))\n",
    "\n",
    "age = 2022 - birth_year\n",
    "\n",
    "try:\n",
    "    if age > 20 and age <=30:\n",
    "        print('Age is between 20 and 30')\n",
    "    else:\n",
    "        raise Exception\n",
    "except MyException:\n",
    "    print('Age is not between 20 and 30')\n",
    "except Exception:\n",
    "    print('General Error')"
   ]
  }
 ],
 "metadata": {
  "interpreter": {
   "hash": "61ea9aa73e02b58d53cb2ec6c42f910c12dcb2b185565d429cb0cdc896334cf8"
  },
  "kernelspec": {
   "display_name": "Python 3.7.11 64-bit ('krish_env_new': conda)",
   "name": "python3"
  },
  "language_info": {
   "codemirror_mode": {
    "name": "ipython",
    "version": 3
   },
   "file_extension": ".py",
   "mimetype": "text/x-python",
   "name": "python",
   "nbconvert_exporter": "python",
   "pygments_lexer": "ipython3",
   "version": "3.7.11"
  },
  "orig_nbformat": 4
 },
 "nbformat": 4,
 "nbformat_minor": 2
}
