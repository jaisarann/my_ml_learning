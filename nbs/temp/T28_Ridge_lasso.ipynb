{
 "cells": [
  {
   "cell_type": "code",
   "execution_count": 1,
   "metadata": {},
   "outputs": [],
   "source": [
    "import pyforest"
   ]
  },
  {
   "cell_type": "code",
   "execution_count": 51,
   "metadata": {},
   "outputs": [],
   "source": [
    "from sklearn.datasets import load_boston\n",
    "from sklearn.metrics import make_scorer, confusion_matrix\n",
    "from sklearn.linear_model import Ridge, LinearRegression, Lasso\n",
    "from sklearn.model_selection import GridSearchCV, cross_val_score, train_test_split"
   ]
  },
  {
   "cell_type": "markdown",
   "metadata": {},
   "source": [
    "## Load Data"
   ]
  },
  {
   "cell_type": "code",
   "execution_count": 4,
   "metadata": {},
   "outputs": [
    {
     "data": {
      "text/plain": [
       "{'data': array([[6.3200e-03, 1.8000e+01, 2.3100e+00, ..., 1.5300e+01, 3.9690e+02,\n",
       "         4.9800e+00],\n",
       "        [2.7310e-02, 0.0000e+00, 7.0700e+00, ..., 1.7800e+01, 3.9690e+02,\n",
       "         9.1400e+00],\n",
       "        [2.7290e-02, 0.0000e+00, 7.0700e+00, ..., 1.7800e+01, 3.9283e+02,\n",
       "         4.0300e+00],\n",
       "        ...,\n",
       "        [6.0760e-02, 0.0000e+00, 1.1930e+01, ..., 2.1000e+01, 3.9690e+02,\n",
       "         5.6400e+00],\n",
       "        [1.0959e-01, 0.0000e+00, 1.1930e+01, ..., 2.1000e+01, 3.9345e+02,\n",
       "         6.4800e+00],\n",
       "        [4.7410e-02, 0.0000e+00, 1.1930e+01, ..., 2.1000e+01, 3.9690e+02,\n",
       "         7.8800e+00]]),\n",
       " 'target': array([24. , 21.6, 34.7, 33.4, 36.2, 28.7, 22.9, 27.1, 16.5, 18.9, 15. ,\n",
       "        18.9, 21.7, 20.4, 18.2, 19.9, 23.1, 17.5, 20.2, 18.2, 13.6, 19.6,\n",
       "        15.2, 14.5, 15.6, 13.9, 16.6, 14.8, 18.4, 21. , 12.7, 14.5, 13.2,\n",
       "        13.1, 13.5, 18.9, 20. , 21. , 24.7, 30.8, 34.9, 26.6, 25.3, 24.7,\n",
       "        21.2, 19.3, 20. , 16.6, 14.4, 19.4, 19.7, 20.5, 25. , 23.4, 18.9,\n",
       "        35.4, 24.7, 31.6, 23.3, 19.6, 18.7, 16. , 22.2, 25. , 33. , 23.5,\n",
       "        19.4, 22. , 17.4, 20.9, 24.2, 21.7, 22.8, 23.4, 24.1, 21.4, 20. ,\n",
       "        20.8, 21.2, 20.3, 28. , 23.9, 24.8, 22.9, 23.9, 26.6, 22.5, 22.2,\n",
       "        23.6, 28.7, 22.6, 22. , 22.9, 25. , 20.6, 28.4, 21.4, 38.7, 43.8,\n",
       "        33.2, 27.5, 26.5, 18.6, 19.3, 20.1, 19.5, 19.5, 20.4, 19.8, 19.4,\n",
       "        21.7, 22.8, 18.8, 18.7, 18.5, 18.3, 21.2, 19.2, 20.4, 19.3, 22. ,\n",
       "        20.3, 20.5, 17.3, 18.8, 21.4, 15.7, 16.2, 18. , 14.3, 19.2, 19.6,\n",
       "        23. , 18.4, 15.6, 18.1, 17.4, 17.1, 13.3, 17.8, 14. , 14.4, 13.4,\n",
       "        15.6, 11.8, 13.8, 15.6, 14.6, 17.8, 15.4, 21.5, 19.6, 15.3, 19.4,\n",
       "        17. , 15.6, 13.1, 41.3, 24.3, 23.3, 27. , 50. , 50. , 50. , 22.7,\n",
       "        25. , 50. , 23.8, 23.8, 22.3, 17.4, 19.1, 23.1, 23.6, 22.6, 29.4,\n",
       "        23.2, 24.6, 29.9, 37.2, 39.8, 36.2, 37.9, 32.5, 26.4, 29.6, 50. ,\n",
       "        32. , 29.8, 34.9, 37. , 30.5, 36.4, 31.1, 29.1, 50. , 33.3, 30.3,\n",
       "        34.6, 34.9, 32.9, 24.1, 42.3, 48.5, 50. , 22.6, 24.4, 22.5, 24.4,\n",
       "        20. , 21.7, 19.3, 22.4, 28.1, 23.7, 25. , 23.3, 28.7, 21.5, 23. ,\n",
       "        26.7, 21.7, 27.5, 30.1, 44.8, 50. , 37.6, 31.6, 46.7, 31.5, 24.3,\n",
       "        31.7, 41.7, 48.3, 29. , 24. , 25.1, 31.5, 23.7, 23.3, 22. , 20.1,\n",
       "        22.2, 23.7, 17.6, 18.5, 24.3, 20.5, 24.5, 26.2, 24.4, 24.8, 29.6,\n",
       "        42.8, 21.9, 20.9, 44. , 50. , 36. , 30.1, 33.8, 43.1, 48.8, 31. ,\n",
       "        36.5, 22.8, 30.7, 50. , 43.5, 20.7, 21.1, 25.2, 24.4, 35.2, 32.4,\n",
       "        32. , 33.2, 33.1, 29.1, 35.1, 45.4, 35.4, 46. , 50. , 32.2, 22. ,\n",
       "        20.1, 23.2, 22.3, 24.8, 28.5, 37.3, 27.9, 23.9, 21.7, 28.6, 27.1,\n",
       "        20.3, 22.5, 29. , 24.8, 22. , 26.4, 33.1, 36.1, 28.4, 33.4, 28.2,\n",
       "        22.8, 20.3, 16.1, 22.1, 19.4, 21.6, 23.8, 16.2, 17.8, 19.8, 23.1,\n",
       "        21. , 23.8, 23.1, 20.4, 18.5, 25. , 24.6, 23. , 22.2, 19.3, 22.6,\n",
       "        19.8, 17.1, 19.4, 22.2, 20.7, 21.1, 19.5, 18.5, 20.6, 19. , 18.7,\n",
       "        32.7, 16.5, 23.9, 31.2, 17.5, 17.2, 23.1, 24.5, 26.6, 22.9, 24.1,\n",
       "        18.6, 30.1, 18.2, 20.6, 17.8, 21.7, 22.7, 22.6, 25. , 19.9, 20.8,\n",
       "        16.8, 21.9, 27.5, 21.9, 23.1, 50. , 50. , 50. , 50. , 50. , 13.8,\n",
       "        13.8, 15. , 13.9, 13.3, 13.1, 10.2, 10.4, 10.9, 11.3, 12.3,  8.8,\n",
       "         7.2, 10.5,  7.4, 10.2, 11.5, 15.1, 23.2,  9.7, 13.8, 12.7, 13.1,\n",
       "        12.5,  8.5,  5. ,  6.3,  5.6,  7.2, 12.1,  8.3,  8.5,  5. , 11.9,\n",
       "        27.9, 17.2, 27.5, 15. , 17.2, 17.9, 16.3,  7. ,  7.2,  7.5, 10.4,\n",
       "         8.8,  8.4, 16.7, 14.2, 20.8, 13.4, 11.7,  8.3, 10.2, 10.9, 11. ,\n",
       "         9.5, 14.5, 14.1, 16.1, 14.3, 11.7, 13.4,  9.6,  8.7,  8.4, 12.8,\n",
       "        10.5, 17.1, 18.4, 15.4, 10.8, 11.8, 14.9, 12.6, 14.1, 13. , 13.4,\n",
       "        15.2, 16.1, 17.8, 14.9, 14.1, 12.7, 13.5, 14.9, 20. , 16.4, 17.7,\n",
       "        19.5, 20.2, 21.4, 19.9, 19. , 19.1, 19.1, 20.1, 19.9, 19.6, 23.2,\n",
       "        29.8, 13.8, 13.3, 16.7, 12. , 14.6, 21.4, 23. , 23.7, 25. , 21.8,\n",
       "        20.6, 21.2, 19.1, 20.6, 15.2,  7. ,  8.1, 13.6, 20.1, 21.8, 24.5,\n",
       "        23.1, 19.7, 18.3, 21.2, 17.5, 16.8, 22.4, 20.6, 23.9, 22. , 11.9]),\n",
       " 'feature_names': array(['CRIM', 'ZN', 'INDUS', 'CHAS', 'NOX', 'RM', 'AGE', 'DIS', 'RAD',\n",
       "        'TAX', 'PTRATIO', 'B', 'LSTAT'], dtype='<U7'),\n",
       " 'DESCR': \".. _boston_dataset:\\n\\nBoston house prices dataset\\n---------------------------\\n\\n**Data Set Characteristics:**  \\n\\n    :Number of Instances: 506 \\n\\n    :Number of Attributes: 13 numeric/categorical predictive. Median Value (attribute 14) is usually the target.\\n\\n    :Attribute Information (in order):\\n        - CRIM     per capita crime rate by town\\n        - ZN       proportion of residential land zoned for lots over 25,000 sq.ft.\\n        - INDUS    proportion of non-retail business acres per town\\n        - CHAS     Charles River dummy variable (= 1 if tract bounds river; 0 otherwise)\\n        - NOX      nitric oxides concentration (parts per 10 million)\\n        - RM       average number of rooms per dwelling\\n        - AGE      proportion of owner-occupied units built prior to 1940\\n        - DIS      weighted distances to five Boston employment centres\\n        - RAD      index of accessibility to radial highways\\n        - TAX      full-value property-tax rate per $10,000\\n        - PTRATIO  pupil-teacher ratio by town\\n        - B        1000(Bk - 0.63)^2 where Bk is the proportion of blacks by town\\n        - LSTAT    % lower status of the population\\n        - MEDV     Median value of owner-occupied homes in $1000's\\n\\n    :Missing Attribute Values: None\\n\\n    :Creator: Harrison, D. and Rubinfeld, D.L.\\n\\nThis is a copy of UCI ML housing dataset.\\nhttps://archive.ics.uci.edu/ml/machine-learning-databases/housing/\\n\\n\\nThis dataset was taken from the StatLib library which is maintained at Carnegie Mellon University.\\n\\nThe Boston house-price data of Harrison, D. and Rubinfeld, D.L. 'Hedonic\\nprices and the demand for clean air', J. Environ. Economics & Management,\\nvol.5, 81-102, 1978.   Used in Belsley, Kuh & Welsch, 'Regression diagnostics\\n...', Wiley, 1980.   N.B. Various transformations are used in the table on\\npages 244-261 of the latter.\\n\\nThe Boston house-price data has been used in many machine learning papers that address regression\\nproblems.   \\n     \\n.. topic:: References\\n\\n   - Belsley, Kuh & Welsch, 'Regression diagnostics: Identifying Influential Data and Sources of Collinearity', Wiley, 1980. 244-261.\\n   - Quinlan,R. (1993). Combining Instance-Based and Model-Based Learning. In Proceedings on the Tenth International Conference of Machine Learning, 236-243, University of Massachusetts, Amherst. Morgan Kaufmann.\\n\",\n",
       " 'filename': 'C:\\\\Users\\\\595244\\\\AppData\\\\Roaming\\\\Python\\\\Python37\\\\site-packages\\\\sklearn\\\\datasets\\\\data\\\\boston_house_prices.csv'}"
      ]
     },
     "execution_count": 4,
     "metadata": {},
     "output_type": "execute_result"
    }
   ],
   "source": [
    "df = load_boston()\n",
    "df"
   ]
  },
  {
   "cell_type": "code",
   "execution_count": 6,
   "metadata": {},
   "outputs": [
    {
     "data": {
      "application/javascript": "\n        if (window._pyforest_update_imports_cell) { window._pyforest_update_imports_cell('import sklearn\\nimport pandas as pd'); }\n    ",
      "text/plain": [
       "<IPython.core.display.Javascript object>"
      ]
     },
     "metadata": {},
     "output_type": "display_data"
    },
    {
     "data": {
      "text/html": [
       "<div>\n",
       "<style scoped>\n",
       "    .dataframe tbody tr th:only-of-type {\n",
       "        vertical-align: middle;\n",
       "    }\n",
       "\n",
       "    .dataframe tbody tr th {\n",
       "        vertical-align: top;\n",
       "    }\n",
       "\n",
       "    .dataframe thead th {\n",
       "        text-align: right;\n",
       "    }\n",
       "</style>\n",
       "<table border=\"1\" class=\"dataframe\">\n",
       "  <thead>\n",
       "    <tr style=\"text-align: right;\">\n",
       "      <th></th>\n",
       "      <th>CRIM</th>\n",
       "      <th>ZN</th>\n",
       "      <th>INDUS</th>\n",
       "      <th>CHAS</th>\n",
       "      <th>NOX</th>\n",
       "      <th>RM</th>\n",
       "      <th>AGE</th>\n",
       "      <th>DIS</th>\n",
       "      <th>RAD</th>\n",
       "      <th>TAX</th>\n",
       "      <th>PTRATIO</th>\n",
       "      <th>B</th>\n",
       "      <th>LSTAT</th>\n",
       "    </tr>\n",
       "  </thead>\n",
       "  <tbody>\n",
       "    <tr>\n",
       "      <th>0</th>\n",
       "      <td>0.00632</td>\n",
       "      <td>18.0</td>\n",
       "      <td>2.31</td>\n",
       "      <td>0.0</td>\n",
       "      <td>0.538</td>\n",
       "      <td>6.575</td>\n",
       "      <td>65.2</td>\n",
       "      <td>4.0900</td>\n",
       "      <td>1.0</td>\n",
       "      <td>296.0</td>\n",
       "      <td>15.3</td>\n",
       "      <td>396.9</td>\n",
       "      <td>4.98</td>\n",
       "    </tr>\n",
       "    <tr>\n",
       "      <th>1</th>\n",
       "      <td>0.02731</td>\n",
       "      <td>0.0</td>\n",
       "      <td>7.07</td>\n",
       "      <td>0.0</td>\n",
       "      <td>0.469</td>\n",
       "      <td>6.421</td>\n",
       "      <td>78.9</td>\n",
       "      <td>4.9671</td>\n",
       "      <td>2.0</td>\n",
       "      <td>242.0</td>\n",
       "      <td>17.8</td>\n",
       "      <td>396.9</td>\n",
       "      <td>9.14</td>\n",
       "    </tr>\n",
       "  </tbody>\n",
       "</table>\n",
       "</div>"
      ],
      "text/plain": [
       "      CRIM    ZN  INDUS  CHAS    NOX  ...  RAD    TAX  PTRATIO      B  LSTAT\n",
       "0  0.00632  18.0   2.31   0.0  0.538  ...  1.0  296.0     15.3  396.9   4.98\n",
       "1  0.02731   0.0   7.07   0.0  0.469  ...  2.0  242.0     17.8  396.9   9.14\n",
       "\n",
       "[2 rows x 13 columns]"
      ]
     },
     "execution_count": 6,
     "metadata": {},
     "output_type": "execute_result"
    }
   ],
   "source": [
    "dataset = pd.DataFrame(data=df.data, columns=df.feature_names)\n",
    "dataset.head(2)"
   ]
  },
  {
   "cell_type": "code",
   "execution_count": 9,
   "metadata": {},
   "outputs": [
    {
     "data": {
      "text/plain": [
       "(506, 13)"
      ]
     },
     "execution_count": 9,
     "metadata": {},
     "output_type": "execute_result"
    }
   ],
   "source": [
    "dataset.shape"
   ]
  },
  {
   "cell_type": "code",
   "execution_count": 8,
   "metadata": {},
   "outputs": [
    {
     "data": {
      "text/plain": [
       "(506,)"
      ]
     },
     "execution_count": 8,
     "metadata": {},
     "output_type": "execute_result"
    }
   ],
   "source": [
    "df.target.shape"
   ]
  },
  {
   "cell_type": "code",
   "execution_count": 10,
   "metadata": {},
   "outputs": [
    {
     "data": {
      "text/html": [
       "<div>\n",
       "<style scoped>\n",
       "    .dataframe tbody tr th:only-of-type {\n",
       "        vertical-align: middle;\n",
       "    }\n",
       "\n",
       "    .dataframe tbody tr th {\n",
       "        vertical-align: top;\n",
       "    }\n",
       "\n",
       "    .dataframe thead th {\n",
       "        text-align: right;\n",
       "    }\n",
       "</style>\n",
       "<table border=\"1\" class=\"dataframe\">\n",
       "  <thead>\n",
       "    <tr style=\"text-align: right;\">\n",
       "      <th></th>\n",
       "      <th>CRIM</th>\n",
       "      <th>ZN</th>\n",
       "      <th>INDUS</th>\n",
       "      <th>CHAS</th>\n",
       "      <th>NOX</th>\n",
       "      <th>RM</th>\n",
       "      <th>AGE</th>\n",
       "      <th>DIS</th>\n",
       "      <th>RAD</th>\n",
       "      <th>TAX</th>\n",
       "      <th>PTRATIO</th>\n",
       "      <th>B</th>\n",
       "      <th>LSTAT</th>\n",
       "      <th>target</th>\n",
       "    </tr>\n",
       "  </thead>\n",
       "  <tbody>\n",
       "    <tr>\n",
       "      <th>0</th>\n",
       "      <td>0.00632</td>\n",
       "      <td>18.0</td>\n",
       "      <td>2.31</td>\n",
       "      <td>0.0</td>\n",
       "      <td>0.538</td>\n",
       "      <td>6.575</td>\n",
       "      <td>65.2</td>\n",
       "      <td>4.0900</td>\n",
       "      <td>1.0</td>\n",
       "      <td>296.0</td>\n",
       "      <td>15.3</td>\n",
       "      <td>396.9</td>\n",
       "      <td>4.98</td>\n",
       "      <td>24.0</td>\n",
       "    </tr>\n",
       "    <tr>\n",
       "      <th>1</th>\n",
       "      <td>0.02731</td>\n",
       "      <td>0.0</td>\n",
       "      <td>7.07</td>\n",
       "      <td>0.0</td>\n",
       "      <td>0.469</td>\n",
       "      <td>6.421</td>\n",
       "      <td>78.9</td>\n",
       "      <td>4.9671</td>\n",
       "      <td>2.0</td>\n",
       "      <td>242.0</td>\n",
       "      <td>17.8</td>\n",
       "      <td>396.9</td>\n",
       "      <td>9.14</td>\n",
       "      <td>21.6</td>\n",
       "    </tr>\n",
       "  </tbody>\n",
       "</table>\n",
       "</div>"
      ],
      "text/plain": [
       "      CRIM    ZN  INDUS  CHAS    NOX  ...    TAX  PTRATIO      B  LSTAT  target\n",
       "0  0.00632  18.0   2.31   0.0  0.538  ...  296.0     15.3  396.9   4.98    24.0\n",
       "1  0.02731   0.0   7.07   0.0  0.469  ...  242.0     17.8  396.9   9.14    21.6\n",
       "\n",
       "[2 rows x 14 columns]"
      ]
     },
     "execution_count": 10,
     "metadata": {},
     "output_type": "execute_result"
    }
   ],
   "source": [
    "dataset['target'] = df.target\n",
    "dataset.head(2)"
   ]
  },
  {
   "cell_type": "code",
   "execution_count": 11,
   "metadata": {},
   "outputs": [
    {
     "data": {
      "text/html": [
       "<div>\n",
       "<style scoped>\n",
       "    .dataframe tbody tr th:only-of-type {\n",
       "        vertical-align: middle;\n",
       "    }\n",
       "\n",
       "    .dataframe tbody tr th {\n",
       "        vertical-align: top;\n",
       "    }\n",
       "\n",
       "    .dataframe thead th {\n",
       "        text-align: right;\n",
       "    }\n",
       "</style>\n",
       "<table border=\"1\" class=\"dataframe\">\n",
       "  <thead>\n",
       "    <tr style=\"text-align: right;\">\n",
       "      <th></th>\n",
       "      <th>CRIM</th>\n",
       "      <th>ZN</th>\n",
       "      <th>INDUS</th>\n",
       "      <th>CHAS</th>\n",
       "      <th>NOX</th>\n",
       "      <th>RM</th>\n",
       "      <th>AGE</th>\n",
       "      <th>DIS</th>\n",
       "      <th>RAD</th>\n",
       "      <th>TAX</th>\n",
       "      <th>PTRATIO</th>\n",
       "      <th>B</th>\n",
       "      <th>LSTAT</th>\n",
       "    </tr>\n",
       "  </thead>\n",
       "  <tbody>\n",
       "    <tr>\n",
       "      <th>0</th>\n",
       "      <td>0.00632</td>\n",
       "      <td>18.0</td>\n",
       "      <td>2.31</td>\n",
       "      <td>0.0</td>\n",
       "      <td>0.538</td>\n",
       "      <td>6.575</td>\n",
       "      <td>65.2</td>\n",
       "      <td>4.0900</td>\n",
       "      <td>1.0</td>\n",
       "      <td>296.0</td>\n",
       "      <td>15.3</td>\n",
       "      <td>396.9</td>\n",
       "      <td>4.98</td>\n",
       "    </tr>\n",
       "    <tr>\n",
       "      <th>1</th>\n",
       "      <td>0.02731</td>\n",
       "      <td>0.0</td>\n",
       "      <td>7.07</td>\n",
       "      <td>0.0</td>\n",
       "      <td>0.469</td>\n",
       "      <td>6.421</td>\n",
       "      <td>78.9</td>\n",
       "      <td>4.9671</td>\n",
       "      <td>2.0</td>\n",
       "      <td>242.0</td>\n",
       "      <td>17.8</td>\n",
       "      <td>396.9</td>\n",
       "      <td>9.14</td>\n",
       "    </tr>\n",
       "  </tbody>\n",
       "</table>\n",
       "</div>"
      ],
      "text/plain": [
       "      CRIM    ZN  INDUS  CHAS    NOX  ...  RAD    TAX  PTRATIO      B  LSTAT\n",
       "0  0.00632  18.0   2.31   0.0  0.538  ...  1.0  296.0     15.3  396.9   4.98\n",
       "1  0.02731   0.0   7.07   0.0  0.469  ...  2.0  242.0     17.8  396.9   9.14\n",
       "\n",
       "[2 rows x 13 columns]"
      ]
     },
     "execution_count": 11,
     "metadata": {},
     "output_type": "execute_result"
    }
   ],
   "source": [
    "X = dataset.iloc[:,:-1]\n",
    "y = dataset.iloc[:,-1]\n",
    "\n",
    "X.head(2)"
   ]
  },
  {
   "cell_type": "code",
   "execution_count": 13,
   "metadata": {},
   "outputs": [
    {
     "data": {
      "text/plain": [
       "0    24.0\n",
       "1    21.6\n",
       "Name: target, dtype: float64"
      ]
     },
     "execution_count": 13,
     "metadata": {},
     "output_type": "execute_result"
    }
   ],
   "source": [
    "y[:2]"
   ]
  },
  {
   "cell_type": "markdown",
   "metadata": {},
   "source": [
    "## Linear Model"
   ]
  },
  {
   "cell_type": "code",
   "execution_count": 15,
   "metadata": {},
   "outputs": [],
   "source": [
    "model = LinearRegression()"
   ]
  },
  {
   "cell_type": "code",
   "execution_count": 16,
   "metadata": {},
   "outputs": [
    {
     "data": {
      "text/plain": [
       "LinearRegression()"
      ]
     },
     "execution_count": 16,
     "metadata": {},
     "output_type": "execute_result"
    }
   ],
   "source": [
    "model"
   ]
  },
  {
   "cell_type": "code",
   "execution_count": 17,
   "metadata": {},
   "outputs": [
    {
     "name": "stdout",
     "output_type": "stream",
     "text": [
      "\u001b[1;31mSignature:\u001b[0m\n",
      "\u001b[0mcross_val_score\u001b[0m\u001b[1;33m(\u001b[0m\u001b[1;33m\n",
      "\u001b[0m    \u001b[0mestimator\u001b[0m\u001b[1;33m,\u001b[0m\u001b[1;33m\n",
      "\u001b[0m    \u001b[0mX\u001b[0m\u001b[1;33m,\u001b[0m\u001b[1;33m\n",
      "\u001b[0m    \u001b[0my\u001b[0m\u001b[1;33m=\u001b[0m\u001b[1;32mNone\u001b[0m\u001b[1;33m,\u001b[0m\u001b[1;33m\n",
      "\u001b[0m    \u001b[1;33m*\u001b[0m\u001b[1;33m,\u001b[0m\u001b[1;33m\n",
      "\u001b[0m    \u001b[0mgroups\u001b[0m\u001b[1;33m=\u001b[0m\u001b[1;32mNone\u001b[0m\u001b[1;33m,\u001b[0m\u001b[1;33m\n",
      "\u001b[0m    \u001b[0mscoring\u001b[0m\u001b[1;33m=\u001b[0m\u001b[1;32mNone\u001b[0m\u001b[1;33m,\u001b[0m\u001b[1;33m\n",
      "\u001b[0m    \u001b[0mcv\u001b[0m\u001b[1;33m=\u001b[0m\u001b[1;32mNone\u001b[0m\u001b[1;33m,\u001b[0m\u001b[1;33m\n",
      "\u001b[0m    \u001b[0mn_jobs\u001b[0m\u001b[1;33m=\u001b[0m\u001b[1;32mNone\u001b[0m\u001b[1;33m,\u001b[0m\u001b[1;33m\n",
      "\u001b[0m    \u001b[0mverbose\u001b[0m\u001b[1;33m=\u001b[0m\u001b[1;36m0\u001b[0m\u001b[1;33m,\u001b[0m\u001b[1;33m\n",
      "\u001b[0m    \u001b[0mfit_params\u001b[0m\u001b[1;33m=\u001b[0m\u001b[1;32mNone\u001b[0m\u001b[1;33m,\u001b[0m\u001b[1;33m\n",
      "\u001b[0m    \u001b[0mpre_dispatch\u001b[0m\u001b[1;33m=\u001b[0m\u001b[1;34m'2*n_jobs'\u001b[0m\u001b[1;33m,\u001b[0m\u001b[1;33m\n",
      "\u001b[0m    \u001b[0merror_score\u001b[0m\u001b[1;33m=\u001b[0m\u001b[0mnan\u001b[0m\u001b[1;33m,\u001b[0m\u001b[1;33m\n",
      "\u001b[0m\u001b[1;33m)\u001b[0m\u001b[1;33m\u001b[0m\u001b[1;33m\u001b[0m\u001b[0m\n",
      "\u001b[1;31mDocstring:\u001b[0m\n",
      "Evaluate a score by cross-validation\n",
      "\n",
      "Read more in the :ref:`User Guide <cross_validation>`.\n",
      "\n",
      "Parameters\n",
      "----------\n",
      "estimator : estimator object implementing 'fit'\n",
      "    The object to use to fit the data.\n",
      "\n",
      "X : array-like of shape (n_samples, n_features)\n",
      "    The data to fit. Can be for example a list, or an array.\n",
      "\n",
      "y : array-like of shape (n_samples,) or (n_samples, n_outputs),             default=None\n",
      "    The target variable to try to predict in the case of\n",
      "    supervised learning.\n",
      "\n",
      "groups : array-like of shape (n_samples,), default=None\n",
      "    Group labels for the samples used while splitting the dataset into\n",
      "    train/test set. Only used in conjunction with a \"Group\" :term:`cv`\n",
      "    instance (e.g., :class:`GroupKFold`).\n",
      "\n",
      "scoring : str or callable, default=None\n",
      "    A str (see model evaluation documentation) or\n",
      "    a scorer callable object / function with signature\n",
      "    ``scorer(estimator, X, y)`` which should return only\n",
      "    a single value.\n",
      "\n",
      "    Similar to :func:`cross_validate`\n",
      "    but only a single metric is permitted.\n",
      "\n",
      "    If None, the estimator's default scorer (if available) is used.\n",
      "\n",
      "cv : int, cross-validation generator or an iterable, default=None\n",
      "    Determines the cross-validation splitting strategy.\n",
      "    Possible inputs for cv are:\n",
      "\n",
      "    - None, to use the default 5-fold cross validation,\n",
      "    - int, to specify the number of folds in a `(Stratified)KFold`,\n",
      "    - :term:`CV splitter`,\n",
      "    - An iterable yielding (train, test) splits as arrays of indices.\n",
      "\n",
      "    For int/None inputs, if the estimator is a classifier and ``y`` is\n",
      "    either binary or multiclass, :class:`StratifiedKFold` is used. In all\n",
      "    other cases, :class:`KFold` is used.\n",
      "\n",
      "    Refer :ref:`User Guide <cross_validation>` for the various\n",
      "    cross-validation strategies that can be used here.\n",
      "\n",
      "    .. versionchanged:: 0.22\n",
      "        ``cv`` default value if None changed from 3-fold to 5-fold.\n",
      "\n",
      "n_jobs : int, default=None\n",
      "    The number of CPUs to use to do the computation.\n",
      "    ``None`` means 1 unless in a :obj:`joblib.parallel_backend` context.\n",
      "    ``-1`` means using all processors. See :term:`Glossary <n_jobs>`\n",
      "    for more details.\n",
      "\n",
      "verbose : int, default=0\n",
      "    The verbosity level.\n",
      "\n",
      "fit_params : dict, default=None\n",
      "    Parameters to pass to the fit method of the estimator.\n",
      "\n",
      "pre_dispatch : int or str, default='2*n_jobs'\n",
      "    Controls the number of jobs that get dispatched during parallel\n",
      "    execution. Reducing this number can be useful to avoid an\n",
      "    explosion of memory consumption when more jobs get dispatched\n",
      "    than CPUs can process. This parameter can be:\n",
      "\n",
      "        - None, in which case all the jobs are immediately\n",
      "          created and spawned. Use this for lightweight and\n",
      "          fast-running jobs, to avoid delays due to on-demand\n",
      "          spawning of the jobs\n",
      "\n",
      "        - An int, giving the exact number of total jobs that are\n",
      "          spawned\n",
      "\n",
      "        - A str, giving an expression as a function of n_jobs,\n",
      "          as in '2*n_jobs'\n",
      "\n",
      "error_score : 'raise' or numeric, default=np.nan\n",
      "    Value to assign to the score if an error occurs in estimator fitting.\n",
      "    If set to 'raise', the error is raised.\n",
      "    If a numeric value is given, FitFailedWarning is raised. This parameter\n",
      "    does not affect the refit step, which will always raise the error.\n",
      "\n",
      "    .. versionadded:: 0.20\n",
      "\n",
      "Returns\n",
      "-------\n",
      "scores : array of float, shape=(len(list(cv)),)\n",
      "    Array of scores of the estimator for each run of the cross validation.\n",
      "\n",
      "Examples\n",
      "--------\n",
      ">>> from sklearn import datasets, linear_model\n",
      ">>> from sklearn.model_selection import cross_val_score\n",
      ">>> diabetes = datasets.load_diabetes()\n",
      ">>> X = diabetes.data[:150]\n",
      ">>> y = diabetes.target[:150]\n",
      ">>> lasso = linear_model.Lasso()\n",
      ">>> print(cross_val_score(lasso, X, y, cv=3))\n",
      "[0.33150734 0.08022311 0.03531764]\n",
      "\n",
      "See Also\n",
      "---------\n",
      ":func:`sklearn.model_selection.cross_validate`:\n",
      "    To run cross-validation on multiple metrics and also to return\n",
      "    train scores, fit times and score times.\n",
      "\n",
      ":func:`sklearn.model_selection.cross_val_predict`:\n",
      "    Get predictions from each split of cross-validation for diagnostic\n",
      "    purposes.\n",
      "\n",
      ":func:`sklearn.metrics.make_scorer`:\n",
      "    Make a scorer from a performance metric or loss function.\n",
      "\u001b[1;31mFile:\u001b[0m      c:\\users\\595244\\appdata\\roaming\\python\\python37\\site-packages\\sklearn\\model_selection\\_validation.py\n",
      "\u001b[1;31mType:\u001b[0m      function\n"
     ]
    }
   ],
   "source": [
    "\n",
    "?cross_val_score"
   ]
  },
  {
   "cell_type": "code",
   "execution_count": 24,
   "metadata": {},
   "outputs": [
    {
     "data": {
      "application/javascript": "\n        if (window._pyforest_update_imports_cell) { window._pyforest_update_imports_cell('import numpy as np\\nimport sklearn\\nimport pandas as pd\\nfrom sklearn import metrics'); }\n    ",
      "text/plain": [
       "<IPython.core.display.Javascript object>"
      ]
     },
     "metadata": {},
     "output_type": "display_data"
    },
    {
     "name": "stdout",
     "output_type": "stream",
     "text": [
      "Wall time: 60.5 ms\n"
     ]
    }
   ],
   "source": [
    "%%time\n",
    "mse = cross_val_score(model, X, y, scoring=make_scorer(metrics.mean_squared_error, greater_is_better=False), cv=3)"
   ]
  },
  {
   "cell_type": "code",
   "execution_count": 25,
   "metadata": {},
   "outputs": [
    {
     "data": {
      "text/plain": [
       "array([ -20.63230588,  -34.48294871, -451.90968255])"
      ]
     },
     "execution_count": 25,
     "metadata": {},
     "output_type": "execute_result"
    }
   ],
   "source": [
    "mse"
   ]
  },
  {
   "cell_type": "code",
   "execution_count": 26,
   "metadata": {},
   "outputs": [
    {
     "data": {
      "application/javascript": "\n        if (window._pyforest_update_imports_cell) { window._pyforest_update_imports_cell('import numpy as np\\nimport sklearn\\nimport pandas as pd\\nfrom sklearn import metrics'); }\n    ",
      "text/plain": [
       "<IPython.core.display.Javascript object>"
      ]
     },
     "metadata": {},
     "output_type": "display_data"
    },
    {
     "data": {
      "text/plain": [
       "-169.00831238145855"
      ]
     },
     "execution_count": 26,
     "metadata": {},
     "output_type": "execute_result"
    }
   ],
   "source": [
    "np.mean(mse)"
   ]
  },
  {
   "cell_type": "markdown",
   "metadata": {},
   "source": [
    "## Ridge Regression"
   ]
  },
  {
   "cell_type": "code",
   "execution_count": 31,
   "metadata": {},
   "outputs": [],
   "source": [
    "ridge = Ridge()"
   ]
  },
  {
   "cell_type": "code",
   "execution_count": 32,
   "metadata": {},
   "outputs": [
    {
     "data": {
      "text/plain": [
       "{'alpha': 1.0,\n",
       " 'copy_X': True,\n",
       " 'fit_intercept': True,\n",
       " 'max_iter': None,\n",
       " 'normalize': False,\n",
       " 'random_state': None,\n",
       " 'solver': 'auto',\n",
       " 'tol': 0.001}"
      ]
     },
     "execution_count": 32,
     "metadata": {},
     "output_type": "execute_result"
    }
   ],
   "source": [
    "ridge.get_params()"
   ]
  },
  {
   "cell_type": "code",
   "execution_count": 34,
   "metadata": {},
   "outputs": [],
   "source": [
    "parameters = {'alpha' : [1e-10, 1e-5, 1e-2, 1, 10, 20, 50, 100]}"
   ]
  },
  {
   "cell_type": "code",
   "execution_count": 35,
   "metadata": {},
   "outputs": [
    {
     "name": "stdout",
     "output_type": "stream",
     "text": [
      "\u001b[1;31mInit signature:\u001b[0m\n",
      " \u001b[0mGridSearchCV\u001b[0m\u001b[1;33m(\u001b[0m\u001b[1;33m\n",
      "\u001b[0m    \u001b[0mestimator\u001b[0m\u001b[1;33m,\u001b[0m\u001b[1;33m\n",
      "\u001b[0m    \u001b[0mparam_grid\u001b[0m\u001b[1;33m,\u001b[0m\u001b[1;33m\n",
      "\u001b[0m    \u001b[1;33m*\u001b[0m\u001b[1;33m,\u001b[0m\u001b[1;33m\n",
      "\u001b[0m    \u001b[0mscoring\u001b[0m\u001b[1;33m=\u001b[0m\u001b[1;32mNone\u001b[0m\u001b[1;33m,\u001b[0m\u001b[1;33m\n",
      "\u001b[0m    \u001b[0mn_jobs\u001b[0m\u001b[1;33m=\u001b[0m\u001b[1;32mNone\u001b[0m\u001b[1;33m,\u001b[0m\u001b[1;33m\n",
      "\u001b[0m    \u001b[0miid\u001b[0m\u001b[1;33m=\u001b[0m\u001b[1;34m'deprecated'\u001b[0m\u001b[1;33m,\u001b[0m\u001b[1;33m\n",
      "\u001b[0m    \u001b[0mrefit\u001b[0m\u001b[1;33m=\u001b[0m\u001b[1;32mTrue\u001b[0m\u001b[1;33m,\u001b[0m\u001b[1;33m\n",
      "\u001b[0m    \u001b[0mcv\u001b[0m\u001b[1;33m=\u001b[0m\u001b[1;32mNone\u001b[0m\u001b[1;33m,\u001b[0m\u001b[1;33m\n",
      "\u001b[0m    \u001b[0mverbose\u001b[0m\u001b[1;33m=\u001b[0m\u001b[1;36m0\u001b[0m\u001b[1;33m,\u001b[0m\u001b[1;33m\n",
      "\u001b[0m    \u001b[0mpre_dispatch\u001b[0m\u001b[1;33m=\u001b[0m\u001b[1;34m'2*n_jobs'\u001b[0m\u001b[1;33m,\u001b[0m\u001b[1;33m\n",
      "\u001b[0m    \u001b[0merror_score\u001b[0m\u001b[1;33m=\u001b[0m\u001b[0mnan\u001b[0m\u001b[1;33m,\u001b[0m\u001b[1;33m\n",
      "\u001b[0m    \u001b[0mreturn_train_score\u001b[0m\u001b[1;33m=\u001b[0m\u001b[1;32mFalse\u001b[0m\u001b[1;33m,\u001b[0m\u001b[1;33m\n",
      "\u001b[0m\u001b[1;33m)\u001b[0m\u001b[1;33m\u001b[0m\u001b[1;33m\u001b[0m\u001b[0m\n",
      "\u001b[1;31mDocstring:\u001b[0m     \n",
      "Exhaustive search over specified parameter values for an estimator.\n",
      "\n",
      "Important members are fit, predict.\n",
      "\n",
      "GridSearchCV implements a \"fit\" and a \"score\" method.\n",
      "It also implements \"predict\", \"predict_proba\", \"decision_function\",\n",
      "\"transform\" and \"inverse_transform\" if they are implemented in the\n",
      "estimator used.\n",
      "\n",
      "The parameters of the estimator used to apply these methods are optimized\n",
      "by cross-validated grid-search over a parameter grid.\n",
      "\n",
      "Read more in the :ref:`User Guide <grid_search>`.\n",
      "\n",
      "Parameters\n",
      "----------\n",
      "estimator : estimator object.\n",
      "    This is assumed to implement the scikit-learn estimator interface.\n",
      "    Either estimator needs to provide a ``score`` function,\n",
      "    or ``scoring`` must be passed.\n",
      "\n",
      "param_grid : dict or list of dictionaries\n",
      "    Dictionary with parameters names (`str`) as keys and lists of\n",
      "    parameter settings to try as values, or a list of such\n",
      "    dictionaries, in which case the grids spanned by each dictionary\n",
      "    in the list are explored. This enables searching over any sequence\n",
      "    of parameter settings.\n",
      "\n",
      "scoring : str, callable, list/tuple or dict, default=None\n",
      "    A single str (see :ref:`scoring_parameter`) or a callable\n",
      "    (see :ref:`scoring`) to evaluate the predictions on the test set.\n",
      "\n",
      "    For evaluating multiple metrics, either give a list of (unique) strings\n",
      "    or a dict with names as keys and callables as values.\n",
      "\n",
      "    NOTE that when using custom scorers, each scorer should return a single\n",
      "    value. Metric functions returning a list/array of values can be wrapped\n",
      "    into multiple scorers that return one value each.\n",
      "\n",
      "    See :ref:`multimetric_grid_search` for an example.\n",
      "\n",
      "    If None, the estimator's score method is used.\n",
      "\n",
      "n_jobs : int, default=None\n",
      "    Number of jobs to run in parallel.\n",
      "    ``None`` means 1 unless in a :obj:`joblib.parallel_backend` context.\n",
      "    ``-1`` means using all processors. See :term:`Glossary <n_jobs>`\n",
      "    for more details.\n",
      "\n",
      "    .. versionchanged:: v0.20\n",
      "       `n_jobs` default changed from 1 to None\n",
      "\n",
      "pre_dispatch : int, or str, default=n_jobs\n",
      "    Controls the number of jobs that get dispatched during parallel\n",
      "    execution. Reducing this number can be useful to avoid an\n",
      "    explosion of memory consumption when more jobs get dispatched\n",
      "    than CPUs can process. This parameter can be:\n",
      "\n",
      "        - None, in which case all the jobs are immediately\n",
      "          created and spawned. Use this for lightweight and\n",
      "          fast-running jobs, to avoid delays due to on-demand\n",
      "          spawning of the jobs\n",
      "\n",
      "        - An int, giving the exact number of total jobs that are\n",
      "          spawned\n",
      "\n",
      "        - A str, giving an expression as a function of n_jobs,\n",
      "          as in '2*n_jobs'\n",
      "\n",
      "iid : bool, default=False\n",
      "    If True, return the average score across folds, weighted by the number\n",
      "    of samples in each test set. In this case, the data is assumed to be\n",
      "    identically distributed across the folds, and the loss minimized is\n",
      "    the total loss per sample, and not the mean loss across the folds.\n",
      "\n",
      "    .. deprecated:: 0.22\n",
      "        Parameter ``iid`` is deprecated in 0.22 and will be removed in 0.24\n",
      "\n",
      "cv : int, cross-validation generator or an iterable, default=None\n",
      "    Determines the cross-validation splitting strategy.\n",
      "    Possible inputs for cv are:\n",
      "\n",
      "    - None, to use the default 5-fold cross validation,\n",
      "    - integer, to specify the number of folds in a `(Stratified)KFold`,\n",
      "    - :term:`CV splitter`,\n",
      "    - An iterable yielding (train, test) splits as arrays of indices.\n",
      "\n",
      "    For integer/None inputs, if the estimator is a classifier and ``y`` is\n",
      "    either binary or multiclass, :class:`StratifiedKFold` is used. In all\n",
      "    other cases, :class:`KFold` is used.\n",
      "\n",
      "    Refer :ref:`User Guide <cross_validation>` for the various\n",
      "    cross-validation strategies that can be used here.\n",
      "\n",
      "    .. versionchanged:: 0.22\n",
      "        ``cv`` default value if None changed from 3-fold to 5-fold.\n",
      "\n",
      "refit : bool, str, or callable, default=True\n",
      "    Refit an estimator using the best found parameters on the whole\n",
      "    dataset.\n",
      "\n",
      "    For multiple metric evaluation, this needs to be a `str` denoting the\n",
      "    scorer that would be used to find the best parameters for refitting\n",
      "    the estimator at the end.\n",
      "\n",
      "    Where there are considerations other than maximum score in\n",
      "    choosing a best estimator, ``refit`` can be set to a function which\n",
      "    returns the selected ``best_index_`` given ``cv_results_``. In that\n",
      "    case, the ``best_estimator_`` and ``best_params_`` will be set\n",
      "    according to the returned ``best_index_`` while the ``best_score_``\n",
      "    attribute will not be available.\n",
      "\n",
      "    The refitted estimator is made available at the ``best_estimator_``\n",
      "    attribute and permits using ``predict`` directly on this\n",
      "    ``GridSearchCV`` instance.\n",
      "\n",
      "    Also for multiple metric evaluation, the attributes ``best_index_``,\n",
      "    ``best_score_`` and ``best_params_`` will only be available if\n",
      "    ``refit`` is set and all of them will be determined w.r.t this specific\n",
      "    scorer.\n",
      "\n",
      "    See ``scoring`` parameter to know more about multiple metric\n",
      "    evaluation.\n",
      "\n",
      "    .. versionchanged:: 0.20\n",
      "        Support for callable added.\n",
      "\n",
      "verbose : integer\n",
      "    Controls the verbosity: the higher, the more messages.\n",
      "\n",
      "error_score : 'raise' or numeric, default=np.nan\n",
      "    Value to assign to the score if an error occurs in estimator fitting.\n",
      "    If set to 'raise', the error is raised. If a numeric value is given,\n",
      "    FitFailedWarning is raised. This parameter does not affect the refit\n",
      "    step, which will always raise the error.\n",
      "\n",
      "return_train_score : bool, default=False\n",
      "    If ``False``, the ``cv_results_`` attribute will not include training\n",
      "    scores.\n",
      "    Computing training scores is used to get insights on how different\n",
      "    parameter settings impact the overfitting/underfitting trade-off.\n",
      "    However computing the scores on the training set can be computationally\n",
      "    expensive and is not strictly required to select the parameters that\n",
      "    yield the best generalization performance.\n",
      "\n",
      "    .. versionadded:: 0.19\n",
      "\n",
      "    .. versionchanged:: 0.21\n",
      "        Default value was changed from ``True`` to ``False``\n",
      "\n",
      "\n",
      "Examples\n",
      "--------\n",
      ">>> from sklearn import svm, datasets\n",
      ">>> from sklearn.model_selection import GridSearchCV\n",
      ">>> iris = datasets.load_iris()\n",
      ">>> parameters = {'kernel':('linear', 'rbf'), 'C':[1, 10]}\n",
      ">>> svc = svm.SVC()\n",
      ">>> clf = GridSearchCV(svc, parameters)\n",
      ">>> clf.fit(iris.data, iris.target)\n",
      "GridSearchCV(estimator=SVC(),\n",
      "             param_grid={'C': [1, 10], 'kernel': ('linear', 'rbf')})\n",
      ">>> sorted(clf.cv_results_.keys())\n",
      "['mean_fit_time', 'mean_score_time', 'mean_test_score',...\n",
      " 'param_C', 'param_kernel', 'params',...\n",
      " 'rank_test_score', 'split0_test_score',...\n",
      " 'split2_test_score', ...\n",
      " 'std_fit_time', 'std_score_time', 'std_test_score']\n",
      "\n",
      "Attributes\n",
      "----------\n",
      "cv_results_ : dict of numpy (masked) ndarrays\n",
      "    A dict with keys as column headers and values as columns, that can be\n",
      "    imported into a pandas ``DataFrame``.\n",
      "\n",
      "    For instance the below given table\n",
      "\n",
      "    +------------+-----------+------------+-----------------+---+---------+\n",
      "    |param_kernel|param_gamma|param_degree|split0_test_score|...|rank_t...|\n",
      "    +============+===========+============+=================+===+=========+\n",
      "    |  'poly'    |     --    |      2     |       0.80      |...|    2    |\n",
      "    +------------+-----------+------------+-----------------+---+---------+\n",
      "    |  'poly'    |     --    |      3     |       0.70      |...|    4    |\n",
      "    +------------+-----------+------------+-----------------+---+---------+\n",
      "    |  'rbf'     |     0.1   |     --     |       0.80      |...|    3    |\n",
      "    +------------+-----------+------------+-----------------+---+---------+\n",
      "    |  'rbf'     |     0.2   |     --     |       0.93      |...|    1    |\n",
      "    +------------+-----------+------------+-----------------+---+---------+\n",
      "\n",
      "    will be represented by a ``cv_results_`` dict of::\n",
      "\n",
      "        {\n",
      "        'param_kernel': masked_array(data = ['poly', 'poly', 'rbf', 'rbf'],\n",
      "                                     mask = [False False False False]...)\n",
      "        'param_gamma': masked_array(data = [-- -- 0.1 0.2],\n",
      "                                    mask = [ True  True False False]...),\n",
      "        'param_degree': masked_array(data = [2.0 3.0 -- --],\n",
      "                                     mask = [False False  True  True]...),\n",
      "        'split0_test_score'  : [0.80, 0.70, 0.80, 0.93],\n",
      "        'split1_test_score'  : [0.82, 0.50, 0.70, 0.78],\n",
      "        'mean_test_score'    : [0.81, 0.60, 0.75, 0.85],\n",
      "        'std_test_score'     : [0.01, 0.10, 0.05, 0.08],\n",
      "        'rank_test_score'    : [2, 4, 3, 1],\n",
      "        'split0_train_score' : [0.80, 0.92, 0.70, 0.93],\n",
      "        'split1_train_score' : [0.82, 0.55, 0.70, 0.87],\n",
      "        'mean_train_score'   : [0.81, 0.74, 0.70, 0.90],\n",
      "        'std_train_score'    : [0.01, 0.19, 0.00, 0.03],\n",
      "        'mean_fit_time'      : [0.73, 0.63, 0.43, 0.49],\n",
      "        'std_fit_time'       : [0.01, 0.02, 0.01, 0.01],\n",
      "        'mean_score_time'    : [0.01, 0.06, 0.04, 0.04],\n",
      "        'std_score_time'     : [0.00, 0.00, 0.00, 0.01],\n",
      "        'params'             : [{'kernel': 'poly', 'degree': 2}, ...],\n",
      "        }\n",
      "\n",
      "    NOTE\n",
      "\n",
      "    The key ``'params'`` is used to store a list of parameter\n",
      "    settings dicts for all the parameter candidates.\n",
      "\n",
      "    The ``mean_fit_time``, ``std_fit_time``, ``mean_score_time`` and\n",
      "    ``std_score_time`` are all in seconds.\n",
      "\n",
      "    For multi-metric evaluation, the scores for all the scorers are\n",
      "    available in the ``cv_results_`` dict at the keys ending with that\n",
      "    scorer's name (``'_<scorer_name>'``) instead of ``'_score'`` shown\n",
      "    above. ('split0_test_precision', 'mean_train_precision' etc.)\n",
      "\n",
      "best_estimator_ : estimator\n",
      "    Estimator that was chosen by the search, i.e. estimator\n",
      "    which gave highest score (or smallest loss if specified)\n",
      "    on the left out data. Not available if ``refit=False``.\n",
      "\n",
      "    See ``refit`` parameter for more information on allowed values.\n",
      "\n",
      "best_score_ : float\n",
      "    Mean cross-validated score of the best_estimator\n",
      "\n",
      "    For multi-metric evaluation, this is present only if ``refit`` is\n",
      "    specified.\n",
      "\n",
      "    This attribute is not available if ``refit`` is a function.\n",
      "\n",
      "best_params_ : dict\n",
      "    Parameter setting that gave the best results on the hold out data.\n",
      "\n",
      "    For multi-metric evaluation, this is present only if ``refit`` is\n",
      "    specified.\n",
      "\n",
      "best_index_ : int\n",
      "    The index (of the ``cv_results_`` arrays) which corresponds to the best\n",
      "    candidate parameter setting.\n",
      "\n",
      "    The dict at ``search.cv_results_['params'][search.best_index_]`` gives\n",
      "    the parameter setting for the best model, that gives the highest\n",
      "    mean score (``search.best_score_``).\n",
      "\n",
      "    For multi-metric evaluation, this is present only if ``refit`` is\n",
      "    specified.\n",
      "\n",
      "scorer_ : function or a dict\n",
      "    Scorer function used on the held out data to choose the best\n",
      "    parameters for the model.\n",
      "\n",
      "    For multi-metric evaluation, this attribute holds the validated\n",
      "    ``scoring`` dict which maps the scorer key to the scorer callable.\n",
      "\n",
      "n_splits_ : int\n",
      "    The number of cross-validation splits (folds/iterations).\n",
      "\n",
      "refit_time_ : float\n",
      "    Seconds used for refitting the best model on the whole dataset.\n",
      "\n",
      "    This is present only if ``refit`` is not False.\n",
      "\n",
      "    .. versionadded:: 0.20\n",
      "\n",
      "Notes\n",
      "-----\n",
      "The parameters selected are those that maximize the score of the left out\n",
      "data, unless an explicit score is passed in which case it is used instead.\n",
      "\n",
      "If `n_jobs` was set to a value higher than one, the data is copied for each\n",
      "point in the grid (and not `n_jobs` times). This is done for efficiency\n",
      "reasons if individual jobs take very little time, but may raise errors if\n",
      "the dataset is large and not enough memory is available.  A workaround in\n",
      "this case is to set `pre_dispatch`. Then, the memory is copied only\n",
      "`pre_dispatch` many times. A reasonable value for `pre_dispatch` is `2 *\n",
      "n_jobs`.\n",
      "\n",
      "See Also\n",
      "---------\n",
      ":class:`ParameterGrid`:\n",
      "    generates all the combinations of a hyperparameter grid.\n",
      "\n",
      ":func:`sklearn.model_selection.train_test_split`:\n",
      "    utility function to split the data into a development set usable\n",
      "    for fitting a GridSearchCV instance and an evaluation set for\n",
      "    its final evaluation.\n",
      "\n",
      ":func:`sklearn.metrics.make_scorer`:\n",
      "    Make a scorer from a performance metric or loss function.\n",
      "\u001b[1;31mFile:\u001b[0m           c:\\users\\595244\\appdata\\roaming\\python\\python37\\site-packages\\sklearn\\model_selection\\_search.py\n",
      "\u001b[1;31mType:\u001b[0m           ABCMeta\n",
      "\u001b[1;31mSubclasses:\u001b[0m     \n"
     ]
    }
   ],
   "source": [
    "? GridSearchCV"
   ]
  },
  {
   "cell_type": "code",
   "execution_count": 36,
   "metadata": {},
   "outputs": [
    {
     "data": {
      "application/javascript": "\n        if (window._pyforest_update_imports_cell) { window._pyforest_update_imports_cell('import numpy as np\\nimport sklearn\\nimport pandas as pd\\nfrom sklearn import metrics'); }\n    ",
      "text/plain": [
       "<IPython.core.display.Javascript object>"
      ]
     },
     "metadata": {},
     "output_type": "display_data"
    },
    {
     "name": "stdout",
     "output_type": "stream",
     "text": [
      "Wall time: 28.5 ms\n"
     ]
    }
   ],
   "source": [
    "%%time\n",
    "ridge_regressor = GridSearchCV(ridge, parameters, scoring=make_scorer(metrics.mean_squared_error), cv=5)"
   ]
  },
  {
   "cell_type": "code",
   "execution_count": 37,
   "metadata": {},
   "outputs": [
    {
     "data": {
      "text/plain": [
       "GridSearchCV(cv=5, estimator=Ridge(),\n",
       "             param_grid={'alpha': [1e-10, 1e-05, 0.01, 1, 10, 20, 50, 100]},\n",
       "             scoring=make_scorer(mean_squared_error))"
      ]
     },
     "execution_count": 37,
     "metadata": {},
     "output_type": "execute_result"
    }
   ],
   "source": [
    "ridge_regressor.fit(X, y)"
   ]
  },
  {
   "cell_type": "code",
   "execution_count": 38,
   "metadata": {},
   "outputs": [
    {
     "data": {
      "text/plain": [
       "{'alpha': 1e-10}"
      ]
     },
     "execution_count": 38,
     "metadata": {},
     "output_type": "execute_result"
    }
   ],
   "source": [
    "ridge_regressor.best_params_"
   ]
  },
  {
   "cell_type": "code",
   "execution_count": 39,
   "metadata": {},
   "outputs": [
    {
     "data": {
      "text/plain": [
       "37.13180746720424"
      ]
     },
     "execution_count": 39,
     "metadata": {},
     "output_type": "execute_result"
    }
   ],
   "source": [
    "ridge_regressor.best_score_"
   ]
  },
  {
   "cell_type": "markdown",
   "metadata": {},
   "source": [
    "## Lasso Regression"
   ]
  },
  {
   "cell_type": "code",
   "execution_count": 41,
   "metadata": {},
   "outputs": [
    {
     "data": {
      "application/javascript": "\n        if (window._pyforest_update_imports_cell) { window._pyforest_update_imports_cell('import numpy as np\\nimport sklearn\\nimport pandas as pd\\nfrom sklearn import metrics'); }\n    ",
      "text/plain": [
       "<IPython.core.display.Javascript object>"
      ]
     },
     "metadata": {},
     "output_type": "display_data"
    }
   ],
   "source": [
    "lasso = Lasso()\n",
    "lasso_regressor = GridSearchCV(lasso, parameters, scoring=make_scorer(metrics.mean_squared_error), cv=5)\n"
   ]
  },
  {
   "cell_type": "code",
   "execution_count": 42,
   "metadata": {},
   "outputs": [
    {
     "data": {
      "text/plain": [
       "GridSearchCV(cv=5, estimator=Lasso(),\n",
       "             param_grid={'alpha': [1e-10, 1e-05, 0.01, 1, 10, 20, 50, 100]},\n",
       "             scoring=make_scorer(mean_squared_error))"
      ]
     },
     "execution_count": 42,
     "metadata": {},
     "output_type": "execute_result"
    }
   ],
   "source": [
    "lasso_regressor.fit(X, y)"
   ]
  },
  {
   "cell_type": "code",
   "execution_count": 44,
   "metadata": {},
   "outputs": [
    {
     "data": {
      "text/plain": [
       "({'alpha': 100}, 73.85835564329214)"
      ]
     },
     "execution_count": 44,
     "metadata": {},
     "output_type": "execute_result"
    }
   ],
   "source": [
    "lasso_regressor.best_params_, lasso_regressor.best_score_"
   ]
  },
  {
   "cell_type": "markdown",
   "metadata": {},
   "source": [
    "## Predict"
   ]
  },
  {
   "cell_type": "code",
   "execution_count": 47,
   "metadata": {},
   "outputs": [],
   "source": [
    "X_train, X_test, y_train, y_test = train_test_split(X, y, test_size=0.2, random_state=42)"
   ]
  },
  {
   "cell_type": "code",
   "execution_count": 48,
   "metadata": {},
   "outputs": [
    {
     "data": {
      "text/plain": [
       "(404, 102, 404, 102)"
      ]
     },
     "execution_count": 48,
     "metadata": {},
     "output_type": "execute_result"
    }
   ],
   "source": [
    "len(X_train), len(X_test), len(y_train), len(y_test)"
   ]
  },
  {
   "cell_type": "code",
   "execution_count": 49,
   "metadata": {},
   "outputs": [],
   "source": [
    "lasso_yhat = lasso_regressor.predict(X_test)"
   ]
  },
  {
   "cell_type": "code",
   "execution_count": 50,
   "metadata": {},
   "outputs": [],
   "source": [
    "ridge_yhat = ridge_regressor.predict(X_test)"
   ]
  },
  {
   "cell_type": "code",
   "execution_count": 57,
   "metadata": {},
   "outputs": [
    {
     "data": {
      "text/plain": [
       "((102,), numpy.ndarray, numpy.ndarray)"
      ]
     },
     "execution_count": 57,
     "metadata": {},
     "output_type": "execute_result"
    }
   ],
   "source": [
    "lasso_yhat.shape, type(lasso_yhat), type(y_test.values)"
   ]
  },
  {
   "cell_type": "code",
   "execution_count": 59,
   "metadata": {},
   "outputs": [
    {
     "data": {
      "text/plain": [
       "array([25.06004796, 25.94712142, 16.33262887, 24.8507998 , 17.2539436 ,\n",
       "       22.82336571, 24.87083376, 22.06986692, 17.29967985, 23.07396897,\n",
       "       25.48573927, 24.7062093 , 15.92821765, 22.88026803, 25.2292769 ,\n",
       "       17.20744805, 27.25301599, 17.19958714, 25.91422413, 17.30669214,\n",
       "       26.59725081, 25.94712142, 24.67155789, 25.52672485, 16.9631343 ,\n",
       "       17.10873994, 22.92341375, 15.56380158, 25.44846489, 23.07396897,\n",
       "       25.06630096, 25.2550482 , 17.30669214, 17.23473795, 17.01364963,\n",
       "       22.21956116, 26.18060604, 26.57627889, 25.39518037, 24.78943104,\n",
       "       23.07396897, 26.61822272, 26.54791706, 24.03867709, 25.59048922,\n",
       "       17.29566006, 24.66530489, 24.81873083, 17.30669214, 25.06630096,\n",
       "       24.75172222, 26.72319599, 24.83560989, 23.21487669, 25.70792382,\n",
       "       17.2697101 , 17.30128776, 26.13586866, 26.09392483, 24.31855166,\n",
       "       25.31206826, 26.53000262, 24.7616458 , 24.35363736, 22.53786748,\n",
       "       25.46476736, 17.2847173 , 25.3808797 , 25.98339288, 15.58077401,\n",
       "       26.38753165, 17.28958571, 16.60823172, 24.17619842, 22.88276924,\n",
       "       17.30669214, 23.2019687 , 26.5578772 , 17.30669214, 16.12690508,\n",
       "       24.03867709, 16.93928356, 24.6601523 , 17.30669214, 24.89584578,\n",
       "       24.67169188, 16.67393291, 25.2550482 , 25.6090249 , 22.09666551,\n",
       "       25.04990916, 16.10281043, 22.10926084, 23.74765263, 17.11820877,\n",
       "       22.05950481, 17.1693494 , 15.66255436, 15.656748  , 15.69051421,\n",
       "       26.08986038, 22.86610945])"
      ]
     },
     "execution_count": 59,
     "metadata": {},
     "output_type": "execute_result"
    }
   ],
   "source": [
    "lasso_yhat"
   ]
  },
  {
   "cell_type": "code",
   "execution_count": 64,
   "metadata": {},
   "outputs": [
    {
     "data": {
      "application/javascript": "\n        if (window._pyforest_update_imports_cell) { window._pyforest_update_imports_cell('import numpy as np\\nimport sklearn\\nfrom sklearn import metrics\\nimport pandas as pd\\nimport seaborn as sns'); }\n    ",
      "text/plain": [
       "<IPython.core.display.Javascript object>"
      ]
     },
     "metadata": {},
     "output_type": "display_data"
    },
    {
     "data": {
      "text/plain": [
       "<AxesSubplot:xlabel='target', ylabel='Count'>"
      ]
     },
     "execution_count": 64,
     "metadata": {},
     "output_type": "execute_result"
    },
    {
     "data": {
      "image/png": "[encoded data removed]",
      "text/plain": [
       "<Figure size 432x288 with 1 Axes>"
      ]
     },
     "metadata": {
      "needs_background": "light"
     },
     "output_type": "display_data"
    }
   ],
   "source": [
    "sns.histplot(y_test - lasso_yhat)"
   ]
  },
  {
   "cell_type": "code",
   "execution_count": 65,
   "metadata": {},
   "outputs": [
    {
     "data": {
      "application/javascript": "\n        if (window._pyforest_update_imports_cell) { window._pyforest_update_imports_cell('import numpy as np\\nimport sklearn\\nfrom sklearn import metrics\\nimport pandas as pd\\nimport seaborn as sns'); }\n    ",
      "text/plain": [
       "<IPython.core.display.Javascript object>"
      ]
     },
     "metadata": {},
     "output_type": "display_data"
    },
    {
     "data": {
      "text/plain": [
       "<AxesSubplot:xlabel='target', ylabel='Count'>"
      ]
     },
     "execution_count": 65,
     "metadata": {},
     "output_type": "execute_result"
    },
    {
     "data": {
      "image/png": "[encoded data removed]",
      "text/plain": [
       "<Figure size 432x288 with 1 Axes>"
      ]
     },
     "metadata": {
      "needs_background": "light"
     },
     "output_type": "display_data"
    }
   ],
   "source": [
    "sns.histplot(y_test - ridge_yhat)"
   ]
  },
  {
   "cell_type": "markdown",
   "metadata": {},
   "source": [
    "## Since, most of the erros in 0 in the above plot, second one seems good."
   ]
  },
  {
   "cell_type": "code",
   "execution_count": null,
   "metadata": {},
   "outputs": [],
   "source": []
  }
 ],
 "metadata": {
  "interpreter": {
   "hash": "61ea9aa73e02b58d53cb2ec6c42f910c12dcb2b185565d429cb0cdc896334cf8"
  },
  "kernelspec": {
   "display_name": "Python 3.7.11 64-bit ('krish_env_new': conda)",
   "name": "python3"
  },
  "language_info": {
   "codemirror_mode": {
    "name": "ipython",
    "version": 3
   },
   "file_extension": ".py",
   "mimetype": "text/x-python",
   "name": "python",
   "nbconvert_exporter": "python",
   "pygments_lexer": "ipython3",
   "version": "3.7.11"
  },
  "orig_nbformat": 4
 },
 "nbformat": 4,
 "nbformat_minor": 2
}
