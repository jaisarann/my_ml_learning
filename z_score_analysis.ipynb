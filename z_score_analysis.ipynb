{
 "cells": [
  {
   "cell_type": "code",
   "execution_count": 2,
   "source": [
    "import pyforest"
   ],
   "outputs": [],
   "metadata": {}
  },
  {
   "cell_type": "code",
   "execution_count": 10,
   "source": [
    "no_of_childrens = [1,2,1,2,3,2,1,2,1,2,2,1,3,4,60]"
   ],
   "outputs": [],
   "metadata": {}
  },
  {
   "cell_type": "code",
   "execution_count": 11,
   "source": [
    "mn = np.mean(no_of_childrens)\r\n",
    "mn"
   ],
   "outputs": [
    {
     "output_type": "display_data",
     "data": {
      "application/javascript": "\n        if (window._pyforest_update_imports_cell) { window._pyforest_update_imports_cell('import numpy as np'); }\n    ",
      "text/plain": [
       "<IPython.core.display.Javascript object>"
      ]
     },
     "metadata": {}
    },
    {
     "output_type": "execute_result",
     "data": {
      "text/plain": [
       "5.8"
      ]
     },
     "metadata": {},
     "execution_count": 11
    }
   ],
   "metadata": {}
  },
  {
   "cell_type": "code",
   "execution_count": 12,
   "source": [
    "sd = np.std(no_of_childrens)\r\n",
    "sd"
   ],
   "outputs": [
    {
     "output_type": "display_data",
     "data": {
      "application/javascript": "\n        if (window._pyforest_update_imports_cell) { window._pyforest_update_imports_cell('import numpy as np'); }\n    ",
      "text/plain": [
       "<IPython.core.display.Javascript object>"
      ]
     },
     "metadata": {}
    },
    {
     "output_type": "execute_result",
     "data": {
      "text/plain": [
       "14.510685717773644"
      ]
     },
     "metadata": {},
     "execution_count": 12
    }
   ],
   "metadata": {}
  },
  {
   "cell_type": "code",
   "execution_count": 13,
   "source": [
    "threshold = 3\r\n",
    "outlier = []"
   ],
   "outputs": [],
   "metadata": {}
  },
  {
   "cell_type": "code",
   "execution_count": 14,
   "source": [
    "for i in no_of_childrens:\r\n",
    "    z_score = (i - mn) / sd\r\n",
    "    print(f'childrens : {i}, Z score : {z_score}')\r\n",
    "    if z_score > threshold:\r\n",
    "        outlier.append(i)"
   ],
   "outputs": [
    {
     "output_type": "stream",
     "name": "stdout",
     "text": [
      "childrens : 1, Z score : -0.3307907078519827\n",
      "childrens : 2, Z score : -0.26187597704948634\n",
      "childrens : 1, Z score : -0.3307907078519827\n",
      "childrens : 2, Z score : -0.26187597704948634\n",
      "childrens : 3, Z score : -0.19296124624698993\n",
      "childrens : 2, Z score : -0.26187597704948634\n",
      "childrens : 1, Z score : -0.3307907078519827\n",
      "childrens : 2, Z score : -0.26187597704948634\n",
      "childrens : 1, Z score : -0.3307907078519827\n",
      "childrens : 2, Z score : -0.26187597704948634\n",
      "childrens : 2, Z score : -0.26187597704948634\n",
      "childrens : 1, Z score : -0.3307907078519827\n",
      "childrens : 3, Z score : -0.19296124624698993\n",
      "childrens : 4, Z score : -0.12404651544449352\n",
      "childrens : 60, Z score : 3.7351784094953056\n"
     ]
    }
   ],
   "metadata": {}
  },
  {
   "cell_type": "code",
   "execution_count": 15,
   "source": [
    "outlier"
   ],
   "outputs": [
    {
     "output_type": "execute_result",
     "data": {
      "text/plain": [
       "[60]"
      ]
     },
     "metadata": {},
     "execution_count": 15
    }
   ],
   "metadata": {}
  },
  {
   "cell_type": "code",
   "execution_count": null,
   "source": [],
   "outputs": [],
   "metadata": {}
  }
 ],
 "metadata": {
  "orig_nbformat": 4,
  "language_info": {
   "name": "python",
   "version": "3.6.13",
   "mimetype": "text/x-python",
   "codemirror_mode": {
    "name": "ipython",
    "version": 3
   },
   "pygments_lexer": "ipython3",
   "nbconvert_exporter": "python",
   "file_extension": ".py"
  },
  "kernelspec": {
   "name": "python3",
   "display_name": "Python 3.6.13 64-bit ('krish_env': conda)"
  },
  "interpreter": {
   "hash": "07d4a02be52250fb5d80ac16376ae958b8cd5644e343d2bca7d27b711e010f4c"
  }
 },
 "nbformat": 4,
 "nbformat_minor": 2
}